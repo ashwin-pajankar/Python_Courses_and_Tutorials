{
 "cells": [
  {
   "cell_type": "code",
   "execution_count": 1,
   "metadata": {},
   "outputs": [],
   "source": [
    "from plotly.offline import plot\n",
    "import plotly.graph_objs as go"
   ]
  },
  {
   "cell_type": "markdown",
   "metadata": {},
   "source": [
    "# Basic Carpet plot"
   ]
  },
  {
   "cell_type": "code",
   "execution_count": 2,
   "metadata": {},
   "outputs": [
    {
     "data": {
      "text/plain": [
       "'file://D:\\\\19 Python and Plot.ly Scientific Visualization\\\\CodeBundle\\\\Section 17\\\\temp-plot.html'"
      ]
     },
     "execution_count": 2,
     "metadata": {},
     "output_type": "execute_result"
    }
   ],
   "source": [
    "trace1 = go.Carpet(\n",
    "    a = [4, 4, 4, 4.5, 4.5, 4.5, 5, 5, 5, 6, 6, 6],\n",
    "    b = [1, 2, 3, 1, 2, 3, 1, 2, 3, 1, 2, 3],\n",
    "    y = [2, 3.5, 4, 3, 4.5, 5, 5.5, 6.5, 7.5, 8, 8.5, 10],\n",
    "    aaxis = dict(\n",
    "      tickprefix = 'a = ',\n",
    "      ticksuffix = 'm',\n",
    "      smoothing = 1,\n",
    "      minorgridcount = 9\n",
    "      ),\n",
    "    baxis = dict(\n",
    "      tickprefix = 'b = ',\n",
    "      ticksuffix = 'Pa',\n",
    "      smoothing = 1,\n",
    "      minorgridcount = 9\n",
    "      )\n",
    "    )\n",
    "\n",
    "data = [trace1]\n",
    "\n",
    "fig = go.Figure(data = data)\n",
    "plot(fig)"
   ]
  },
  {
   "cell_type": "markdown",
   "metadata": {},
   "source": [
    "# Add Carpet Scatter Trace"
   ]
  },
  {
   "cell_type": "code",
   "execution_count": 3,
   "metadata": {},
   "outputs": [
    {
     "data": {
      "text/plain": [
       "'file://D:\\\\19 Python and Plot.ly Scientific Visualization\\\\CodeBundle\\\\Section 17\\\\temp-plot.html'"
      ]
     },
     "execution_count": 3,
     "metadata": {},
     "output_type": "execute_result"
    }
   ],
   "source": [
    "trace1 = go.Carpet(\n",
    "    a = [4, 4, 4, 4.5, 4.5, 4.5, 5, 5, 5, 6, 6, 6],\n",
    "    b = [1, 2, 3, 1, 2, 3, 1, 2, 3, 1, 2, 3],\n",
    "    y = [2, 3.5, 4, 3, 4.5, 5, 5.5, 6.5, 7.5, 8, 8.5, 10],\n",
    "    aaxis = dict(\n",
    "      tickprefix = 'a = ',\n",
    "      ticksuffix = 'm',\n",
    "      smoothing = 1,\n",
    "      minorgridcount = 9\n",
    "      ),\n",
    "    baxis = dict(\n",
    "      tickprefix = 'b = ',\n",
    "      ticksuffix = 'Pa',\n",
    "      smoothing = 1,\n",
    "      minorgridcount = 9\n",
    "      )\n",
    "    )\n",
    "\n",
    "trace2 = go.Scattercarpet(\n",
    "    a = [4, 4.5, 5, 6],\n",
    "    b = [2.5, 2.5, 2.5, 2.5],\n",
    "    line = dict(\n",
    "      shape = 'spline',\n",
    "      smoothing = 1,\n",
    "      color = 'blue'\n",
    "    )\n",
    "  )\n",
    "\n",
    "data = [trace1,trace2]\n",
    "\n",
    "fig = go.Figure(data = data)\n",
    "plot(fig)"
   ]
  },
  {
   "cell_type": "markdown",
   "metadata": {},
   "source": [
    "# Add Multiple Scatter Traces"
   ]
  },
  {
   "cell_type": "code",
   "execution_count": 4,
   "metadata": {},
   "outputs": [
    {
     "data": {
      "text/plain": [
       "'file://D:\\\\19 Python and Plot.ly Scientific Visualization\\\\CodeBundle\\\\Section 17\\\\temp-plot.html'"
      ]
     },
     "execution_count": 4,
     "metadata": {},
     "output_type": "execute_result"
    }
   ],
   "source": [
    "trace1 = go.Carpet(\n",
    "    a = [0.1,0.2,0.3],\n",
    "    b = [1,2,3],\n",
    "    y = [[1,2.2,3],[1.5,2.7,3.5],[1.7,2.9,3.7]],\n",
    "    cheaterslope = 1,\n",
    "    aaxis = dict(\n",
    "        title = \"a\",\n",
    "        tickmode = \"linear\",\n",
    "        dtick = 0.05\n",
    "    ),\n",
    "    baxis = dict(\n",
    "        title = \"b\",\n",
    "        tickmode = \"linear\",\n",
    "        dtick = 0.05\n",
    "    )\n",
    ")\n",
    "\n",
    "trace2 = go.Scattercarpet(\n",
    "    name = \"b = 1.5\",\n",
    "    a = [0.05, 0.15, 0.25, 0.35],\n",
    "    b = [1.5, 1.5, 1.5, 1.5]\n",
    ")\n",
    "\n",
    "trace3 = go.Scattercarpet(\n",
    "    name = \"b = 2\",\n",
    "    a = [0.05, 0.15, 0.25, 0.35],\n",
    "    b = [2, 2, 2, 2]\n",
    ")\n",
    "\n",
    "trace4 = go.Scattercarpet(\n",
    "    name = \"b = 2.5\",\n",
    "    a = [0.05, 0.15, 0.25, 0.35],\n",
    "    b = [2.5, 2.5, 2.5, 2.5]\n",
    ")\n",
    "\n",
    "trace5 = go.Scattercarpet(\n",
    "    name = \"a = 0.15\",\n",
    "    a = [0.15, 0.15, 0.15, 0.15],\n",
    "    b = [0.5, 1.5, 2.5, 3.5],\n",
    "    line = dict(\n",
    "        smoothing = 1,\n",
    "        shape = \"spline\"\n",
    "    )\n",
    ")\n",
    "\n",
    "trace6 = go.Scattercarpet(\n",
    "    name = \"a = 0.2\",\n",
    "    a = [0.2, 0.2, 0.2, 0.2],\n",
    "    b = [0.5, 1.5, 2.5, 3.5],\n",
    "    line = dict(\n",
    "        smoothing = 1,\n",
    "        shape = \"spline\"\n",
    "    ),\n",
    "      marker = dict(\n",
    "        size = [10, 20, 30, 40],\n",
    "        color = [\"#000\", \"#f00\", \"#ff0\", \"#fff\"]\n",
    "      )\n",
    ")\n",
    "\n",
    "trace7 = go.Scattercarpet(\n",
    "    name = \"a = 0.25\",\n",
    "    a = [0.25, 0.25, 0.25, 0.25],\n",
    "    b = [0.5, 1.5, 2.5, 3.5],\n",
    "    line = dict(\n",
    "        smoothing = 1,\n",
    "        shape = \"spline\"\n",
    "    )\n",
    ")\n",
    "\n",
    "layout = go.Layout(\n",
    "    title = \"scattercarpet extrapolation, clipping, and smoothing\",\n",
    "    hovermode = \"closest\"\n",
    ")\n",
    "\n",
    "data = [trace1,trace2,trace3,trace4,trace5,trace6,trace7]\n",
    "\n",
    "fig = go.Figure(data = data, layout = layout)\n",
    "plot(fig)"
   ]
  },
  {
   "cell_type": "code",
   "execution_count": null,
   "metadata": {},
   "outputs": [],
   "source": []
  }
 ],
 "metadata": {
  "kernelspec": {
   "display_name": "Python 3",
   "language": "python",
   "name": "python3"
  },
  "language_info": {
   "codemirror_mode": {
    "name": "ipython",
    "version": 3
   },
   "file_extension": ".py",
   "mimetype": "text/x-python",
   "name": "python",
   "nbconvert_exporter": "python",
   "pygments_lexer": "ipython3",
   "version": "3.7.0"
  }
 },
 "nbformat": 4,
 "nbformat_minor": 2
}
