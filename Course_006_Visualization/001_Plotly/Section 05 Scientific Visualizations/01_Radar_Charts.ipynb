{
 "cells": [
  {
   "cell_type": "code",
   "execution_count": 1,
   "metadata": {},
   "outputs": [],
   "source": [
    "from plotly.offline import plot\n",
    "import plotly.graph_objs as go"
   ]
  },
  {
   "cell_type": "markdown",
   "metadata": {},
   "source": [
    "# Basic Radar"
   ]
  },
  {
   "cell_type": "code",
   "execution_count": 2,
   "metadata": {},
   "outputs": [
    {
     "data": {
      "text/plain": [
       "'file://D:\\\\19 Python and Plot.ly Scientific Visualization\\\\CodeBundle\\\\Section 17\\\\temp-plot.html'"
      ]
     },
     "execution_count": 2,
     "metadata": {},
     "output_type": "execute_result"
    }
   ],
   "source": [
    "trace = go.Scatterpolar(\n",
    "r = [39, 28, 8, 7, 28, 39],\n",
    "theta =['A', 'B', 'C', 'D', 'E', 'A'],\n",
    "fill = 'toself')\n",
    "\n",
    "data = [trace]\n",
    "\n",
    "layout = go.Layout(\n",
    "polar = dict(\n",
    "radialaxis = dict(\n",
    "visible = True,\n",
    "range = [0, 50])),\n",
    "showlegend=False)\n",
    "fig = go.Figure(data=data, layout=layout)\n",
    "plot(fig)"
   ]
  },
  {
   "cell_type": "markdown",
   "metadata": {},
   "source": [
    "# Multiple Trace Radar Chart"
   ]
  },
  {
   "cell_type": "code",
   "execution_count": 4,
   "metadata": {},
   "outputs": [
    {
     "data": {
      "text/plain": [
       "'file://D:\\\\19 Python and Plot.ly Scientific Visualization\\\\CodeBundle\\\\Section 17\\\\temp-plot.html'"
      ]
     },
     "execution_count": 4,
     "metadata": {},
     "output_type": "execute_result"
    }
   ],
   "source": [
    "trace1 = go.Scatterpolar(\n",
    "      r = [39, 28, 8, 7, 28, 39],\n",
    "      theta = ['A','B','C', 'D', 'E', 'A'],\n",
    "      fill = 'toself',\n",
    "      name = 'Group A'\n",
    "    )\n",
    "trace2 = go.Scatterpolar(\n",
    "      r = [1.5, 10, 39, 31, 15, 1.5],\n",
    "      theta = ['A','B','C', 'D', 'E', 'A'],\n",
    "      fill = 'toself',\n",
    "      name = 'Group B'\n",
    "    )\n",
    "data = [trace1, trace2]\n",
    "\n",
    "layout = go.Layout(\n",
    "  polar = dict(\n",
    "    radialaxis = dict(\n",
    "      visible = True,\n",
    "      range = [0, 50]\n",
    "    )\n",
    "  ),\n",
    "  showlegend = True\n",
    ")\n",
    "\n",
    "fig = go.Figure(data=data, layout=layout)\n",
    "plot(fig)"
   ]
  },
  {
   "cell_type": "code",
   "execution_count": null,
   "metadata": {},
   "outputs": [],
   "source": []
  }
 ],
 "metadata": {
  "kernelspec": {
   "display_name": "Python 3",
   "language": "python",
   "name": "python3"
  },
  "language_info": {
   "codemirror_mode": {
    "name": "ipython",
    "version": 3
   },
   "file_extension": ".py",
   "mimetype": "text/x-python",
   "name": "python",
   "nbconvert_exporter": "python",
   "pygments_lexer": "ipython3",
   "version": "3.7.0"
  }
 },
 "nbformat": 4,
 "nbformat_minor": 2
}
