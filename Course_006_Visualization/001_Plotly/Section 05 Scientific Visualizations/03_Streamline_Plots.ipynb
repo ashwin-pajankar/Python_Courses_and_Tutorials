{
 "cells": [
  {
   "cell_type": "code",
   "execution_count": 1,
   "metadata": {},
   "outputs": [],
   "source": [
    "from plotly.offline import plot\n",
    "import plotly.graph_objs as go\n",
    "import plotly.figure_factory as ff\n",
    "import numpy as np"
   ]
  },
  {
   "cell_type": "markdown",
   "metadata": {},
   "source": [
    "# Basic Streamline Plot"
   ]
  },
  {
   "cell_type": "code",
   "execution_count": 4,
   "metadata": {},
   "outputs": [
    {
     "data": {
      "text/plain": [
       "'file://D:\\\\19 Python and Plot.ly Scientific Visualization\\\\CodeBundle\\\\Section 17\\\\temp-plot.html'"
      ]
     },
     "execution_count": 4,
     "metadata": {},
     "output_type": "execute_result"
    }
   ],
   "source": [
    "x = y = np.linspace(-3, 3, 100)\n",
    "Y, X = np.meshgrid (x, y)\n",
    "\n",
    "u = -1 - X**3 + Y\n",
    "v = 1 + X - Y**4\n",
    "\n",
    "fig = ff.create_streamline(x, y, u, v, arrow_scale=0.1)\n",
    "plot(fig)"
   ]
  },
  {
   "cell_type": "code",
   "execution_count": null,
   "metadata": {},
   "outputs": [],
   "source": []
  }
 ],
 "metadata": {
  "kernelspec": {
   "display_name": "Python 3",
   "language": "python",
   "name": "python3"
  },
  "language_info": {
   "codemirror_mode": {
    "name": "ipython",
    "version": 3
   },
   "file_extension": ".py",
   "mimetype": "text/x-python",
   "name": "python",
   "nbconvert_exporter": "python",
   "pygments_lexer": "ipython3",
   "version": "3.7.0"
  }
 },
 "nbformat": 4,
 "nbformat_minor": 2
}
