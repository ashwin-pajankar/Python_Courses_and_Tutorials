{
 "cells": [
  {
   "cell_type": "code",
   "execution_count": 1,
   "metadata": {},
   "outputs": [],
   "source": [
    "from plotly.offline import plot\n",
    "import plotly.graph_objs as go"
   ]
  },
  {
   "cell_type": "markdown",
   "metadata": {},
   "source": [
    "# Windrose"
   ]
  },
  {
   "cell_type": "code",
   "execution_count": 2,
   "metadata": {},
   "outputs": [
    {
     "data": {
      "text/plain": [
       "'file://D:\\\\19 Python and Plot.ly Scientific Visualization\\\\CodeBundle\\\\Section 17\\\\polar-area-chart.html'"
      ]
     },
     "execution_count": 2,
     "metadata": {},
     "output_type": "execute_result"
    }
   ],
   "source": [
    "trace1 = go.Barpolar(\n",
    "    r=[77.5, 72.5, 70.0, 45.0, \n",
    "       22.5, 42.5, 40.0, 62.5],\n",
    "    text=['North', 'N-E', 'East', \n",
    "          'S-E', 'South', 'S-W', \n",
    "          'West', 'N-W'],\n",
    "    name='11-14 m/s',\n",
    "    marker=dict(\n",
    "        color='rgb(106,81,163)'\n",
    "    )\n",
    ")\n",
    "trace2 = go.Barpolar(\n",
    "    r=[57.49999999999999, 50.0, \n",
    "       45.0, 35.0, 20.0, 22.5, \n",
    "       37.5, 55.00000000000001],\n",
    "    text=['North', 'N-E', 'East', \n",
    "          'S-E', 'South', 'S-W', \n",
    "          'West', 'N-W'],\n",
    "    name='8-11 m/s',\n",
    "    marker=dict(\n",
    "        color='rgb(158,154,200)'\n",
    "    )\n",
    ")\n",
    "trace3 = go.Barpolar(\n",
    "    r=[40.0, 30.0, 30.0, 35.0, \n",
    "       7.5, 7.5, 32.5, 40.0],\n",
    "    text=['North', 'N-E', 'East', \n",
    "          'S-E', 'South', 'S-W', \n",
    "          'West', 'N-W'],\n",
    "    name='5-8 m/s',\n",
    "    marker=dict(\n",
    "        color='rgb(203,201,226)'\n",
    "    )\n",
    ")\n",
    "trace4 = go.Barpolar(\n",
    "    r=[20.0, 7.5, 15.0, 22.5, \n",
    "       2.5, 2.5, 12.5, 22.5],\n",
    "    text=['North', 'N-E', 'East', \n",
    "          'S-E', 'South', 'S-W', \n",
    "          'West', 'N-W'],\n",
    "    name='< 5 m/s',\n",
    "    marker=dict(\n",
    "        color='rgb(242,240,247)'\n",
    "    )\n",
    ")\n",
    "data = [trace1, trace2, trace3, trace4]\n",
    "layout = go.Layout(\n",
    "    title='Wind Speed Distribution in Laurel, NE',\n",
    "    font=dict(\n",
    "        size=16\n",
    "    ),\n",
    "    legend=dict(\n",
    "        font=dict(\n",
    "            size=16\n",
    "        )\n",
    "    ),\n",
    "    radialaxis=dict(\n",
    "        ticksuffix='%'\n",
    "    ),\n",
    "    orientation=270\n",
    ")\n",
    "fig = go.Figure(data=data, layout=layout)\n",
    "plot(fig, filename='polar-area-chart.html')"
   ]
  },
  {
   "cell_type": "code",
   "execution_count": null,
   "metadata": {},
   "outputs": [],
   "source": []
  }
 ],
 "metadata": {
  "kernelspec": {
   "display_name": "Python 3",
   "language": "python",
   "name": "python3"
  },
  "language_info": {
   "codemirror_mode": {
    "name": "ipython",
    "version": 3
   },
   "file_extension": ".py",
   "mimetype": "text/x-python",
   "name": "python",
   "nbconvert_exporter": "python",
   "pygments_lexer": "ipython3",
   "version": "3.7.0"
  }
 },
 "nbformat": 4,
 "nbformat_minor": 2
}
