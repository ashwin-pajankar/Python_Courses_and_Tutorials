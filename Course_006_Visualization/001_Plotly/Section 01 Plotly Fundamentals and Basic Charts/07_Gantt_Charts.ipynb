{
 "cells": [
  {
   "cell_type": "code",
   "execution_count": null,
   "metadata": {},
   "outputs": [],
   "source": [
    "from plotly.offline import plot\n",
    "import plotly.graph_objs as go\n",
    "import plotly.figure_factory as ff"
   ]
  },
  {
   "cell_type": "markdown",
   "metadata": {},
   "source": [
    "# Gantt Charts in Python"
   ]
  },
  {
   "cell_type": "code",
   "execution_count": null,
   "metadata": {},
   "outputs": [],
   "source": [
    "df = [dict(Task=\"Job A\", Start='2009-01-01', \n",
    "           Finish='2009-02-28'),\n",
    "      dict(Task=\"Job B\", Start='2009-03-05', \n",
    "           Finish='2009-04-15'),\n",
    "      dict(Task=\"Job C\", Start='2009-02-20', \n",
    "           Finish='2009-05-30')]\n",
    "\n",
    "fig = ff.create_gantt(df)\n",
    "plot(fig)"
   ]
  },
  {
   "cell_type": "markdown",
   "metadata": {},
   "source": [
    "# Index by Numeric Variable"
   ]
  },
  {
   "cell_type": "code",
   "execution_count": null,
   "metadata": {},
   "outputs": [],
   "source": [
    "df = [dict(Task=\"Job A\", Start='2009-01-01', \n",
    "           Finish='2009-02-28', Complete=10),\n",
    "      dict(Task=\"Job B\", Start='2008-12-05', \n",
    "           Finish='2009-04-15', Complete=60),\n",
    "      dict(Task=\"Job C\", Start='2009-02-20', \n",
    "           Finish='2009-05-30', Complete=95)]\n",
    "\n",
    "fig = ff.create_gantt(df, colors='Viridis', \n",
    "                      index_col='Complete', \n",
    "                      show_colorbar=True)\n",
    "plot(fig)"
   ]
  },
  {
   "cell_type": "markdown",
   "metadata": {},
   "source": [
    "# Index by String Variable"
   ]
  },
  {
   "cell_type": "code",
   "execution_count": null,
   "metadata": {},
   "outputs": [],
   "source": [
    "df = [dict(Task=\"Job A\", Start='2009-01-01', \n",
    "           Finish='2009-02-01', Resource='Apple'),\n",
    "      dict(Task=\"Job B\", Start='2009-03-05', \n",
    "           Finish='2009-04-15', Resource='Grape'),\n",
    "      dict(Task=\"Job C\", Start='2009-04-20', \n",
    "           Finish='2009-09-30', Resource='Banana')]\n",
    "\n",
    "colors = ['#7a0504', (0.2, 0.7, 0.3), \n",
    "          'rgb(210, 60, 180)']\n",
    "\n",
    "fig = ff.create_gantt(df, colors=colors, index_col='Resource', \n",
    "                      reverse_colors=True, show_colorbar=True)\n",
    "plot(fig)"
   ]
  },
  {
   "cell_type": "markdown",
   "metadata": {},
   "source": [
    "# Use a Dictionary for Colors"
   ]
  },
  {
   "cell_type": "code",
   "execution_count": null,
   "metadata": {},
   "outputs": [],
   "source": [
    "df = [dict(Task=\"Job A\", Start='2016-01-01', \n",
    "           Finish='2016-01-02', Resource='Apple'),\n",
    "      dict(Task=\"Job B\", Start='2016-01-02', \n",
    "           Finish='2016-01-04', Resource='Grape'),\n",
    "      dict(Task=\"Job C\", Start='2016-01-02', \n",
    "           Finish='2016-01-03', Resource='Banana')]\n",
    "\n",
    "colors = dict(Apple = 'rgb(220, 0, 0)',\n",
    "              Grape = 'rgb(170, 14, 200)',\n",
    "              Banana = (1, 0.9, 0.16))\n",
    "\n",
    "fig = ff.create_gantt(df, colors=colors, \n",
    "                      index_col='Resource', \n",
    "                      show_colorbar=True)\n",
    "plot(fig)"
   ]
  }
 ],
 "metadata": {
  "kernelspec": {
   "display_name": "Python 3",
   "language": "python",
   "name": "python3"
  },
  "language_info": {
   "codemirror_mode": {
    "name": "ipython",
    "version": 3
   },
   "file_extension": ".py",
   "mimetype": "text/x-python",
   "name": "python",
   "nbconvert_exporter": "python",
   "pygments_lexer": "ipython3",
   "version": "3.7.0"
  }
 },
 "nbformat": 4,
 "nbformat_minor": 2
}
