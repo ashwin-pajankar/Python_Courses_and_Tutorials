{
 "cells": [
  {
   "cell_type": "code",
   "execution_count": 1,
   "metadata": {},
   "outputs": [
    {
     "name": "stdout",
     "output_type": "stream",
     "text": [
      "Collecting pip\n",
      "  Downloading https://files.pythonhosted.org/packages/d8/f3/413bab4ff08e1fc4828dfc59996d721917df8e8583ea85385d51125dceff/pip-19.0.3-py2.py3-none-any.whl (1.4MB)\n",
      "Installing collected packages: pip\n",
      "  Found existing installation: pip 19.0.2\n",
      "    Uninstalling pip-19.0.2:\n",
      "      Successfully uninstalled pip-19.0.2\n",
      "Successfully installed pip-19.0.3\n"
     ]
    }
   ],
   "source": [
    "!python -m pip install --upgrade pip"
   ]
  },
  {
   "cell_type": "code",
   "execution_count": 2,
   "metadata": {},
   "outputs": [
    {
     "name": "stdout",
     "output_type": "stream",
     "text": [
      "Requirement already satisfied: plotly in c:\\users\\ashwin\\appdata\\local\\programs\\python\\python37-32\\lib\\site-packages (3.5.0)\n",
      "Requirement already satisfied: pytz in c:\\users\\ashwin\\appdata\\local\\programs\\python\\python37-32\\lib\\site-packages (from plotly) (2018.7)\n",
      "Requirement already satisfied: retrying>=1.3.3 in c:\\users\\ashwin\\appdata\\local\\programs\\python\\python37-32\\lib\\site-packages (from plotly) (1.3.3)\n",
      "Requirement already satisfied: six in c:\\users\\ashwin\\appdata\\local\\programs\\python\\python37-32\\lib\\site-packages (from plotly) (1.11.0)\n",
      "Requirement already satisfied: nbformat>=4.2 in c:\\users\\ashwin\\appdata\\local\\programs\\python\\python37-32\\lib\\site-packages (from plotly) (4.4.0)\n",
      "Requirement already satisfied: requests in c:\\users\\ashwin\\appdata\\local\\programs\\python\\python37-32\\lib\\site-packages (from plotly) (2.21.0)\n",
      "Requirement already satisfied: decorator>=4.0.6 in c:\\users\\ashwin\\appdata\\local\\programs\\python\\python37-32\\lib\\site-packages (from plotly) (4.3.0)\n",
      "Requirement already satisfied: jsonschema!=2.5.0,>=2.4 in c:\\users\\ashwin\\appdata\\local\\programs\\python\\python37-32\\lib\\site-packages (from nbformat>=4.2->plotly) (2.6.0)\n",
      "Requirement already satisfied: jupyter-core in c:\\users\\ashwin\\appdata\\local\\programs\\python\\python37-32\\lib\\site-packages (from nbformat>=4.2->plotly) (4.4.0)\n",
      "Requirement already satisfied: ipython-genutils in c:\\users\\ashwin\\appdata\\local\\programs\\python\\python37-32\\lib\\site-packages (from nbformat>=4.2->plotly) (0.2.0)\n",
      "Requirement already satisfied: traitlets>=4.1 in c:\\users\\ashwin\\appdata\\local\\programs\\python\\python37-32\\lib\\site-packages (from nbformat>=4.2->plotly) (4.3.2)\n",
      "Requirement already satisfied: idna<2.9,>=2.5 in c:\\users\\ashwin\\appdata\\local\\programs\\python\\python37-32\\lib\\site-packages (from requests->plotly) (2.8)\n",
      "Requirement already satisfied: urllib3<1.25,>=1.21.1 in c:\\users\\ashwin\\appdata\\local\\programs\\python\\python37-32\\lib\\site-packages (from requests->plotly) (1.24.1)\n",
      "Requirement already satisfied: certifi>=2017.4.17 in c:\\users\\ashwin\\appdata\\local\\programs\\python\\python37-32\\lib\\site-packages (from requests->plotly) (2018.11.29)\n",
      "Requirement already satisfied: chardet<3.1.0,>=3.0.2 in c:\\users\\ashwin\\appdata\\local\\programs\\python\\python37-32\\lib\\site-packages (from requests->plotly) (3.0.4)\n"
     ]
    }
   ],
   "source": [
    "!pip3 install plotly"
   ]
  },
  {
   "cell_type": "code",
   "execution_count": 3,
   "metadata": {},
   "outputs": [],
   "source": [
    "import plotly"
   ]
  },
  {
   "cell_type": "code",
   "execution_count": 4,
   "metadata": {},
   "outputs": [
    {
     "data": {
      "text/plain": [
       "'3.5.0'"
      ]
     },
     "execution_count": 4,
     "metadata": {},
     "output_type": "execute_result"
    }
   ],
   "source": [
    "plotly.__version__"
   ]
  },
  {
   "cell_type": "code",
   "execution_count": null,
   "metadata": {},
   "outputs": [],
   "source": []
  }
 ],
 "metadata": {
  "kernelspec": {
   "display_name": "Python 3",
   "language": "python",
   "name": "python3"
  },
  "language_info": {
   "codemirror_mode": {
    "name": "ipython",
    "version": 3
   },
   "file_extension": ".py",
   "mimetype": "text/x-python",
   "name": "python",
   "nbconvert_exporter": "python",
   "pygments_lexer": "ipython3",
   "version": "3.7.0"
  }
 },
 "nbformat": 4,
 "nbformat_minor": 2
}
