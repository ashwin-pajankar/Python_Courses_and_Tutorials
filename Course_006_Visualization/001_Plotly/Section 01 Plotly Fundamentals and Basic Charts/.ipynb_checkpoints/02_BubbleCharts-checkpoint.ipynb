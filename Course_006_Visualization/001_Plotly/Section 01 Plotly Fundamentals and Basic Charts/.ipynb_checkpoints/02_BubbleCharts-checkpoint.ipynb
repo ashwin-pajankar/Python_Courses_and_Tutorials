{
 "cells": [
  {
   "cell_type": "code",
   "execution_count": 8,
   "metadata": {},
   "outputs": [],
   "source": [
    "from plotly.offline import plot\n",
    "import plotly.graph_objs as go"
   ]
  },
  {
   "cell_type": "markdown",
   "metadata": {},
   "source": [
    "# Simple Bubble Charts"
   ]
  },
  {
   "cell_type": "code",
   "execution_count": 9,
   "metadata": {},
   "outputs": [
    {
     "data": {
      "text/plain": [
       "'file://D:\\\\12 Python Masterclass\\\\CodeBundle\\\\Section 39 Plotly Fundamentals and Basic Charts\\\\bubblechart.html'"
      ]
     },
     "execution_count": 9,
     "metadata": {},
     "output_type": "execute_result"
    }
   ],
   "source": [
    "trace0 = go.Scatter(\n",
    "x = [1, 2, 3, 4],\n",
    "y = [10, 20, 30, 40],\n",
    "mode='markers',\n",
    "marker=dict(\n",
    "size=[20, 30, 40, 50]))\n",
    "\n",
    "data = [trace0]\n",
    "plot(data, filename='bubblechart.html')"
   ]
  },
  {
   "cell_type": "markdown",
   "metadata": {},
   "source": [
    "# Setting Marker Size and Color"
   ]
  },
  {
   "cell_type": "code",
   "execution_count": 10,
   "metadata": {},
   "outputs": [
    {
     "data": {
      "text/plain": [
       "'file://D:\\\\12 Python Masterclass\\\\CodeBundle\\\\Section 39 Plotly Fundamentals and Basic Charts\\\\bubblechart-size.html'"
      ]
     },
     "execution_count": 10,
     "metadata": {},
     "output_type": "execute_result"
    }
   ],
   "source": [
    "trace0 = go.Scatter(\n",
    "    x=[1, 2, 3, 4],\n",
    "    y=[10, 20, 30, 40],\n",
    "    mode='markers',\n",
    "    marker=dict(\n",
    "        color=['rgb(93, 164, 214)', 'rgb(255, 144, 14)',\n",
    "               'rgb(44, 160, 101)', 'rgb(255, 65, 54)'],\n",
    "        opacity=[1, 0.8, 0.6, 0.4],\n",
    "        size=[20, 30, 40, 50]\n",
    "    )\n",
    ")\n",
    "\n",
    "data = [trace0]\n",
    "plot(data, filename='bubblechart-size')"
   ]
  },
  {
   "cell_type": "markdown",
   "metadata": {},
   "source": [
    "# Scaling the Size of Bubble Charts"
   ]
  },
  {
   "cell_type": "code",
   "execution_count": 11,
   "metadata": {},
   "outputs": [
    {
     "data": {
      "text/plain": [
       "'file://D:\\\\12 Python Masterclass\\\\CodeBundle\\\\Section 39 Plotly Fundamentals and Basic Charts\\\\bubblechart-size-ref.html'"
      ]
     },
     "execution_count": 11,
     "metadata": {},
     "output_type": "execute_result"
    }
   ],
   "source": [
    "size = [20, 40, 60, 80, 100, 80, 60, 40, 20, 40]\n",
    "trace0 = go.Scatter(\n",
    "    x=[1, 2, 3, 4, 5, 6, 7, 8, 9, 10],\n",
    "    y=[11, 12, 10, 11, 12, 11, 12, 13, 12, 11],\n",
    "    mode='markers',\n",
    "    marker=dict(\n",
    "        color=['rgb(93, 164, 214)', 'rgb(255, 144, 14)',\n",
    "               'rgb(98, 54, 114)', 'rgb(45, 244, 134)',\n",
    "               'rgb(73, 134, 217)', 'rgb(235, 144, 14)',\n",
    "               'rgb(63, 164, 54)', 'rgb(215, 146, 78)',\n",
    "               'rgb(44, 160, 101)', 'rgb(255, 65, 54)'],\n",
    "        size=size,\n",
    "        sizemode='area',\n",
    "        sizeref=2.*max(size)/(40.**2),\n",
    "        sizemin=4\n",
    "    )\n",
    ")\n",
    "\n",
    "data = [trace0]\n",
    "plot(data, filename='bubblechart-size-ref.html')"
   ]
  },
  {
   "cell_type": "markdown",
   "metadata": {},
   "source": [
    "# Hover Text with Bubble Charts"
   ]
  },
  {
   "cell_type": "code",
   "execution_count": 13,
   "metadata": {},
   "outputs": [
    {
     "data": {
      "text/plain": [
       "'file://D:\\\\12 Python Masterclass\\\\CodeBundle\\\\Section 39 Plotly Fundamentals and Basic Charts\\\\bubblechart-text.html'"
      ]
     },
     "execution_count": 13,
     "metadata": {},
     "output_type": "execute_result"
    }
   ],
   "source": [
    "trace0 = go.Scatter(\n",
    "    x=[1, 2, 3, 4],\n",
    "    y=[10, 11, 12, 13],\n",
    "    text=['A<br>size: 40', 'B<br>size: 60', 'C<br>size: 80', 'D<br>size: 100'],\n",
    "    mode='markers',\n",
    "    marker=dict(\n",
    "        color=['rgb(93, 164, 214)', 'rgb(255, 144, 14)',  \n",
    "               'rgb(44, 160, 101)', 'rgb(255, 65, 54)'],\n",
    "        size=[40, 60, 80, 100],\n",
    "    )\n",
    ")\n",
    "\n",
    "data = [trace0]\n",
    "plot(data, filename='bubblechart-text.html')"
   ]
  },
  {
   "cell_type": "markdown",
   "metadata": {},
   "source": [
    "# Bubble Charts with Colorscale"
   ]
  },
  {
   "cell_type": "code",
   "execution_count": 15,
   "metadata": {},
   "outputs": [
    {
     "data": {
      "text/plain": [
       "'file://D:\\\\12 Python Masterclass\\\\CodeBundle\\\\Section 39 Plotly Fundamentals and Basic Charts\\\\scatter-colorscale.html'"
      ]
     },
     "execution_count": 15,
     "metadata": {},
     "output_type": "execute_result"
    }
   ],
   "source": [
    "data = [\n",
    "    {\n",
    "        'x': [1, 3.2, 5.4, 7.6, 9.8, 12.5],\n",
    "        'y': [1, 3.2, 5.4, 7.6, 9.8, 12.5],\n",
    "        'mode': 'markers',\n",
    "        'marker': {\n",
    "            'color': [120, 125, 130, 135, 140, 145],\n",
    "            'size': [15, 30, 55, 70, 90, 110],\n",
    "            'showscale': True\n",
    "        }\n",
    "    }\n",
    "]\n",
    "\n",
    "plot(data, filename='scatter-colorscale.html')"
   ]
  }
 ],
 "metadata": {
  "kernelspec": {
   "display_name": "Python 3",
   "language": "python",
   "name": "python3"
  },
  "language_info": {
   "codemirror_mode": {
    "name": "ipython",
    "version": 3
   },
   "file_extension": ".py",
   "mimetype": "text/x-python",
   "name": "python",
   "nbconvert_exporter": "python",
   "pygments_lexer": "ipython3",
   "version": "3.7.0"
  }
 },
 "nbformat": 4,
 "nbformat_minor": 2
}
