{
 "cells": [
  {
   "cell_type": "code",
   "execution_count": null,
   "metadata": {},
   "outputs": [],
   "source": [
    "from plotly.offline import plot\n",
    "import plotly.graph_objs as go"
   ]
  },
  {
   "cell_type": "markdown",
   "metadata": {},
   "source": [
    "# Line Chart and a Bar Chart"
   ]
  },
  {
   "cell_type": "code",
   "execution_count": null,
   "metadata": {},
   "outputs": [],
   "source": [
    "trace1 = go.Scatter(\n",
    "    x=[0, 1, 2, 3, 4, 5],\n",
    "    y=[1.5, 1, 1.3, 0.7, 0.8, 0.9]\n",
    ")\n",
    "trace2 = go.Bar(\n",
    "    x=[0, 1, 2, 3, 4, 5],\n",
    "    y=[1, 0.5, 0.7, -1.2, 0.3, 0.4]\n",
    ")\n",
    "\n",
    "data = [trace1, trace2]\n",
    "plot(data, filename='bar-line')"
   ]
  },
  {
   "cell_type": "code",
   "execution_count": null,
   "metadata": {},
   "outputs": [],
   "source": [
    "import json\n",
    "import six.moves.urllib\n",
    "\n",
    "response = six.moves.urllib.request.urlopen('https://raw.githubusercontent.com/plotly/datasets/master/steepest.json')\n",
    "data = json.load(response)\n",
    "\n",
    "trace1 = go.Contour(\n",
    "    z=data['contour_z'][0],\n",
    "    y=data['contour_y'][0],\n",
    "    x=data['contour_x'][0],\n",
    "    ncontours=30,\n",
    "    showscale=False\n",
    ")\n",
    "trace2 = go.Scatter(\n",
    "    x=data['trace_x'],\n",
    "    y=data['trace_y'],\n",
    "    mode='markers+lines',\n",
    "    name='steepest',\n",
    "    line=dict(\n",
    "        color='black'\n",
    "    )\n",
    ")\n",
    "\n",
    "data = [trace1, trace2]\n",
    "plot(data, filename='contour-scatter')"
   ]
  }
 ],
 "metadata": {
  "kernelspec": {
   "display_name": "Python 3",
   "language": "python",
   "name": "python3"
  },
  "language_info": {
   "codemirror_mode": {
    "name": "ipython",
    "version": 3
   },
   "file_extension": ".py",
   "mimetype": "text/x-python",
   "name": "python",
   "nbconvert_exporter": "python",
   "pygments_lexer": "ipython3",
   "version": "3.7.0"
  }
 },
 "nbformat": 4,
 "nbformat_minor": 2
}
