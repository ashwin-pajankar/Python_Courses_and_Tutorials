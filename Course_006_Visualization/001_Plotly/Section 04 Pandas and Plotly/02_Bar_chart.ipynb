{
 "cells": [
  {
   "cell_type": "code",
   "execution_count": 4,
   "metadata": {},
   "outputs": [],
   "source": [
    "import pandas as pd\n",
    "import numpy as np\n",
    "from plotly.offline import plot\n",
    "import plotly.graph_objs as go"
   ]
  },
  {
   "cell_type": "markdown",
   "metadata": {},
   "source": [
    "# Basic horizontal bar chart"
   ]
  },
  {
   "cell_type": "code",
   "execution_count": 5,
   "metadata": {},
   "outputs": [
    {
     "data": {
      "text/html": [
       "<div>\n",
       "<style scoped>\n",
       "    .dataframe tbody tr th:only-of-type {\n",
       "        vertical-align: middle;\n",
       "    }\n",
       "\n",
       "    .dataframe tbody tr th {\n",
       "        vertical-align: top;\n",
       "    }\n",
       "\n",
       "    .dataframe thead th {\n",
       "        text-align: right;\n",
       "    }\n",
       "</style>\n",
       "<table border=\"1\" class=\"dataframe\">\n",
       "  <thead>\n",
       "    <tr style=\"text-align: right;\">\n",
       "      <th></th>\n",
       "      <th>x</th>\n",
       "      <th>y</th>\n",
       "    </tr>\n",
       "  </thead>\n",
       "  <tbody>\n",
       "    <tr>\n",
       "      <th>0</th>\n",
       "      <td>0.000000</td>\n",
       "      <td>0.281262</td>\n",
       "    </tr>\n",
       "    <tr>\n",
       "      <th>1</th>\n",
       "      <td>0.052632</td>\n",
       "      <td>2.074166</td>\n",
       "    </tr>\n",
       "    <tr>\n",
       "      <th>2</th>\n",
       "      <td>0.105263</td>\n",
       "      <td>0.104480</td>\n",
       "    </tr>\n",
       "    <tr>\n",
       "      <th>3</th>\n",
       "      <td>0.157895</td>\n",
       "      <td>0.071242</td>\n",
       "    </tr>\n",
       "    <tr>\n",
       "      <th>4</th>\n",
       "      <td>0.210526</td>\n",
       "      <td>0.235557</td>\n",
       "    </tr>\n",
       "  </tbody>\n",
       "</table>\n",
       "</div>"
      ],
      "text/plain": [
       "          x         y\n",
       "0  0.000000  0.281262\n",
       "1  0.052632  2.074166\n",
       "2  0.105263  0.104480\n",
       "3  0.157895  0.071242\n",
       "4  0.210526  0.235557"
      ]
     },
     "execution_count": 5,
     "metadata": {},
     "output_type": "execute_result"
    }
   ],
   "source": [
    "N = 20\n",
    "x = np.linspace(0, 1, N)\n",
    "y = np.abs(np.random.randn(N))\n",
    "df = pd.DataFrame({'x': x, 'y': y})\n",
    "df.head()"
   ]
  },
  {
   "cell_type": "code",
   "execution_count": 6,
   "metadata": {},
   "outputs": [
    {
     "data": {
      "text/plain": [
       "'file://D:\\\\10 Python Data Science Masterclass\\\\CodeBundle\\\\Section 31 Pandas and Plotly\\\\temp-plot.html'"
      ]
     },
     "execution_count": 6,
     "metadata": {},
     "output_type": "execute_result"
    }
   ],
   "source": [
    "data = [\n",
    "    \n",
    "    go.Bar(\n",
    "    x=df['y'],\n",
    "    y=df['x'],\n",
    "    orientation='h')\n",
    "]\n",
    "\n",
    "plot(data)"
   ]
  },
  {
   "cell_type": "markdown",
   "metadata": {},
   "source": [
    "# Vertical Bar Chart"
   ]
  },
  {
   "cell_type": "code",
   "execution_count": 7,
   "metadata": {},
   "outputs": [
    {
     "data": {
      "text/html": [
       "<div>\n",
       "<style scoped>\n",
       "    .dataframe tbody tr th:only-of-type {\n",
       "        vertical-align: middle;\n",
       "    }\n",
       "\n",
       "    .dataframe tbody tr th {\n",
       "        vertical-align: top;\n",
       "    }\n",
       "\n",
       "    .dataframe thead th {\n",
       "        text-align: right;\n",
       "    }\n",
       "</style>\n",
       "<table border=\"1\" class=\"dataframe\">\n",
       "  <thead>\n",
       "    <tr style=\"text-align: right;\">\n",
       "      <th></th>\n",
       "      <th>x</th>\n",
       "      <th>y</th>\n",
       "    </tr>\n",
       "  </thead>\n",
       "  <tbody>\n",
       "    <tr>\n",
       "      <th>0</th>\n",
       "      <td>0.000000</td>\n",
       "      <td>1.361751</td>\n",
       "    </tr>\n",
       "    <tr>\n",
       "      <th>1</th>\n",
       "      <td>0.025641</td>\n",
       "      <td>-1.038428</td>\n",
       "    </tr>\n",
       "    <tr>\n",
       "      <th>2</th>\n",
       "      <td>0.051282</td>\n",
       "      <td>-0.072060</td>\n",
       "    </tr>\n",
       "    <tr>\n",
       "      <th>3</th>\n",
       "      <td>0.076923</td>\n",
       "      <td>0.498254</td>\n",
       "    </tr>\n",
       "    <tr>\n",
       "      <th>4</th>\n",
       "      <td>0.102564</td>\n",
       "      <td>1.017857</td>\n",
       "    </tr>\n",
       "  </tbody>\n",
       "</table>\n",
       "</div>"
      ],
      "text/plain": [
       "          x         y\n",
       "0  0.000000  1.361751\n",
       "1  0.025641 -1.038428\n",
       "2  0.051282 -0.072060\n",
       "3  0.076923  0.498254\n",
       "4  0.102564  1.017857"
      ]
     },
     "execution_count": 7,
     "metadata": {},
     "output_type": "execute_result"
    }
   ],
   "source": [
    "N = 40\n",
    "x = np.linspace(0, 1, N)\n",
    "y = np.random.randn(N)\n",
    "\n",
    "df = pd.DataFrame({'x': x, 'y':y})\n",
    "df.head()"
   ]
  },
  {
   "cell_type": "code",
   "execution_count": 10,
   "metadata": {},
   "outputs": [
    {
     "data": {
      "text/plain": [
       "'file://D:\\\\10 Python Data Science Masterclass\\\\CodeBundle\\\\Section 31 Pandas and Plotly\\\\temp-plot.html'"
      ]
     },
     "execution_count": 10,
     "metadata": {},
     "output_type": "execute_result"
    }
   ],
   "source": [
    "data = [\n",
    "    go.Bar(\n",
    "    x=df['x'],\n",
    "    y=df['y'])\n",
    "]\n",
    "\n",
    "plot(data)"
   ]
  },
  {
   "cell_type": "code",
   "execution_count": 11,
   "metadata": {},
   "outputs": [
    {
     "data": {
      "text/plain": [
       "'file://D:\\\\10 Python Data Science Masterclass\\\\CodeBundle\\\\Section 31 Pandas and Plotly\\\\temp-plot.html'"
      ]
     },
     "execution_count": 11,
     "metadata": {},
     "output_type": "execute_result"
    }
   ],
   "source": [
    "data = [\n",
    "    go.Bar(\n",
    "    x=df['x'],\n",
    "    y=df['y'],\n",
    "    orientation='h')\n",
    "]\n",
    "\n",
    "plot(data)"
   ]
  },
  {
   "cell_type": "markdown",
   "metadata": {},
   "source": [
    "# Basic Multiple Bar Chart"
   ]
  },
  {
   "cell_type": "code",
   "execution_count": 12,
   "metadata": {},
   "outputs": [
    {
     "data": {
      "text/html": [
       "<div>\n",
       "<style scoped>\n",
       "    .dataframe tbody tr th:only-of-type {\n",
       "        vertical-align: middle;\n",
       "    }\n",
       "\n",
       "    .dataframe tbody tr th {\n",
       "        vertical-align: top;\n",
       "    }\n",
       "\n",
       "    .dataframe thead th {\n",
       "        text-align: right;\n",
       "    }\n",
       "</style>\n",
       "<table border=\"1\" class=\"dataframe\">\n",
       "  <thead>\n",
       "    <tr style=\"text-align: right;\">\n",
       "      <th></th>\n",
       "      <th>x</th>\n",
       "      <th>y</th>\n",
       "      <th>y2</th>\n",
       "      <th>y3</th>\n",
       "      <th>y4</th>\n",
       "    </tr>\n",
       "  </thead>\n",
       "  <tbody>\n",
       "    <tr>\n",
       "      <th>0</th>\n",
       "      <td>1.000000</td>\n",
       "      <td>3.069421</td>\n",
       "      <td>4.842720</td>\n",
       "      <td>7.847100</td>\n",
       "      <td>12.308193</td>\n",
       "    </tr>\n",
       "    <tr>\n",
       "      <th>1</th>\n",
       "      <td>1.473684</td>\n",
       "      <td>2.437770</td>\n",
       "      <td>4.562583</td>\n",
       "      <td>8.571523</td>\n",
       "      <td>12.410205</td>\n",
       "    </tr>\n",
       "    <tr>\n",
       "      <th>2</th>\n",
       "      <td>1.947368</td>\n",
       "      <td>3.178881</td>\n",
       "      <td>6.360815</td>\n",
       "      <td>7.567912</td>\n",
       "      <td>13.888705</td>\n",
       "    </tr>\n",
       "    <tr>\n",
       "      <th>3</th>\n",
       "      <td>2.421053</td>\n",
       "      <td>1.929359</td>\n",
       "      <td>6.422094</td>\n",
       "      <td>9.424996</td>\n",
       "      <td>12.562904</td>\n",
       "    </tr>\n",
       "    <tr>\n",
       "      <th>4</th>\n",
       "      <td>2.894737</td>\n",
       "      <td>2.719916</td>\n",
       "      <td>5.514151</td>\n",
       "      <td>10.684998</td>\n",
       "      <td>13.339433</td>\n",
       "    </tr>\n",
       "  </tbody>\n",
       "</table>\n",
       "</div>"
      ],
      "text/plain": [
       "          x         y        y2         y3         y4\n",
       "0  1.000000  3.069421  4.842720   7.847100  12.308193\n",
       "1  1.473684  2.437770  4.562583   8.571523  12.410205\n",
       "2  1.947368  3.178881  6.360815   7.567912  13.888705\n",
       "3  2.421053  1.929359  6.422094   9.424996  12.562904\n",
       "4  2.894737  2.719916  5.514151  10.684998  13.339433"
      ]
     },
     "execution_count": 12,
     "metadata": {},
     "output_type": "execute_result"
    }
   ],
   "source": [
    "N = 20\n",
    "x = np.linspace(1, 10, N)\n",
    "y = np.random.randn(N)+3\n",
    "y2 = np.random.randn(N)+6\n",
    "y3 = np.random.randn(N)+9\n",
    "y4 = np.random.randn(N)+12\n",
    "df = pd.DataFrame({'x': x, 'y': y, \n",
    "                   'y2':y2, \n",
    "                   'y3':y3, 'y4':y4})\n",
    "df.head()\n",
    "\n"
   ]
  },
  {
   "cell_type": "code",
   "execution_count": 13,
   "metadata": {},
   "outputs": [
    {
     "data": {
      "text/plain": [
       "'file://D:\\\\10 Python Data Science Masterclass\\\\CodeBundle\\\\Section 31 Pandas and Plotly\\\\temp-plot.html'"
      ]
     },
     "execution_count": 13,
     "metadata": {},
     "output_type": "execute_result"
    }
   ],
   "source": [
    "data = [\n",
    "    go.Bar(\n",
    "        x=df['x'],\n",
    "        y=df['y']\n",
    "    ),\n",
    "    go.Bar(\n",
    "        x=df['x'],\n",
    "        y=df['y2']\n",
    "    ),\n",
    "    go.Bar(\n",
    "        x=df['x'],\n",
    "        y=df['y3']\n",
    "    ),\n",
    "    go.Bar(\n",
    "        x=df['x'],\n",
    "        y=df['y4']\n",
    "    )\n",
    "\n",
    "]\n",
    "\n",
    "layout = go.Layout(\n",
    "       title='Multiple Bar with Pandas'\n",
    ")\n",
    "\n",
    "fig = go.Figure(data=data, \n",
    "                layout=layout)\n",
    "\n",
    "plot(data)"
   ]
  },
  {
   "cell_type": "code",
   "execution_count": 14,
   "metadata": {},
   "outputs": [
    {
     "data": {
      "text/plain": [
       "'file://D:\\\\10 Python Data Science Masterclass\\\\CodeBundle\\\\Section 31 Pandas and Plotly\\\\temp-plot.html'"
      ]
     },
     "execution_count": 14,
     "metadata": {},
     "output_type": "execute_result"
    }
   ],
   "source": [
    "data = [\n",
    "    go.Bar(\n",
    "        x=df['x'],\n",
    "        y=df['y'],\n",
    "        orientation='h'\n",
    "    ),\n",
    "    go.Bar(\n",
    "        x=df['x'],\n",
    "        y=df['y2'],\n",
    "        orientation='h'\n",
    "    ),\n",
    "    go.Bar(\n",
    "        x=df['x'],\n",
    "        y=df['y3'],\n",
    "        orientation='h'\n",
    "    ),\n",
    "    go.Bar(\n",
    "        x=df['x'],\n",
    "        y=df['y4'],\n",
    "        orientation='h'\n",
    "    )\n",
    "\n",
    "]\n",
    "\n",
    "layout = go.Layout(\n",
    "       title='Multiple Bar with Pandas'\n",
    ")\n",
    "\n",
    "fig = go.Figure(data=data, \n",
    "                layout=layout)\n",
    "\n",
    "plot(data)"
   ]
  },
  {
   "cell_type": "code",
   "execution_count": null,
   "metadata": {},
   "outputs": [],
   "source": []
  }
 ],
 "metadata": {
  "kernelspec": {
   "display_name": "Python 3",
   "language": "python",
   "name": "python3"
  },
  "language_info": {
   "codemirror_mode": {
    "name": "ipython",
    "version": 3
   },
   "file_extension": ".py",
   "mimetype": "text/x-python",
   "name": "python",
   "nbconvert_exporter": "python",
   "pygments_lexer": "ipython3",
   "version": "3.7.0"
  }
 },
 "nbformat": 4,
 "nbformat_minor": 2
}
