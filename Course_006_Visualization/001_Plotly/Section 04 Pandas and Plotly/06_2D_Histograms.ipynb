{
 "cells": [
  {
   "cell_type": "code",
   "execution_count": 6,
   "metadata": {},
   "outputs": [
    {
     "name": "stdout",
     "output_type": "stream",
     "text": [
      "Requirement already satisfied: colorlover in c:\\users\\ashwin\\appdata\\local\\programs\\python\\python37-32\\lib\\site-packages (0.3.0)\n"
     ]
    }
   ],
   "source": [
    "!pip install colorlover"
   ]
  },
  {
   "cell_type": "code",
   "execution_count": 7,
   "metadata": {},
   "outputs": [],
   "source": [
    "import pandas as pd\n",
    "import numpy as np\n",
    "import plotly.plotly as py\n",
    "import colorlover as cl\n",
    "from plotly.offline import plot\n",
    "import plotly.graph_objs as go"
   ]
  },
  {
   "cell_type": "markdown",
   "metadata": {},
   "source": [
    "# 2D Histogram"
   ]
  },
  {
   "cell_type": "code",
   "execution_count": 8,
   "metadata": {},
   "outputs": [
    {
     "data": {
      "text/plain": [
       "[[0.0, 'rgb(247,251,255)'],\n",
       " [0.125, 'rgb(222,235,247)'],\n",
       " [0.25, 'rgb(198,219,239)'],\n",
       " [0.375, 'rgb(158,202,225)'],\n",
       " [0.5, 'rgb(107,174,214)'],\n",
       " [0.625, 'rgb(66,146,198)'],\n",
       " [0.75, 'rgb(33,113,181)'],\n",
       " [0.875, 'rgb(8,81,156)'],\n",
       " [1.0, 'rgb(8,48,107)']]"
      ]
     },
     "execution_count": 8,
     "metadata": {},
     "output_type": "execute_result"
    }
   ],
   "source": [
    "scl = cl.scales['9']['seq']['Blues']\n",
    "colorscale = [ [ float(i)/float(len(scl)-1), \n",
    "                scl[i] ] for i in range(len(scl)) ]\n",
    "colorscale"
   ]
  },
  {
   "cell_type": "code",
   "execution_count": 9,
   "metadata": {},
   "outputs": [
    {
     "data": {
      "text/html": [
       "<div>\n",
       "<style scoped>\n",
       "    .dataframe tbody tr th:only-of-type {\n",
       "        vertical-align: middle;\n",
       "    }\n",
       "\n",
       "    .dataframe tbody tr th {\n",
       "        vertical-align: top;\n",
       "    }\n",
       "\n",
       "    .dataframe thead th {\n",
       "        text-align: right;\n",
       "    }\n",
       "</style>\n",
       "<table border=\"1\" class=\"dataframe\">\n",
       "  <thead>\n",
       "    <tr style=\"text-align: right;\">\n",
       "      <th></th>\n",
       "      <th>x</th>\n",
       "      <th>y</th>\n",
       "    </tr>\n",
       "  </thead>\n",
       "  <tbody>\n",
       "    <tr>\n",
       "      <th>0</th>\n",
       "      <td>-2.038359</td>\n",
       "      <td>0.006369</td>\n",
       "    </tr>\n",
       "    <tr>\n",
       "      <th>1</th>\n",
       "      <td>-1.726262</td>\n",
       "      <td>0.704724</td>\n",
       "    </tr>\n",
       "    <tr>\n",
       "      <th>2</th>\n",
       "      <td>0.930475</td>\n",
       "      <td>1.289680</td>\n",
       "    </tr>\n",
       "    <tr>\n",
       "      <th>3</th>\n",
       "      <td>-1.134806</td>\n",
       "      <td>1.336558</td>\n",
       "    </tr>\n",
       "    <tr>\n",
       "      <th>4</th>\n",
       "      <td>0.622314</td>\n",
       "      <td>3.146933</td>\n",
       "    </tr>\n",
       "  </tbody>\n",
       "</table>\n",
       "</div>"
      ],
      "text/plain": [
       "          x         y\n",
       "0 -2.038359  0.006369\n",
       "1 -1.726262  0.704724\n",
       "2  0.930475  1.289680\n",
       "3 -1.134806  1.336558\n",
       "4  0.622314  3.146933"
      ]
     },
     "execution_count": 9,
     "metadata": {},
     "output_type": "execute_result"
    }
   ],
   "source": [
    "N = 500\n",
    "mean, cov = [0, 2], [(1, .5), (.5, 1)]\n",
    "x, y = np.random.multivariate_normal(mean, cov, size=50).T\n",
    "df = pd.DataFrame({'x': x, 'y': y})\n",
    "df.head()"
   ]
  },
  {
   "cell_type": "code",
   "execution_count": 11,
   "metadata": {},
   "outputs": [
    {
     "data": {
      "text/plain": [
       "'file://D:\\\\10 Python Data Science Masterclass\\\\CodeBundle\\\\Section 31 Pandas and Plotly\\\\temp-plot.html'"
      ]
     },
     "execution_count": 11,
     "metadata": {},
     "output_type": "execute_result"
    }
   ],
   "source": [
    "data = [\n",
    "    go.Histogram2dContour(\n",
    "        x=df['x'],\n",
    "        y=df['y'],\n",
    "        colorscale=colorscale\n",
    "    )\n",
    "]\n",
    "\n",
    "axis_template = dict(\n",
    "    ticks='',\n",
    "    showgrid=False,\n",
    "    zeroline=False,\n",
    "    showline=True,\n",
    "    mirror=True,\n",
    "    linewidth=2,\n",
    "    linecolor='#444',\n",
    ")\n",
    "\n",
    "layout=go.Layout(xaxis=axis_template,\n",
    "                 yaxis=axis_template,\n",
    "                 width=700,\n",
    "                 height=750,\n",
    "                 autosize=False,\n",
    "                 hovermode='closest',\n",
    "                 title='2d Histogram in Pandas')\n",
    "\n",
    "fig = go.Figure(data=data, layout=layout)\n",
    "\n",
    "plot(fig)"
   ]
  },
  {
   "cell_type": "code",
   "execution_count": null,
   "metadata": {},
   "outputs": [],
   "source": []
  },
  {
   "cell_type": "code",
   "execution_count": null,
   "metadata": {},
   "outputs": [],
   "source": []
  }
 ],
 "metadata": {
  "kernelspec": {
   "display_name": "Python 3",
   "language": "python",
   "name": "python3"
  },
  "language_info": {
   "codemirror_mode": {
    "name": "ipython",
    "version": 3
   },
   "file_extension": ".py",
   "mimetype": "text/x-python",
   "name": "python",
   "nbconvert_exporter": "python",
   "pygments_lexer": "ipython3",
   "version": "3.7.0"
  }
 },
 "nbformat": 4,
 "nbformat_minor": 2
}
