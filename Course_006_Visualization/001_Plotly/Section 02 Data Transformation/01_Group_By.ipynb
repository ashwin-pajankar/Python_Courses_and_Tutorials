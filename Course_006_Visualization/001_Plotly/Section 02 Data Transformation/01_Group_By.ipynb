{
 "cells": [
  {
   "cell_type": "code",
   "execution_count": null,
   "metadata": {},
   "outputs": [],
   "source": [
    "from plotly.offline import plot"
   ]
  },
  {
   "cell_type": "code",
   "execution_count": null,
   "metadata": {},
   "outputs": [],
   "source": [
    "subject = ['Moe', 'Larry', 'Curly',\n",
    "           'Moe', 'Larry', 'Curly',\n",
    "           'Moe', 'Larry', 'Curly',\n",
    "           'Moe', 'Larry', 'Curly']\n",
    "\n",
    "score = [1, 6, 2, 8, 2, 9,\n",
    "         4, 5, 1, 5, 2, 8]\n",
    "\n",
    "data = [dict(\n",
    "  type = 'scatter',\n",
    "  x = subject,\n",
    "  y = score,\n",
    "  mode = 'markers',\n",
    "  transforms = [dict(\n",
    "    type = 'groupby',\n",
    "    groups = subject,\n",
    "    styles = [\n",
    "        dict(target = 'Moe', \n",
    "             value = dict(marker = dict(color = 'blue'))),\n",
    "        dict(target = 'Larry', \n",
    "             value = dict(marker = dict(color = 'red'))),\n",
    "        dict(target = 'Curly', \n",
    "             value = dict(marker = dict(color = 'black')))\n",
    "    ]\n",
    "  )]\n",
    ")]\n",
    "\n",
    "plot({'data': data}, validate=False)"
   ]
  }
 ],
 "metadata": {
  "kernelspec": {
   "display_name": "Python 3",
   "language": "python",
   "name": "python3"
  },
  "language_info": {
   "codemirror_mode": {
    "name": "ipython",
    "version": 3
   },
   "file_extension": ".py",
   "mimetype": "text/x-python",
   "name": "python",
   "nbconvert_exporter": "python",
   "pygments_lexer": "ipython3",
   "version": "3.7.0"
  }
 },
 "nbformat": 4,
 "nbformat_minor": 2
}
