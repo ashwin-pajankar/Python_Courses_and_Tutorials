{
 "cells": [
  {
   "cell_type": "code",
   "execution_count": 1,
   "metadata": {},
   "outputs": [],
   "source": [
    "import plotly.plotly as py\n",
    "import plotly.graph_objs as go\n",
    "import numpy as np\n",
    "from plotly.offline import plot\n",
    "import plotly.figure_factory as FF"
   ]
  },
  {
   "cell_type": "markdown",
   "metadata": {},
   "source": [
    "# Linspace"
   ]
  },
  {
   "cell_type": "code",
   "execution_count": 3,
   "metadata": {},
   "outputs": [
    {
     "data": {
      "text/plain": [
       "'file://D:\\\\18 Pandas and Plot.ly Data Science\\\\CodeBundle\\\\Section 23 Plotly and Numpy\\\\temp-plot.html'"
      ]
     },
     "execution_count": 3,
     "metadata": {},
     "output_type": "execute_result"
    }
   ],
   "source": [
    "x = np.linspace(0, 10, 250)\n",
    "y = np.sin(x)\n",
    "\n",
    "trace = go.Scatter(x=x, y=y,\n",
    "                  mode='markers')\n",
    "data=[trace]\n",
    "plot(data)"
   ]
  },
  {
   "cell_type": "markdown",
   "metadata": {},
   "source": [
    "# Arrange"
   ]
  },
  {
   "cell_type": "code",
   "execution_count": 4,
   "metadata": {},
   "outputs": [
    {
     "data": {
      "text/plain": [
       "'file://D:\\\\18 Pandas and Plot.ly Data Science\\\\CodeBundle\\\\Section 23 Plotly and Numpy\\\\temp-plot.html'"
      ]
     },
     "execution_count": 4,
     "metadata": {},
     "output_type": "execute_result"
    }
   ],
   "source": [
    "x = np.arange(0, 100)\n",
    "y = np.arange(0, 200, 2)\n",
    "trace = go.Scatter(x=x, y=y,\n",
    "                  mode = 'markers')\n",
    "data = [trace]\n",
    "plot(data)"
   ]
  },
  {
   "cell_type": "markdown",
   "metadata": {},
   "source": [
    "# Meshgrid"
   ]
  },
  {
   "cell_type": "code",
   "execution_count": 5,
   "metadata": {},
   "outputs": [
    {
     "data": {
      "text/plain": [
       "'file://D:\\\\18 Pandas and Plot.ly Data Science\\\\CodeBundle\\\\Section 23 Plotly and Numpy\\\\temp-plot.html'"
      ]
     },
     "execution_count": 5,
     "metadata": {},
     "output_type": "execute_result"
    }
   ],
   "source": [
    "x = np.arange(-10, 10, 0.4)\n",
    "y = np.arange(-10, 10, 0.4)\n",
    "XX, YY = np.meshgrid(x, y)\n",
    "ZZ = np.sin(XX**2 + YY**2) / (XX**2 + YY**2)\n",
    "\n",
    "lines = []\n",
    "line_marker = dict(color='#0066FF', width=2)\n",
    "for i, j, k in zip(XX, YY, ZZ):\n",
    "    lines.append(go.Scatter3d(x=i, y=j, z=k, \n",
    "                              mode='lines', \n",
    "                              line=line_marker))\n",
    "\n",
    "layout = go.Layout(\n",
    "    title='Wireframe with Meshgrid',\n",
    "    showlegend=False\n",
    ")\n",
    "\n",
    "fig = go.Figure(data=lines, layout=layout)\n",
    "plot(fig)"
   ]
  },
  {
   "cell_type": "markdown",
   "metadata": {},
   "source": [
    "# Empty Array"
   ]
  },
  {
   "cell_type": "code",
   "execution_count": 8,
   "metadata": {},
   "outputs": [
    {
     "data": {
      "text/plain": [
       "'file://D:\\\\18 Pandas and Plot.ly Data Science\\\\CodeBundle\\\\Section 23 Plotly and Numpy\\\\temp-plot.html'"
      ]
     },
     "execution_count": 8,
     "metadata": {},
     "output_type": "execute_result"
    }
   ],
   "source": [
    "shape = (4, 6)\n",
    "zeros_array = np.empty(shape)\n",
    "\n",
    "colorscale = [[0, 'rgb(49, 52, 92)'],\n",
    "             [1, 'rgb(49, 52, 92)']]\n",
    "\n",
    "font_colors = ['rgb(255, 255, 255)']\n",
    "\n",
    "table = FF.create_table(zeros_array,\n",
    "                       colorscale,\n",
    "                       font_colors)\n",
    "\n",
    "plot(table)"
   ]
  },
  {
   "cell_type": "code",
   "execution_count": null,
   "metadata": {},
   "outputs": [],
   "source": []
  }
 ],
 "metadata": {
  "kernelspec": {
   "display_name": "Python 3",
   "language": "python",
   "name": "python3"
  },
  "language_info": {
   "codemirror_mode": {
    "name": "ipython",
    "version": 3
   },
   "file_extension": ".py",
   "mimetype": "text/x-python",
   "name": "python",
   "nbconvert_exporter": "python",
   "pygments_lexer": "ipython3",
   "version": "3.7.0"
  }
 },
 "nbformat": 4,
 "nbformat_minor": 2
}
