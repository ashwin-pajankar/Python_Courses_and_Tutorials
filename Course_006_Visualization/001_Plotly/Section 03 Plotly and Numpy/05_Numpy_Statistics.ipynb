{
 "cells": [
  {
   "cell_type": "code",
   "execution_count": 1,
   "metadata": {},
   "outputs": [],
   "source": [
    "import plotly.plotly as py\n",
    "import plotly.graph_objs as go\n",
    "import numpy as np\n",
    "import plotly.figure_factory as FF\n",
    "from plotly.offline import plot"
   ]
  },
  {
   "cell_type": "markdown",
   "metadata": {},
   "source": [
    "# 2-Norm of Array"
   ]
  },
  {
   "cell_type": "code",
   "execution_count": 2,
   "metadata": {},
   "outputs": [
    {
     "data": {
      "text/plain": [
       "'file://D:\\\\18 Pandas and Plot.ly Data Science\\\\CodeBundle\\\\Section 23 Plotly and Numpy\\\\temp-plot.html'"
      ]
     },
     "execution_count": 2,
     "metadata": {},
     "output_type": "execute_result"
    }
   ],
   "source": [
    "size = 40\n",
    "array_normal = np.random.randn(size)\n",
    "array_random = np.random.random(size)\n",
    "\n",
    "trace_1 = go.Scatter(\n",
    "    x=[i for i in range(size)],\n",
    "    y=array_normal,\n",
    "    mode='markers',\n",
    "    name='Normal Dist',\n",
    "    marker=dict(\n",
    "        color='#F23557',\n",
    "        size=2*int(np.linalg.norm(array_normal))\n",
    "    )\n",
    ")\n",
    "\n",
    "trace_2 = go.Scatter(\n",
    "    x=[i for i in range(size)],\n",
    "    y=array_random,\n",
    "    mode='markers',\n",
    "    name='From [0, 1)',\n",
    "    marker=dict(\n",
    "        color='#1E64F0',\n",
    "        size=2*int(np.linalg.norm(array_random))\n",
    "    )\n",
    ")\n",
    "\n",
    "data = [trace_1, trace_2]\n",
    "plot(data)"
   ]
  },
  {
   "cell_type": "markdown",
   "metadata": {},
   "source": [
    "# 2-Norm by Matrix Row"
   ]
  },
  {
   "cell_type": "code",
   "execution_count": 3,
   "metadata": {},
   "outputs": [
    {
     "data": {
      "text/plain": [
       "'file://D:\\\\18 Pandas and Plot.ly Data Science\\\\CodeBundle\\\\Section 23 Plotly and Numpy\\\\temp-plot.html'"
      ]
     },
     "execution_count": 3,
     "metadata": {},
     "output_type": "execute_result"
    }
   ],
   "source": [
    "z_norms = [[.1, .3, .5, .7],  \n",
    "           [1, .8, .6, .4],\n",
    "           [.6, .4, .2, .0],  \n",
    "           [.9, .7, .5, .3]]\n",
    "\n",
    "z_text = [[.1, .3, .5, .7],  \n",
    "          [1, .8, .6, .4],\n",
    "          [.6, .4, .2, .0],  \n",
    "          [.9, .7, .5, .3]]\n",
    "\n",
    "colorscale =  [[0, 'rgb(220,220,220)'],\n",
    "               [0.35, 'rgb(106,137,247)'],\n",
    "               [0.5, 'rgb(90,120,245)'],\n",
    "               [0.6, 'rgb(70,100,245)'],\n",
    "               [0.7, 'rgb(40,60,190)'],\n",
    "               [1, 'rgb(5,10,172)']]\n",
    "\n",
    "row_norms = np.linalg.norm(z_text, axis=1)\n",
    "for index in range(len(z_norms)):\n",
    "    z_norms[index] = [row_norms[index] for j in range(len(z_norms))]\n",
    "    \n",
    "fig = FF.create_annotated_heatmap(z_norms, \n",
    "    annotation_text=z_text, \n",
    "    colorscale=colorscale)\n",
    "plot(fig)"
   ]
  }
 ],
 "metadata": {
  "kernelspec": {
   "display_name": "Python 3",
   "language": "python",
   "name": "python3"
  },
  "language_info": {
   "codemirror_mode": {
    "name": "ipython",
    "version": 3
   },
   "file_extension": ".py",
   "mimetype": "text/x-python",
   "name": "python",
   "nbconvert_exporter": "python",
   "pygments_lexer": "ipython3",
   "version": "3.7.0"
  }
 },
 "nbformat": 4,
 "nbformat_minor": 2
}
