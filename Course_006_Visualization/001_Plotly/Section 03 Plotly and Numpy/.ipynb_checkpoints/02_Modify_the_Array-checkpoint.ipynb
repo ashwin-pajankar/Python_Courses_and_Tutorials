{
 "cells": [
  {
   "cell_type": "code",
   "execution_count": 4,
   "metadata": {},
   "outputs": [],
   "source": [
    "import plotly.figure_factory as FF\n",
    "import plotly.plotly as py\n",
    "import numpy as np\n",
    "import plotly.graph_objs as go\n",
    "from plotly.offline import plot"
   ]
  },
  {
   "cell_type": "markdown",
   "metadata": {},
   "source": [
    "# Array"
   ]
  },
  {
   "cell_type": "code",
   "execution_count": 5,
   "metadata": {},
   "outputs": [
    {
     "data": {
      "text/plain": [
       "'file://D:\\\\18 Pandas and Plot.ly Data Science\\\\CodeBundle\\\\Section 23 Plotly and Numpy\\\\temp-plot.html'"
      ]
     },
     "execution_count": 5,
     "metadata": {},
     "output_type": "execute_result"
    }
   ],
   "source": [
    "array = np.array([1, 2, 3, 4, 5])\n",
    "longer_array = np.append(array, \n",
    "                         [6, 7, 8])\n",
    "\n",
    "trace1 = go.Scatter(\n",
    "    x=array,\n",
    "    y=[1 for i in array],\n",
    "    mode='markers',\n",
    "    marker=dict(\n",
    "        size=[5 + 3*j for j in array]\n",
    "    ),\n",
    "    name='array'\n",
    ")\n",
    "trace2 = go.Scatter(\n",
    "    x=longer_array,\n",
    "    y=[2 for j in longer_array],\n",
    "    mode='markers',\n",
    "    marker=dict(\n",
    "        size=[5 + 3*j for j in longer_array]\n",
    "    ),\n",
    "    name='longer_array'\n",
    ")\n",
    "\n",
    "plot([trace1, trace2])"
   ]
  },
  {
   "cell_type": "markdown",
   "metadata": {},
   "source": [
    "# Reshape an Array"
   ]
  },
  {
   "cell_type": "code",
   "execution_count": 6,
   "metadata": {},
   "outputs": [
    {
     "data": {
      "text/plain": [
       "'file://D:\\\\18 Pandas and Plot.ly Data Science\\\\CodeBundle\\\\Section 23 Plotly and Numpy\\\\temp-plot.html'"
      ]
     },
     "execution_count": 6,
     "metadata": {},
     "output_type": "execute_result"
    }
   ],
   "source": [
    "z = np.arange(10).reshape((2, 5))\n",
    "fig = FF.create_annotated_heatmap(z, colorscale = 'Viridis')\n",
    "plot(fig)"
   ]
  },
  {
   "cell_type": "code",
   "execution_count": 8,
   "metadata": {},
   "outputs": [
    {
     "data": {
      "text/plain": [
       "'file://D:\\\\18 Pandas and Plot.ly Data Science\\\\CodeBundle\\\\Section 23 Plotly and Numpy\\\\temp-plot.html'"
      ]
     },
     "execution_count": 8,
     "metadata": {},
     "output_type": "execute_result"
    }
   ],
   "source": [
    "z = np.arange(12).reshape((3, 4))\n",
    "\n",
    "fig = FF.create_annotated_heatmap(z, \n",
    "                                  colorscale='Viridis')\n",
    "plot(fig)"
   ]
  },
  {
   "cell_type": "code",
   "execution_count": 9,
   "metadata": {},
   "outputs": [
    {
     "data": {
      "text/plain": [
       "'file://D:\\\\18 Pandas and Plot.ly Data Science\\\\CodeBundle\\\\Section 23 Plotly and Numpy\\\\temp-plot.html'"
      ]
     },
     "execution_count": 9,
     "metadata": {},
     "output_type": "execute_result"
    }
   ],
   "source": [
    "z = [np.arange(10).reshape(10)]\n",
    "\n",
    "fig = FF.create_annotated_heatmap(z, \n",
    "                                  colorscale='Viridis')\n",
    "plot(fig)"
   ]
  },
  {
   "cell_type": "markdown",
   "metadata": {},
   "source": [
    "# Ravel"
   ]
  },
  {
   "cell_type": "code",
   "execution_count": 10,
   "metadata": {},
   "outputs": [
    {
     "data": {
      "text/plain": [
       "'file://D:\\\\18 Pandas and Plot.ly Data Science\\\\CodeBundle\\\\Section 23 Plotly and Numpy\\\\temp-plot.html'"
      ]
     },
     "execution_count": 10,
     "metadata": {},
     "output_type": "execute_result"
    }
   ],
   "source": [
    "pi_array = np.array([[3, 1, 4, 1],\n",
    "                     [5, 9, 2, 6],\n",
    "                     [5, 3, 5, 8],\n",
    "                     [9, 7, 9, 3]])\n",
    "\n",
    "ravel_array = np.ravel(pi_array)\n",
    "\n",
    "fig = FF.create_annotated_heatmap([ravel_array], \n",
    "                                  colorscale='Earth' )\n",
    "fig.layout.title = '$\\pi$'\n",
    "plot(fig)"
   ]
  },
  {
   "cell_type": "markdown",
   "metadata": {},
   "source": [
    "# Argsort"
   ]
  },
  {
   "cell_type": "code",
   "execution_count": 11,
   "metadata": {},
   "outputs": [
    {
     "data": {
      "text/plain": [
       "'file://D:\\\\18 Pandas and Plot.ly Data Science\\\\CodeBundle\\\\Section 23 Plotly and Numpy\\\\temp-plot.html'"
      ]
     },
     "execution_count": 11,
     "metadata": {},
     "output_type": "execute_result"
    }
   ],
   "source": [
    "array = np.array([4, 6, 5, 2, 3, 7, 9, 8, 0, 1])\n",
    "\n",
    "fig = FF.create_annotated_heatmap([array], \n",
    "                                  colorscale='Blues')\n",
    "fig.layout.title = 'Unsorted Array'\n",
    "plot(fig)"
   ]
  },
  {
   "cell_type": "code",
   "execution_count": 12,
   "metadata": {},
   "outputs": [
    {
     "data": {
      "text/plain": [
       "'file://D:\\\\18 Pandas and Plot.ly Data Science\\\\CodeBundle\\\\Section 23 Plotly and Numpy\\\\temp-plot.html'"
      ]
     },
     "execution_count": 12,
     "metadata": {},
     "output_type": "execute_result"
    }
   ],
   "source": [
    "indices = np.argsort(array)\n",
    "sorted_array = [array[indices[j]] for j in range(len(array))]\n",
    "\n",
    "fig = FF.create_annotated_heatmap([sorted_array], \n",
    "                                  colorscale='Blues')\n",
    "fig.layout.title = 'Sorted Array'\n",
    "plot(fig)"
   ]
  },
  {
   "cell_type": "markdown",
   "metadata": {},
   "source": [
    "# Transpose"
   ]
  },
  {
   "cell_type": "code",
   "execution_count": 13,
   "metadata": {},
   "outputs": [
    {
     "name": "stderr",
     "output_type": "stream",
     "text": [
      "c:\\users\\ashwin\\appdata\\local\\programs\\python\\python37-32\\lib\\site-packages\\plotly\\offline\\offline.py:635: UserWarning:\n",
      "\n",
      "Your filename `numpy-untransposed` didn't end with .html. Adding .html to the end of your file.\n",
      "\n"
     ]
    },
    {
     "data": {
      "text/plain": [
       "'file://D:\\\\18 Pandas and Plot.ly Data Science\\\\CodeBundle\\\\Section 23 Plotly and Numpy\\\\numpy-untransposed.html'"
      ]
     },
     "execution_count": 13,
     "metadata": {},
     "output_type": "execute_result"
    }
   ],
   "source": [
    "array = np.array([[1, 2, 3, 4, 5],\n",
    "                 [6, 7, 8, 9, 10],\n",
    "                 [11, 12, 13, 14, 15]])\n",
    "\n",
    "fig = FF.create_annotated_heatmap(array, \n",
    "                                  colorscale='Greens')\n",
    "fig.layout.title = 'Untransposed Array'\n",
    "plot(fig, filename='numpy-untransposed')"
   ]
  },
  {
   "cell_type": "code",
   "execution_count": 14,
   "metadata": {},
   "outputs": [
    {
     "data": {
      "text/plain": [
       "'file://D:\\\\18 Pandas and Plot.ly Data Science\\\\CodeBundle\\\\Section 23 Plotly and Numpy\\\\temp-plot.html'"
      ]
     },
     "execution_count": 14,
     "metadata": {},
     "output_type": "execute_result"
    }
   ],
   "source": [
    "transposed_array = np.transpose(array)\n",
    "\n",
    "fig = FF.create_annotated_heatmap(transposed_array, \n",
    "                                  colorscale='Greens')\n",
    "fig.layout.title = 'Transposed Array'\n",
    "plot(fig)"
   ]
  },
  {
   "cell_type": "code",
   "execution_count": null,
   "metadata": {},
   "outputs": [],
   "source": []
  }
 ],
 "metadata": {
  "kernelspec": {
   "display_name": "Python 3",
   "language": "python",
   "name": "python3"
  },
  "language_info": {
   "codemirror_mode": {
    "name": "ipython",
    "version": 3
   },
   "file_extension": ".py",
   "mimetype": "text/x-python",
   "name": "python",
   "nbconvert_exporter": "python",
   "pygments_lexer": "ipython3",
   "version": "3.7.0"
  }
 },
 "nbformat": 4,
 "nbformat_minor": 2
}
