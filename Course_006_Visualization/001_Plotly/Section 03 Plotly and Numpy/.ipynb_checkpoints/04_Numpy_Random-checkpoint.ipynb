{
 "cells": [
  {
   "cell_type": "code",
   "execution_count": null,
   "metadata": {},
   "outputs": [],
   "source": [
    "import plotly.plotly as py\n",
    "import plotly.graph_objs as go\n",
    "import numpy as np\n",
    "from plotly.offline import plot"
   ]
  },
  {
   "cell_type": "markdown",
   "metadata": {},
   "source": [
    "# Random and Rand"
   ]
  },
  {
   "cell_type": "code",
   "execution_count": null,
   "metadata": {},
   "outputs": [],
   "source": [
    "num_of_points = 20\n",
    "random_array = np.random.random((num_of_points))\n",
    "\n",
    "trace1 = go.Scatter(\n",
    "    x=[j for j in range(len(random_array))],\n",
    "    y=random_array,\n",
    "    mode='markers',\n",
    "    marker = dict(\n",
    "        size=15,\n",
    "        color=random_array,\n",
    "        colorscale='Viridis'\n",
    "    ),\n",
    "    name='Random Array'\n",
    ")\n",
    "\n",
    "plot([trace1])"
   ]
  },
  {
   "cell_type": "markdown",
   "metadata": {},
   "source": [
    "# Uniform"
   ]
  },
  {
   "cell_type": "code",
   "execution_count": null,
   "metadata": {},
   "outputs": [],
   "source": [
    "num_of_points = 150\n",
    "uniform_array_1 = np.random.uniform(0, 1, num_of_points)\n",
    "uniform_array_2 = np.random.uniform(2, 4, num_of_points)\n",
    "uniform_array_3 = np.random.uniform(6, 10, num_of_points)\n",
    "\n",
    "trace1 = go.Scatter(\n",
    "    x=[j for j in range(num_of_points)],\n",
    "    y=uniform_array_1,\n",
    "    mode='markers',\n",
    "    marker = dict(\n",
    "        size=14,\n",
    "        color=uniform_array_1,\n",
    "        colorscale='Reds'\n",
    "    ),\n",
    "    name='[0, 1]'\n",
    ")\n",
    "\n",
    "trace2 = go.Scatter(\n",
    "    x=[j for j in range(num_of_points)],\n",
    "    y=uniform_array_2,\n",
    "    mode='markers',\n",
    "    marker = dict(\n",
    "        size=13,\n",
    "        color=uniform_array_2,\n",
    "        colorscale='Blues'\n",
    "    ),\n",
    "    name='[2, 4]'\n",
    ")\n",
    "\n",
    "trace3 = go.Scatter(\n",
    "    x=[j for j in range(num_of_points)],\n",
    "    y=uniform_array_3,\n",
    "    mode='markers',\n",
    "    marker = dict(\n",
    "        size=12,\n",
    "        color=uniform_array_3,\n",
    "        colorscale='Greens'\n",
    "    ),\n",
    "    name='[6, 10]'\n",
    ")\n",
    "\n",
    "plot([trace1, trace2, trace3])"
   ]
  },
  {
   "cell_type": "markdown",
   "metadata": {},
   "source": [
    "# Randint"
   ]
  },
  {
   "cell_type": "code",
   "execution_count": null,
   "metadata": {},
   "outputs": [],
   "source": [
    "num_of_points = 200\n",
    "random_numbers = np.random.randint(0, 10, num_of_points)\n",
    "\n",
    "trace1 = go.Scatter(\n",
    "    x=[j for j in range(num_of_points)],\n",
    "    y=random_numbers,\n",
    "    mode='markers',\n",
    "    marker = dict(\n",
    "        size=7,\n",
    "        color=random_numbers,\n",
    "        colorscale='Jet',\n",
    "        symbol='diamond'\n",
    "    ),\n",
    "    name='Numbers sampled from 0 to 9'\n",
    ")\n",
    "\n",
    "plot([trace1])"
   ]
  },
  {
   "cell_type": "markdown",
   "metadata": {},
   "source": [
    "# Randn"
   ]
  },
  {
   "cell_type": "code",
   "execution_count": null,
   "metadata": {},
   "outputs": [],
   "source": [
    "num_of_points = 200\n",
    "normal_pts_x = np.random.randn(num_of_points)\n",
    "normal_pts_y = np.random.randn(num_of_points)\n",
    "\n",
    "trace1 = go.Scatter(\n",
    "    x=normal_pts_x,\n",
    "    y=normal_pts_y,\n",
    "    mode='markers',\n",
    "    marker = dict(\n",
    "        size=11,\n",
    "        color=[normal_pts_x[i] * normal_pts_y[i] for i in range(len(normal_pts_x))],\n",
    "        colorscale='Portland'\n",
    "    ),\n",
    "    name='Normally Sampled Points'\n",
    ")\n",
    "\n",
    "plot([trace1])"
   ]
  }
 ],
 "metadata": {
  "kernelspec": {
   "display_name": "Python 3",
   "language": "python",
   "name": "python3"
  },
  "language_info": {
   "codemirror_mode": {
    "name": "ipython",
    "version": 3
   },
   "file_extension": ".py",
   "mimetype": "text/x-python",
   "name": "python",
   "nbconvert_exporter": "python",
   "pygments_lexer": "ipython3",
   "version": "3.7.0"
  }
 },
 "nbformat": 4,
 "nbformat_minor": 2
}
