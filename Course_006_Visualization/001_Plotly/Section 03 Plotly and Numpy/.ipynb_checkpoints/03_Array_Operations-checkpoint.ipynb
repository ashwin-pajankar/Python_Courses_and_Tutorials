{
 "cells": [
  {
   "cell_type": "code",
   "execution_count": 1,
   "metadata": {},
   "outputs": [],
   "source": [
    "import plotly.plotly as py\n",
    "import plotly.graph_objs as go\n",
    "import numpy as np\n",
    "from plotly.offline import plot"
   ]
  },
  {
   "cell_type": "markdown",
   "metadata": {},
   "source": [
    "# Max"
   ]
  },
  {
   "cell_type": "code",
   "execution_count": 2,
   "metadata": {},
   "outputs": [
    {
     "data": {
      "text/plain": [
       "'file://D:\\\\18 Pandas and Plot.ly Data Science\\\\CodeBundle\\\\Section 23 Plotly and Numpy\\\\temp-plot.html'"
      ]
     },
     "execution_count": 2,
     "metadata": {},
     "output_type": "execute_result"
    }
   ],
   "source": [
    "array = np.array([1, 6, 2, 7, 2, \n",
    "                  3, 3, 10, 11, 6])\n",
    "max_value = np.max(array)\n",
    "x_axis_pts = np.linspace(0, len(array), \n",
    "                         100)\n",
    "\n",
    "trace1 = go.Scatter(\n",
    "    x=[j for j in range(len(array))],\n",
    "    y=array,\n",
    "    mode='markers',\n",
    "    marker = dict(\n",
    "        size=10\n",
    "    ),\n",
    "    name='array'\n",
    ")\n",
    "trace2 = go.Scatter(\n",
    "    x=np.linspace(0, len(array), 100),\n",
    "    y=[max_value for k in x_axis_pts],\n",
    "    mode='markers',\n",
    "    marker=dict(\n",
    "        size=2\n",
    "    ),\n",
    "    name='max value'\n",
    ")\n",
    "\n",
    "plot([trace1, trace2])"
   ]
  },
  {
   "cell_type": "markdown",
   "metadata": {},
   "source": [
    "# Min"
   ]
  },
  {
   "cell_type": "code",
   "execution_count": 3,
   "metadata": {},
   "outputs": [
    {
     "data": {
      "text/plain": [
       "'file://D:\\\\18 Pandas and Plot.ly Data Science\\\\CodeBundle\\\\Section 23 Plotly and Numpy\\\\temp-plot.html'"
      ]
     },
     "execution_count": 3,
     "metadata": {},
     "output_type": "execute_result"
    }
   ],
   "source": [
    "array = np.array([1, 6, 2, 7, 2, \n",
    "                  3, 3, 10, 11, 6])\n",
    "min_value = np.min(array)\n",
    "x_axis_pts = np.linspace(0, len(array), \n",
    "                         100)\n",
    "\n",
    "trace1 = go.Scatter(\n",
    "    x=[j for j in range(len(array))],\n",
    "    y=array,\n",
    "    mode='markers',\n",
    "    marker = dict(\n",
    "        size=10\n",
    "    ),\n",
    "    name='array'\n",
    ")\n",
    "trace2 = go.Scatter(\n",
    "    x=np.linspace(0, len(array), 100),\n",
    "    y=[min_value for k in x_axis_pts],\n",
    "    mode='markers',\n",
    "    marker=dict(\n",
    "        size=2\n",
    "    ),\n",
    "    name='min value'\n",
    ")\n",
    "\n",
    "plot([trace1, trace2])"
   ]
  },
  {
   "cell_type": "markdown",
   "metadata": {},
   "source": [
    "# Vector Visualization"
   ]
  },
  {
   "cell_type": "code",
   "execution_count": 5,
   "metadata": {},
   "outputs": [
    {
     "data": {
      "text/plain": [
       "'file://D:\\\\18 Pandas and Plot.ly Data Science\\\\CodeBundle\\\\Section 23 Plotly and Numpy\\\\temp-plot.html'"
      ]
     },
     "execution_count": 5,
     "metadata": {},
     "output_type": "execute_result"
    }
   ],
   "source": [
    "array_a = np.array([2, 3, 0]) \n",
    "array_b = np.array([2, -1, 1]) \n",
    "\n",
    "trace1 = go.Scatter3d(\n",
    "    x=[0, array_a[0]],\n",
    "    y=[0, array_a[1]],\n",
    "    z=[0, array_a[2]],\n",
    "    mode='markers+lines',\n",
    "    name='array a',\n",
    "    marker=dict(\n",
    "        size=[12, 1]\n",
    "    )\n",
    ")\n",
    "\n",
    "trace2 = go.Scatter3d(\n",
    "    x=[0, array_b[0]],\n",
    "    y=[0, array_b[1]],\n",
    "    z=[0, array_b[2]],\n",
    "    mode='markers+lines',\n",
    "    name='array b',\n",
    "    marker=dict(\n",
    "        size=[12, 1]\n",
    "    )\n",
    ")\n",
    "\n",
    "data = [trace1, trace2]\n",
    "layout = go.Layout(\n",
    "    title = 'Vector Representation of Arrays'\n",
    ")\n",
    "fig = go.Figure(data=data, layout=layout)\n",
    "plot(fig)"
   ]
  }
 ],
 "metadata": {
  "kernelspec": {
   "display_name": "Python 3",
   "language": "python",
   "name": "python3"
  },
  "language_info": {
   "codemirror_mode": {
    "name": "ipython",
    "version": 3
   },
   "file_extension": ".py",
   "mimetype": "text/x-python",
   "name": "python",
   "nbconvert_exporter": "python",
   "pygments_lexer": "ipython3",
   "version": "3.7.0"
  }
 },
 "nbformat": 4,
 "nbformat_minor": 2
}
