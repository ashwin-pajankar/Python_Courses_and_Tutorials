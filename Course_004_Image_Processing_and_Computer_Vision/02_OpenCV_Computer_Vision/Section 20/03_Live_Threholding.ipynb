{
 "cells": [
  {
   "cell_type": "code",
   "execution_count": 1,
   "metadata": {},
   "outputs": [],
   "source": [
    "import cv2\n",
    "windowName = ['Binary', 'Binary Inv', \n",
    "              'Zero', 'Zero Inv', 'Trunc']\n",
    "cap = cv2.VideoCapture(0)\n",
    "if cap.isOpened():\n",
    "    ret, frame = cap.read()\n",
    "else:\n",
    "    ret = False\n",
    "while ret:\n",
    "    ret, frame = cap.read()\n",
    "    th = 127\n",
    "    max_val = 255\n",
    "    ret, o1 = cv2.threshold(frame, th, max_val, \n",
    "                            cv2.THRESH_BINARY)\n",
    "    ret, o2 = cv2.threshold(frame, th, max_val, \n",
    "                            cv2.THRESH_BINARY_INV)\n",
    "    ret, o3 = cv2.threshold(frame, th, max_val, \n",
    "                            cv2.THRESH_TOZERO)\n",
    "    ret, o4 = cv2.threshold(frame, th, max_val, \n",
    "                            cv2.THRESH_TOZERO_INV)\n",
    "    ret, o5 = cv2.threshold(frame, th, max_val, \n",
    "                            cv2.THRESH_TRUNC)\n",
    "    cv2.imshow(windowName[0], o1)\n",
    "    cv2.imshow(windowName[1], o2)\n",
    "    cv2.imshow(windowName[2], o3)\n",
    "    cv2.imshow(windowName[3], o4)\n",
    "    cv2.imshow(windowName[4], o5)\n",
    "    if cv2.waitKey(1) == 27:\n",
    "        break\n",
    "cv2.destroyAllWindows()\n",
    "cap.release()"
   ]
  },
  {
   "cell_type": "code",
   "execution_count": null,
   "metadata": {},
   "outputs": [],
   "source": []
  }
 ],
 "metadata": {
  "kernelspec": {
   "display_name": "Python 3",
   "language": "python",
   "name": "python3"
  },
  "language_info": {
   "codemirror_mode": {
    "name": "ipython",
    "version": 3
   },
   "file_extension": ".py",
   "mimetype": "text/x-python",
   "name": "python",
   "nbconvert_exporter": "python",
   "pygments_lexer": "ipython3",
   "version": "3.7.3"
  }
 },
 "nbformat": 4,
 "nbformat_minor": 2
}
