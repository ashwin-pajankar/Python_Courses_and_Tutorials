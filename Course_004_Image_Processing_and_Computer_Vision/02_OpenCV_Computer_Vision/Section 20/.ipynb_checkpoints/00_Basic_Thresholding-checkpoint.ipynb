{
 "cells": [
  {
   "cell_type": "code",
   "execution_count": 1,
   "metadata": {},
   "outputs": [],
   "source": [
    "import cv2\n",
    "import matplotlib.pyplot as plt"
   ]
  },
  {
   "cell_type": "code",
   "execution_count": 4,
   "metadata": {},
   "outputs": [
    {
     "data": {
      "image/png": "[encoded data removed]",
      "text/plain": [
       "<Figure size 432x288 with 6 Axes>"
      ]
     },
     "metadata": {},
     "output_type": "display_data"
    }
   ],
   "source": [
    "path = \"D:\\\\Dataset\\\\\"\n",
    "imgpath1 =  path + \"gray21.512.tiff\"\n",
    "img = cv2.imread(imgpath1, 0)\n",
    "th = 127\n",
    "max_val = 255\n",
    "ret, o1 = cv2.threshold(img, th, max_val, cv2.THRESH_BINARY)\n",
    "ret, o2 = cv2.threshold(img, th, max_val, cv2.THRESH_BINARY_INV)\n",
    "ret, o3 = cv2.threshold(img, th, max_val, cv2.THRESH_TOZERO)\n",
    "ret, o4 = cv2.threshold(img, th, max_val, cv2.THRESH_TOZERO_INV)\n",
    "ret, o5 = cv2.threshold(img, th, max_val, cv2.THRESH_TRUNC)\n",
    "output = [img, o1, o2, o3, o4, o5]\n",
    "titles = ['Original', 'Binary', 'Binary Inv',\n",
    "        'Zero', 'Zero Inv', 'Trunc']\n",
    "for i in range(6):\n",
    "    plt.subplot(2, 3, i+1)\n",
    "    plt.imshow(output[i], cmap='gray')\n",
    "    plt.title(titles[i])\n",
    "    plt.xticks([])\n",
    "    plt.yticks([])\n",
    "plt.show()  "
   ]
  },
  {
   "cell_type": "code",
   "execution_count": null,
   "metadata": {},
   "outputs": [],
   "source": [
    "imgpath1 =  path + \"4.2.01.tiff\"\n",
    "img = cv2.imread(imgpath1, 1)\n",
    "img = cv2.cvtColor(img, cv2.COLOR_BGR2RGB)\n",
    "th = 127\n",
    "max_val = 255\n",
    "ret, o1 = cv2.threshold(img, th, max_val, cv2.THRESH_BINARY)\n",
    "ret, o2 = cv2.threshold(img, th, max_val, cv2.THRESH_BINARY_INV)\n",
    "ret, o3 = cv2.threshold(img, th, max_val, cv2.THRESH_TOZERO)\n",
    "ret, o4 = cv2.threshold(img, th, max_val, cv2.THRESH_TOZERO_INV)\n",
    "ret, o5 = cv2.threshold(img, th, max_val, cv2.THRESH_TRUNC)\n",
    "output = [img, o1, o2, o3, o4, o5]\n",
    "titles = ['Original', 'Binary', 'Binary Inv',\n",
    "        'Zero', 'Zero Inv', 'Trunc']\n",
    "for i in range(6):\n",
    "    plt.subplot(2, 3, i+1)\n",
    "    plt.imshow(output[i])\n",
    "    plt.title(titles[i])\n",
    "    plt.xticks([])\n",
    "    plt.yticks([])\n",
    "plt.show()"
   ]
  }
 ],
 "metadata": {
  "kernelspec": {
   "display_name": "Python 3",
   "language": "python",
   "name": "python3"
  },
  "language_info": {
   "codemirror_mode": {
    "name": "ipython",
    "version": 3
   },
   "file_extension": ".py",
   "mimetype": "text/x-python",
   "name": "python",
   "nbconvert_exporter": "python",
   "pygments_lexer": "ipython3",
   "version": "3.7.3"
  }
 },
 "nbformat": 4,
 "nbformat_minor": 2
}
