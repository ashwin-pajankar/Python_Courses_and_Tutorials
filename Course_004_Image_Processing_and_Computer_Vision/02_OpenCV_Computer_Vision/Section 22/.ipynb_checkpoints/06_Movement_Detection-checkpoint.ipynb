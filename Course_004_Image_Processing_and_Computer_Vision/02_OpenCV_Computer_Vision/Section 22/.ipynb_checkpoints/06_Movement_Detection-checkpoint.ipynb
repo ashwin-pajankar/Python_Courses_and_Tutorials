{
 "cells": [
  {
   "cell_type": "code",
   "execution_count": 2,
   "metadata": {},
   "outputs": [],
   "source": [
    "import cv2\n",
    "import numpy as np"
   ]
  },
  {
   "cell_type": "code",
   "execution_count": 3,
   "metadata": {},
   "outputs": [],
   "source": [
    "cap = cv2.VideoCapture(0)\n",
    "\n",
    "if cap.isOpened():\n",
    "    ret, frame = cap.read()\n",
    "else:\n",
    "    ret = False\n",
    "\n",
    "ret, frame1 = cap.read()\n",
    "ret, frame2 = cap.read()\n",
    "\n",
    "while ret:\n",
    "\n",
    "    d = cv2.absdiff(frame1, frame2)\n",
    "\n",
    "    grey = cv2.cvtColor(d, cv2.COLOR_BGR2GRAY)\n",
    "\n",
    "    blur = cv2.GaussianBlur(grey, (5, 5), 0)\n",
    "\n",
    "    ret, th = cv2.threshold( blur, 20, 255, cv2.THRESH_BINARY)\n",
    "\n",
    "    dilated = cv2.dilate(th, np.ones((3, 3), np.uint8), iterations=1 )\n",
    "\n",
    "    eroded = cv2.erode(dilated, np.ones((3, 3), np.uint8), iterations=1 )\n",
    "\n",
    "    c, h = cv2.findContours(eroded, cv2.RETR_TREE, cv2.CHAIN_APPROX_SIMPLE)\n",
    "\n",
    "    cv2.drawContours(frame1, c, -1, (0, 0, 255), 2)\n",
    "\n",
    "    cv2.imshow(\"Original\", frame2)\n",
    "    cv2.imshow(\"Output\", frame1)\n",
    "    if cv2.waitKey(1) == 27: # exit on ESC\n",
    "        break\n",
    "        \n",
    "    frame1 = frame2\n",
    "    ret, frame2 = cap.read()\n",
    "\n",
    "cv2.destroyAllWindows()\n",
    "cap.release()"
   ]
  },
  {
   "cell_type": "code",
   "execution_count": null,
   "metadata": {},
   "outputs": [],
   "source": []
  }
 ],
 "metadata": {
  "kernelspec": {
   "display_name": "Python 3",
   "language": "python",
   "name": "python3"
  },
  "language_info": {
   "codemirror_mode": {
    "name": "ipython",
    "version": 3
   },
   "file_extension": ".py",
   "mimetype": "text/x-python",
   "name": "python",
   "nbconvert_exporter": "python",
   "pygments_lexer": "ipython3",
   "version": "3.7.3"
  }
 },
 "nbformat": 4,
 "nbformat_minor": 2
}
