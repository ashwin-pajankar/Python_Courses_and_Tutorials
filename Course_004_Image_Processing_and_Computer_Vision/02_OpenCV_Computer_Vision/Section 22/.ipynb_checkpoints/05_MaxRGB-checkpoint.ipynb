{
 "cells": [
  {
   "cell_type": "code",
   "execution_count": 5,
   "metadata": {},
   "outputs": [],
   "source": [
    "import cv2\n",
    "import numpy as np"
   ]
  },
  {
   "cell_type": "code",
   "execution_count": 7,
   "metadata": {},
   "outputs": [],
   "source": [
    "cap = cv2.VideoCapture(0)\n",
    "\n",
    "if cap.isOpened():\n",
    "    ret, frame = cap.read()\n",
    "else:\n",
    "    ret = False\n",
    "\n",
    "while ret:\n",
    "    \n",
    "    ret, frame = cap.read()\n",
    "\n",
    "    (B, G, R) = cv2.split(frame)\n",
    "    \n",
    "    M = np.maximum(np.maximum(R, G), B)\n",
    "    R[R < M] = 0\n",
    "    G[G < M] = 0\n",
    "    B[B < M] = 0\n",
    "    \n",
    "    output = cv2.merge((B, G, R))\n",
    "\n",
    "    cv2.imshow(\"Original\", output)\n",
    "    if cv2.waitKey(1) == 27: # exit on ESC\n",
    "        break\n",
    "\n",
    "cv2.destroyAllWindows()\n",
    "cap.release()"
   ]
  },
  {
   "cell_type": "code",
   "execution_count": null,
   "metadata": {},
   "outputs": [],
   "source": []
  }
 ],
 "metadata": {
  "kernelspec": {
   "display_name": "Python 3",
   "language": "python",
   "name": "python3"
  },
  "language_info": {
   "codemirror_mode": {
    "name": "ipython",
    "version": 3
   },
   "file_extension": ".py",
   "mimetype": "text/x-python",
   "name": "python",
   "nbconvert_exporter": "python",
   "pygments_lexer": "ipython3",
   "version": "3.7.3"
  }
 },
 "nbformat": 4,
 "nbformat_minor": 2
}
