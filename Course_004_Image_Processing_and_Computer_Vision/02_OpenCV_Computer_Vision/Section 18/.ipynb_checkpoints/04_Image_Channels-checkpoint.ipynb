{
 "cells": [
  {
   "cell_type": "code",
   "execution_count": null,
   "metadata": {},
   "outputs": [],
   "source": [
    "import cv2\n",
    "import matplotlib.pyplot as plt"
   ]
  },
  {
   "cell_type": "code",
   "execution_count": null,
   "metadata": {},
   "outputs": [],
   "source": [
    "path = \"D:\\\\Dataset\\\\\"\n",
    "imgpath1 =  path + \"4.2.01.tiff\"\n",
    "img = cv2.imread(imgpath1, 1)\n",
    "img1 = cv2.cvtColor(img, cv2.COLOR_BGR2RGB)\n",
    "\n",
    "titles = ['Original Image', 'Red', 'Green', 'Blue']\n",
    "\n",
    "plt.subplot(2, 2, 1)\n",
    "plt.imshow(images[0])\n",
    "plt.title(titles[0])\n",
    "plt.xticks([])\n",
    "plt.yticks([])\n",
    "plt.subplot(2, 2, 2)\n",
    "plt.imshow(images[1], cmap='Reds')\n",
    "plt.title(titles[1])\n",
    "plt.xticks([])\n",
    "plt.yticks([])\n",
    "plt.subplot(2, 2, 3)\n",
    "plt.imshow(images[2], cmap='Greens')\n",
    "plt.title(titles[2])\n",
    "plt.xticks([])\n",
    "plt.yticks([])\n",
    "plt.subplot(2, 2, 4)\n",
    "plt.imshow(images[3], cmap='Blues')\n",
    "plt.title(titles[3])\n",
    "plt.xticks([])\n",
    "plt.yticks([])\n",
    "plt.show()  "
   ]
  }
 ],
 "metadata": {
  "kernelspec": {
   "display_name": "Python 3",
   "language": "python",
   "name": "python3"
  },
  "language_info": {
   "codemirror_mode": {
    "name": "ipython",
    "version": 3
   },
   "file_extension": ".py",
   "mimetype": "text/x-python",
   "name": "python",
   "nbconvert_exporter": "python",
   "pygments_lexer": "ipython3",
   "version": "3.7.3"
  }
 },
 "nbformat": 4,
 "nbformat_minor": 2
}
