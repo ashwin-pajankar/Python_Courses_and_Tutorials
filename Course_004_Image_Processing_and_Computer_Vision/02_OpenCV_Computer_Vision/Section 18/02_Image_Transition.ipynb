{
 "cells": [
  {
   "cell_type": "code",
   "execution_count": 1,
   "metadata": {},
   "outputs": [],
   "source": [
    "import cv2\n",
    "import numpy as np\n",
    "import time"
   ]
  },
  {
   "cell_type": "code",
   "execution_count": 8,
   "metadata": {},
   "outputs": [],
   "source": [
    "path = \"D:\\\\Dataset\\\\\"\n",
    "    \n",
    "imgpath1 =  path + \"4.2.01.tiff\"\n",
    "imgpath2 =  path + \"4.2.03.tiff\"\n",
    "    \n",
    "img1 = cv2.imread(imgpath1, 1)\n",
    "img2 = cv2.imread(imgpath2, 1)\n",
    "    \n",
    "for i in np.linspace(0, 1, 1000):\n",
    "    alpha = i \n",
    "    beta = 1 - alpha\n",
    "    output = cv2.addWeighted(img1, alpha, img2, beta, 0)\n",
    "    cv2.imshow('Transition', output)\n",
    "    time.sleep(0.0001)\n",
    "    if cv2.waitKey(1) == 27:\n",
    "        break\n",
    "        \n",
    "cv2.destroyAllWindows()"
   ]
  },
  {
   "cell_type": "code",
   "execution_count": null,
   "metadata": {},
   "outputs": [],
   "source": []
  },
  {
   "cell_type": "code",
   "execution_count": null,
   "metadata": {},
   "outputs": [],
   "source": []
  }
 ],
 "metadata": {
  "kernelspec": {
   "display_name": "Python 3",
   "language": "python",
   "name": "python3"
  },
  "language_info": {
   "codemirror_mode": {
    "name": "ipython",
    "version": 3
   },
   "file_extension": ".py",
   "mimetype": "text/x-python",
   "name": "python",
   "nbconvert_exporter": "python",
   "pygments_lexer": "ipython3",
   "version": "3.7.3"
  }
 },
 "nbformat": 4,
 "nbformat_minor": 2
}
