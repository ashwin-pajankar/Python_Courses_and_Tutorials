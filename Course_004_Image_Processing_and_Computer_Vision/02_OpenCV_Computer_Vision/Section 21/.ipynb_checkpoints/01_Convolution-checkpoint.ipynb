{
 "cells": [
  {
   "cell_type": "code",
   "execution_count": null,
   "metadata": {},
   "outputs": [],
   "source": [
    "import cv2\n",
    "import matplotlib.pyplot as plt\n",
    "import numpy as np"
   ]
  },
  {
   "cell_type": "code",
   "execution_count": null,
   "metadata": {},
   "outputs": [],
   "source": [
    "path = \"D:\\\\Dataset\\\\\"\n",
    "imgpath =  path + \"4.2.07.tiff\"\n",
    "img = cv2.imread(imgpath, 1)\n",
    "img = cv2.cvtColor(img, cv2.COLOR_BGR2RGB)\n",
    "k = np.array(np.ones((11, 11), np.float32))/121\n",
    "# k = np.array(([0, -1, 0], [-1, 5, -1], \n",
    "#               [0, -1, 0]), np.float32)\n",
    "output = cv2.filter2D(img, -1, k)\n",
    "plt.subplot(1, 2, 1)\n",
    "plt.imshow(img)\n",
    "plt.title('Original Image')\n",
    "plt.subplot(1, 2, 2)\n",
    "plt.imshow(output)\n",
    "plt.title('Filtered Image')\n",
    "plt.show()"
   ]
  }
 ],
 "metadata": {
  "kernelspec": {
   "display_name": "Python 3",
   "language": "python",
   "name": "python3"
  },
  "language_info": {
   "codemirror_mode": {
    "name": "ipython",
    "version": 3
   },
   "file_extension": ".py",
   "mimetype": "text/x-python",
   "name": "python",
   "nbconvert_exporter": "python",
   "pygments_lexer": "ipython3",
   "version": "3.7.3"
  }
 },
 "nbformat": 4,
 "nbformat_minor": 2
}
