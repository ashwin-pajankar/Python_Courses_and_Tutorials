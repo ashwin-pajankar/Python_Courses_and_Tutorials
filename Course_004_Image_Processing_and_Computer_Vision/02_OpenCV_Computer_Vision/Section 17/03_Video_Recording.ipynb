{
 "cells": [
  {
   "cell_type": "code",
   "execution_count": 1,
   "metadata": {},
   "outputs": [],
   "source": [
    "import cv2"
   ]
  },
  {
   "cell_type": "code",
   "execution_count": 2,
   "metadata": {},
   "outputs": [],
   "source": [
    "windowName = \"Live Webcam Video Feed Capture\"\n",
    "cv2.namedWindow(windowName)\n",
    "\n",
    "cap = cv2.VideoCapture(0)\n",
    "filename = 'Output.avi'\n",
    "# http://www.fourcc.org/codecs.php\n",
    "codec = cv2.VideoWriter_fourcc('W', 'M', 'V', '2')\n",
    "framerate = 30\n",
    "resolution = (640, 480)\n",
    "    \n",
    "VideoFileOutput = cv2.VideoWriter(filename, codec, \n",
    "                                  framerate, resolution)\n",
    "    \n",
    "if cap.isOpened():\n",
    "    ret, frame = cap.read()\n",
    "else:\n",
    "    ret = False\n",
    "\n",
    "while ret:\n",
    "    \n",
    "    ret, frame = cap.read()\n",
    "\n",
    "    VideoFileOutput.write(frame)\n",
    "        \n",
    "    cv2.imshow(windowName, frame)\n",
    "    if cv2.waitKey(1) == 27:\n",
    "        break\n",
    "\n",
    "cv2.destroyAllWindows()    \n",
    "VideoFileOutput.release()\n",
    "cap.release()"
   ]
  },
  {
   "cell_type": "code",
   "execution_count": null,
   "metadata": {},
   "outputs": [],
   "source": []
  }
 ],
 "metadata": {
  "kernelspec": {
   "display_name": "Python 3",
   "language": "python",
   "name": "python3"
  },
  "language_info": {
   "codemirror_mode": {
    "name": "ipython",
    "version": 3
   },
   "file_extension": ".py",
   "mimetype": "text/x-python",
   "name": "python",
   "nbconvert_exporter": "python",
   "pygments_lexer": "ipython3",
   "version": "3.7.3"
  }
 },
 "nbformat": 4,
 "nbformat_minor": 2
}
