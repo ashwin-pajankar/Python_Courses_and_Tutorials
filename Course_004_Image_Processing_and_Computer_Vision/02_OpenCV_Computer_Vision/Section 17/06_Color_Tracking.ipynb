{
 "cells": [
  {
   "cell_type": "code",
   "execution_count": 2,
   "metadata": {},
   "outputs": [],
   "source": [
    "import cv2\n",
    "import numpy as np"
   ]
  },
  {
   "cell_type": "code",
   "execution_count": 3,
   "metadata": {},
   "outputs": [],
   "source": [
    "cap = cv2.VideoCapture(0)\n",
    "if cap.isOpened():\n",
    "    ret, frame = cap.read()\n",
    "else:\n",
    "    ret = False\n",
    "    \n",
    "while ret:  \n",
    "    ret, frame = cap.read()\n",
    "    hsv = cv2.cvtColor(frame, cv2.COLOR_BGR2HSV)\n",
    "    \n",
    "    low = np.array([100, 50, 50])\n",
    "    high = np.array([140, 255, 255])\n",
    "    \n",
    "#    low = np.array([40, 50, 50])\n",
    "#    high = np.array([80, 255, 255])\n",
    "    \n",
    "    image_mask = cv2.inRange(hsv, low, high)\n",
    "    output = cv2.bitwise_and(frame, frame, mask = image_mask)\n",
    "    \n",
    "    cv2.imshow(\"Image mask\", image_mask)\n",
    "    cv2.imshow(\"Original Webcam feed\", frame)\n",
    "    cv2.imshow(\"Blue objects\", output)\n",
    "\n",
    "    if cv2.waitKey(1) == 27: # exit on ESC\n",
    "        break\n",
    "cv2.destroyAllWindows()\n",
    "cap.release()"
   ]
  },
  {
   "cell_type": "code",
   "execution_count": null,
   "metadata": {},
   "outputs": [],
   "source": []
  }
 ],
 "metadata": {
  "kernelspec": {
   "display_name": "Python 3",
   "language": "python",
   "name": "python3"
  },
  "language_info": {
   "codemirror_mode": {
    "name": "ipython",
    "version": 3
   },
   "file_extension": ".py",
   "mimetype": "text/x-python",
   "name": "python",
   "nbconvert_exporter": "python",
   "pygments_lexer": "ipython3",
   "version": "3.7.3"
  }
 },
 "nbformat": 4,
 "nbformat_minor": 2
}
