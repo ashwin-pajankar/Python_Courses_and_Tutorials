{
 "cells": [
  {
   "cell_type": "code",
   "execution_count": 1,
   "metadata": {},
   "outputs": [],
   "source": [
    "import cv2"
   ]
  },
  {
   "cell_type": "code",
   "execution_count": 3,
   "metadata": {},
   "outputs": [],
   "source": [
    "windowName = \"OpenCV Video Player\"\n",
    "cv2.namedWindow(windowName)\n",
    "    \n",
    "filename = 'Output.avi'\n",
    "cap = cv2.VideoCapture(filename)\n",
    "    \n",
    "while (cap.isOpened()):\n",
    "    \n",
    "    ret, frame = cap.read()\n",
    "        \n",
    "    if ret:\n",
    "        cv2.imshow(windowName, frame)\n",
    "# the argument to be passed to waitKey = 1000/desired fps\n",
    "        if cv2.waitKey(43) == 27:\n",
    "            break\n",
    "    else:\n",
    "        break\n",
    "\n",
    "cv2.destroyAllWindows()    \n",
    "cap.release()"
   ]
  },
  {
   "cell_type": "code",
   "execution_count": null,
   "metadata": {},
   "outputs": [],
   "source": []
  }
 ],
 "metadata": {
  "kernelspec": {
   "display_name": "Python 3",
   "language": "python",
   "name": "python3"
  },
  "language_info": {
   "codemirror_mode": {
    "name": "ipython",
    "version": 3
   },
   "file_extension": ".py",
   "mimetype": "text/x-python",
   "name": "python",
   "nbconvert_exporter": "python",
   "pygments_lexer": "ipython3",
   "version": "3.7.3"
  }
 },
 "nbformat": 4,
 "nbformat_minor": 2
}
