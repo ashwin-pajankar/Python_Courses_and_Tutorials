{
 "cells": [
  {
   "cell_type": "code",
   "execution_count": null,
   "metadata": {},
   "outputs": [],
   "source": [
    "import cv2\n",
    "import time"
   ]
  },
  {
   "cell_type": "code",
   "execution_count": null,
   "metadata": {},
   "outputs": [],
   "source": [
    "cap = cv2.VideoCapture(0);\n",
    "\n",
    "fps = cap.get(cv2.CAP_PROP_FPS)\n",
    "print(\"Frames per second using video.get(cv2.CAP_PROP_FPS) : {0}\".format(fps))\n",
    "\n",
    "# Number of frames to capture\n",
    "num_frames = 120;\n",
    "     \n",
    "print(\"Capturing {0} frames\".format(num_frames))\n",
    " \n",
    "# Start time\n",
    "start = time.time()\n",
    "     \n",
    "# Grab a few frames\n",
    "for i in range(0, num_frames) :\n",
    "    ret, frame = cap.read()\n",
    "\n",
    "# End time\n",
    "end = time.time()\n",
    " \n",
    "# Time elapsed\n",
    "seconds = end - start\n",
    "print(\"Time taken : {0} seconds\".format(seconds))\n",
    " \n",
    "# Calculate frames per second\n",
    "fps  = num_frames / seconds;\n",
    "print(\"Estimated frames per second : {0}\".format(fps))\n",
    " \n",
    "# Release video\n",
    "cap.release()"
   ]
  }
 ],
 "metadata": {
  "kernelspec": {
   "display_name": "Python 3",
   "language": "python",
   "name": "python3"
  },
  "language_info": {
   "codemirror_mode": {
    "name": "ipython",
    "version": 3
   },
   "file_extension": ".py",
   "mimetype": "text/x-python",
   "name": "python",
   "nbconvert_exporter": "python",
   "pygments_lexer": "ipython3",
   "version": "3.7.3"
  }
 },
 "nbformat": 4,
 "nbformat_minor": 2
}
