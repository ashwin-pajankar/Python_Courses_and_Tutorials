{
 "cells": [
  {
   "cell_type": "code",
   "execution_count": 1,
   "metadata": {},
   "outputs": [],
   "source": [
    "import cv2"
   ]
  },
  {
   "cell_type": "code",
   "execution_count": 2,
   "metadata": {},
   "outputs": [
    {
     "name": "stdout",
     "output_type": "stream",
     "text": [
      "Width : 640.0\n",
      "Height : 480.0\n",
      "Width : 1280.0\n",
      "Height : 960.0\n"
     ]
    }
   ],
   "source": [
    "windowName = \"Live Video Feed\"\n",
    "cv2.namedWindow(windowName)\n",
    "cap = cv2.VideoCapture(0)\n",
    "    \n",
    "print('Width : ' + str(cap.get(3)))\n",
    "print('Height : ' + str(cap.get(4)))\n",
    "    \n",
    "cap.set(3, 5000)\n",
    "cap.set(4, 5000)\n",
    "    \n",
    "print('Width : ' + str(cap.get(3)))\n",
    "print('Height : ' + str(cap.get(4)))\n",
    "    \n",
    "if cap.isOpened():\n",
    "    ret, frame = cap.read()\n",
    "else:\n",
    "    ret = False\n",
    "\n",
    "while ret:\n",
    "    \n",
    "    ret, frame = cap.read()\n",
    "        \n",
    "    output = cv2.cvtColor(frame, cv2.COLOR_BGR2GRAY)\n",
    "        \n",
    "    cv2.imshow(\"Gray\", output)\n",
    "    cv2.imshow(windowName, frame)\n",
    "    if cv2.waitKey(1) == 27:\n",
    "        break\n",
    "\n",
    "cv2.destroyAllWindows()    \n",
    "\n",
    "cap.release()"
   ]
  },
  {
   "cell_type": "code",
   "execution_count": null,
   "metadata": {},
   "outputs": [],
   "source": []
  }
 ],
 "metadata": {
  "kernelspec": {
   "display_name": "Python 3",
   "language": "python",
   "name": "python3"
  },
  "language_info": {
   "codemirror_mode": {
    "name": "ipython",
    "version": 3
   },
   "file_extension": ".py",
   "mimetype": "text/x-python",
   "name": "python",
   "nbconvert_exporter": "python",
   "pygments_lexer": "ipython3",
   "version": "3.7.3"
  }
 },
 "nbformat": 4,
 "nbformat_minor": 2
}
