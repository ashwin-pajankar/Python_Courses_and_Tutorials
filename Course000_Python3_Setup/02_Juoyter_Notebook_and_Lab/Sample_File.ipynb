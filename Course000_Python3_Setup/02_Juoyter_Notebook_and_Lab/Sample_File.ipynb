{
 "cells": [
  {
   "cell_type": "markdown",
   "id": "053524bd",
   "metadata": {},
   "source": [
    "# Sample Jupyter Notebook File"
   ]
  },
  {
   "cell_type": "markdown",
   "id": "158202f6",
   "metadata": {},
   "source": [
    "## Sub-Heading or Level 2 Heading"
   ]
  },
  {
   "cell_type": "raw",
   "id": "15348e8b",
   "metadata": {},
   "source": [
    "This is a sample notebook for Python programming."
   ]
  },
  {
   "cell_type": "markdown",
   "id": "8ed13ca4",
   "metadata": {},
   "source": [
    "This is a sample notebook for Python programming."
   ]
  },
  {
   "cell_type": "code",
   "execution_count": null,
   "id": "e88c87f4",
   "metadata": {},
   "outputs": [],
   "source": [
    "!dir"
   ]
  },
  {
   "cell_type": "code",
   "execution_count": 1,
   "id": "bd0257e2",
   "metadata": {
    "scrolled": true
   },
   "outputs": [
    {
     "name": "stdout",
     "output_type": "stream",
     "text": [
      "Defaulting to user installation because normal site-packages is not writeable\n",
      "Requirement already satisfied: numpy in c:\\users\\ashwin\\appdata\\roaming\\python\\python39\\site-packages (1.21.4)\n",
      "Requirement already satisfied: matplotlib in c:\\users\\ashwin\\appdata\\roaming\\python\\python39\\site-packages (3.5.0)\n",
      "Requirement already satisfied: kiwisolver>=1.0.1 in c:\\users\\ashwin\\appdata\\roaming\\python\\python39\\site-packages (from matplotlib) (1.3.2)\n",
      "Requirement already satisfied: python-dateutil>=2.7 in c:\\users\\ashwin\\appdata\\roaming\\python\\python39\\site-packages (from matplotlib) (2.8.2)\n",
      "Requirement already satisfied: pyparsing>=2.2.1 in c:\\users\\ashwin\\appdata\\roaming\\python\\python39\\site-packages (from matplotlib) (3.0.6)\n",
      "Requirement already satisfied: setuptools-scm>=4 in c:\\users\\ashwin\\appdata\\roaming\\python\\python39\\site-packages (from matplotlib) (6.3.2)\n",
      "Requirement already satisfied: fonttools>=4.22.0 in c:\\users\\ashwin\\appdata\\roaming\\python\\python39\\site-packages (from matplotlib) (4.28.2)\n",
      "Requirement already satisfied: packaging>=20.0 in c:\\users\\ashwin\\appdata\\roaming\\python\\python39\\site-packages (from matplotlib) (21.3)\n",
      "Requirement already satisfied: pillow>=6.2.0 in c:\\users\\ashwin\\appdata\\roaming\\python\\python39\\site-packages (from matplotlib) (8.4.0)\n",
      "Requirement already satisfied: cycler>=0.10 in c:\\users\\ashwin\\appdata\\roaming\\python\\python39\\site-packages (from matplotlib) (0.11.0)\n",
      "Requirement already satisfied: six>=1.5 in c:\\users\\ashwin\\appdata\\roaming\\python\\python39\\site-packages (from python-dateutil>=2.7->matplotlib) (1.16.0)\n",
      "Requirement already satisfied: tomli>=1.0.0 in c:\\users\\ashwin\\appdata\\roaming\\python\\python39\\site-packages (from setuptools-scm>=4->matplotlib) (1.2.2)\n",
      "Requirement already satisfied: setuptools in c:\\program files\\python\\lib\\site-packages (from setuptools-scm>=4->matplotlib) (58.1.0)\n"
     ]
    }
   ],
   "source": [
    "!pip3 install numpy matplotlib"
   ]
  },
  {
   "cell_type": "code",
   "execution_count": 2,
   "id": "c04b97b0",
   "metadata": {},
   "outputs": [],
   "source": [
    "%matplotlib inline\n",
    "import matplotlib.pyplot as plt"
   ]
  },
  {
   "cell_type": "code",
   "execution_count": 3,
   "id": "c8fa4b05",
   "metadata": {},
   "outputs": [
    {
     "data": {
      "text/plain": "<Figure size 432x288 with 1 Axes>",
      "image/png": "[encoded data removed]"
     },
     "metadata": {
      "needs_background": "light"
     },
     "output_type": "display_data"
    }
   ],
   "source": [
    "plt.plot([1, 2, 3], [1, 2, 3])\n",
    "plt.show()"
   ]
  },
  {
   "cell_type": "code",
   "execution_count": 4,
   "id": "8dc8f728",
   "metadata": {},
   "outputs": [
    {
     "name": "stdout",
     "output_type": "stream",
     "text": [
      "Defaulting to user installation because normal site-packages is not writeable\n",
      "Requirement already satisfied: pyqt5 in c:\\users\\ashwin\\appdata\\roaming\\python\\python39\\site-packages (5.15.6)\n",
      "Requirement already satisfied: PyQt5-sip<13,>=12.8 in c:\\users\\ashwin\\appdata\\roaming\\python\\python39\\site-packages (from pyqt5) (12.9.0)\n",
      "Requirement already satisfied: PyQt5-Qt5>=5.15.2 in c:\\users\\ashwin\\appdata\\roaming\\python\\python39\\site-packages (from pyqt5) (5.15.2)\n"
     ]
    }
   ],
   "source": [
    "!pip3 install pyqt5"
   ]
  },
  {
   "cell_type": "code",
   "execution_count": 6,
   "id": "b9172e51",
   "metadata": {},
   "outputs": [],
   "source": [
    "#%matplotlib qt\n",
    "plt.show()"
   ]
  },
  {
   "cell_type": "code",
   "execution_count": 7,
   "id": "d7b7936e",
   "metadata": {},
   "outputs": [],
   "source": [
    "%matplotlib inline\n",
    "plt.show()"
   ]
  },
  {
   "cell_type": "code",
   "execution_count": null,
   "id": "874685fd",
   "metadata": {},
   "outputs": [],
   "source": []
  },
  {
   "cell_type": "code",
   "execution_count": null,
   "id": "07bc924c",
   "metadata": {},
   "outputs": [],
   "source": []
  }
 ],
 "metadata": {
  "kernelspec": {
   "display_name": "Python 3 (ipykernel)",
   "language": "python",
   "name": "python3"
  },
  "language_info": {
   "codemirror_mode": {
    "name": "ipython",
    "version": 3
   },
   "file_extension": ".py",
   "mimetype": "text/x-python",
   "name": "python",
   "nbconvert_exporter": "python",
   "pygments_lexer": "ipython3",
   "version": "3.9.9"
  }
 },
 "nbformat": 4,
 "nbformat_minor": 5
}