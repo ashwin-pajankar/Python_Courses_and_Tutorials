{
 "cells": [
  {
   "cell_type": "code",
   "execution_count": 3,
   "id": "0524d743",
   "metadata": {},
   "outputs": [],
   "source": [
    "class Queue:\n",
    "    def __init__ (self, capacity):\n",
    "        self.front = self.size = 0\n",
    "        self.rear = capacity - 1\n",
    "        self.Q = [None]*capacity\n",
    "        self.capacity = capacity\n",
    "    \n",
    "    def isFull(self):\n",
    "        return self.size == self.capacity\n",
    "    \n",
    "    def isEmpty(self):\n",
    "        return self.size == 0\n",
    "    \n",
    "    def Enque(self, item):\n",
    "        if self.isFull():\n",
    "            print(\"Full...\")\n",
    "            return\n",
    "        self.rear = (self.rear +1) % (self.capacity)\n",
    "        self.Q[self.rear] = item\n",
    "        self.size = self.size + 1\n",
    "        print(\"%s enqued to the queue \" % str(item))\n",
    "        \n",
    "    def Deque(self):\n",
    "        if self.isEmpty():\n",
    "            print(\"Empty...\")\n",
    "            return\n",
    "        print(\"%s dequed from queue...\" % str(self.Q[self.front]) )\n",
    "        self.front = (self.front + 1) % (self.capacity)\n",
    "        self.size = self.size - 1\n",
    "        \n",
    "    def que_front(self):\n",
    "        if self.isEmpty():\n",
    "            print(\"Queue is empty...\")\n",
    "        print (\"Front item is \" + str(self.Q[self.front]))\n",
    "        \n",
    "    def que_rear(self):\n",
    "        if self.isEmpty():\n",
    "            print(\"Queue is empty...\")\n",
    "        print (\"Rear item is \" + str(self.Q[self.rear]))    "
   ]
  },
  {
   "cell_type": "code",
   "execution_count": 5,
   "id": "094a8f86",
   "metadata": {},
   "outputs": [
    {
     "name": "stdout",
     "output_type": "stream",
     "text": [
      "10 enqued to the queue \n",
      "20 enqued to the queue \n",
      "30 enqued to the queue \n",
      "40 enqued to the queue \n",
      "Front item is 10\n",
      "Rear item is 40\n",
      "10 dequed from queue...\n",
      "Front item is 20\n",
      "Rear item is 40\n"
     ]
    }
   ],
   "source": [
    "q = Queue(30)\n",
    "\n",
    "q.Enque(10)\n",
    "q.Enque(20)\n",
    "q.Enque(30)\n",
    "q.Enque(40)\n",
    "\n",
    "q.que_front()\n",
    "q.que_rear()\n",
    "\n",
    "q.Deque()\n",
    "\n",
    "q.que_front()\n",
    "q.que_rear()"
   ]
  },
  {
   "cell_type": "markdown",
   "id": "b992a098",
   "metadata": {},
   "source": [
    "# Queue with Linked List"
   ]
  },
  {
   "cell_type": "code",
   "execution_count": 5,
   "id": "7629dbd3",
   "metadata": {},
   "outputs": [],
   "source": [
    "class Node:\n",
    "    def __init__ (self, data):\n",
    "        self.data = data\n",
    "        self.next = None\n",
    "\n",
    "class Queue:\n",
    "    \n",
    "    def __init__(self):\n",
    "        self.front = self.rear = None\n",
    "    \n",
    "    def isEmpty(self):\n",
    "        return self.front == None\n",
    "    \n",
    "    def Enque(self, item):\n",
    "        temp = Node(item)\n",
    "        if self.rear == None:\n",
    "            self.front = self.rear = temp\n",
    "            return\n",
    "        self.rear.next = temp\n",
    "        self.rear = temp\n",
    "        \n",
    "    def Deque(self):\n",
    "        if self.isEmpty():\n",
    "            return\n",
    "        temp = self.front\n",
    "        self.front = temp.next\n",
    "        if ( self.front == None):\n",
    "            self.rear = None"
   ]
  },
  {
   "cell_type": "code",
   "execution_count": 6,
   "id": "4ad9e8cf",
   "metadata": {},
   "outputs": [
    {
     "ename": "AttributeError",
     "evalue": "'NoneType' object has no attribute 'data'",
     "output_type": "error",
     "traceback": [
      "\u001b[1;31m---------------------------------------------------------------------------\u001b[0m",
      "\u001b[1;31mAttributeError\u001b[0m                            Traceback (most recent call last)",
      "\u001b[1;32m~\\AppData\\Local\\Temp/ipykernel_2024/2287144908.py\u001b[0m in \u001b[0;36m<module>\u001b[1;34m\u001b[0m\n\u001b[0;32m      1\u001b[0m \u001b[0mq\u001b[0m \u001b[1;33m=\u001b[0m \u001b[0mQueue\u001b[0m\u001b[1;33m(\u001b[0m\u001b[1;33m)\u001b[0m\u001b[1;33m\u001b[0m\u001b[1;33m\u001b[0m\u001b[0m\n\u001b[1;32m----> 2\u001b[1;33m \u001b[0mprint\u001b[0m\u001b[1;33m(\u001b[0m\u001b[1;34m\"Queue Front : \"\u001b[0m \u001b[1;33m+\u001b[0m \u001b[0mstr\u001b[0m\u001b[1;33m(\u001b[0m\u001b[0mq\u001b[0m\u001b[1;33m.\u001b[0m\u001b[0mfront\u001b[0m\u001b[1;33m.\u001b[0m\u001b[0mdata\u001b[0m\u001b[1;33m)\u001b[0m\u001b[1;33m)\u001b[0m\u001b[1;33m\u001b[0m\u001b[1;33m\u001b[0m\u001b[0m\n\u001b[0m\u001b[0;32m      3\u001b[0m \u001b[0mprint\u001b[0m\u001b[1;33m(\u001b[0m\u001b[1;34m\"Rear Front : \"\u001b[0m \u001b[1;33m+\u001b[0m \u001b[0mstr\u001b[0m\u001b[1;33m(\u001b[0m\u001b[0mq\u001b[0m\u001b[1;33m.\u001b[0m\u001b[0mrear\u001b[0m\u001b[1;33m.\u001b[0m\u001b[0mdata\u001b[0m\u001b[1;33m)\u001b[0m\u001b[1;33m)\u001b[0m\u001b[1;33m\u001b[0m\u001b[1;33m\u001b[0m\u001b[0m\n",
      "\u001b[1;31mAttributeError\u001b[0m: 'NoneType' object has no attribute 'data'"
     ]
    }
   ],
   "source": [
    "q = Queue()\n",
    "print(\"Queue Front : \" + str(q.front.data))\n",
    "print(\"Queue Rear : \" + str(q.rear.data))"
   ]
  },
  {
   "cell_type": "code",
   "execution_count": 7,
   "id": "cce6ad1f",
   "metadata": {},
   "outputs": [
    {
     "name": "stdout",
     "output_type": "stream",
     "text": [
      "Queue Front : 10\n",
      "Queue Rear : 20\n"
     ]
    }
   ],
   "source": [
    "q.Enque(10)\n",
    "q.Enque(20)\n",
    "print(\"Queue Front : \" + str(q.front.data))\n",
    "print(\"Queue Rear : \" + str(q.rear.data))"
   ]
  },
  {
   "cell_type": "code",
   "execution_count": 8,
   "id": "cc9bfb72",
   "metadata": {},
   "outputs": [
    {
     "name": "stdout",
     "output_type": "stream",
     "text": [
      "Queue Front : 10\n",
      "Queue Rear : 50\n"
     ]
    }
   ],
   "source": [
    "q.Enque(30)\n",
    "q.Enque(40)\n",
    "q.Enque(50)\n",
    "print(\"Queue Front : \" + str(q.front.data))\n",
    "print(\"Queue Rear : \" + str(q.rear.data))"
   ]
  },
  {
   "cell_type": "code",
   "execution_count": 9,
   "id": "077fd308",
   "metadata": {},
   "outputs": [
    {
     "name": "stdout",
     "output_type": "stream",
     "text": [
      "Queue Front : 20\n",
      "Queue Rear : 50\n"
     ]
    }
   ],
   "source": [
    "q.Deque()\n",
    "print(\"Queue Front : \" + str(q.front.data))\n",
    "print(\"Queue Rear : \" + str(q.rear.data))"
   ]
  },
  {
   "cell_type": "code",
   "execution_count": 10,
   "id": "58619637",
   "metadata": {},
   "outputs": [
    {
     "name": "stdout",
     "output_type": "stream",
     "text": [
      "Queue Front : 40\n",
      "Queue Rear : 50\n"
     ]
    }
   ],
   "source": [
    "q.Deque()\n",
    "q.Deque()\n",
    "print(\"Queue Front : \" + str(q.front.data))\n",
    "print(\"Queue Rear : \" + str(q.rear.data))"
   ]
  },
  {
   "cell_type": "markdown",
   "id": "ae7c6e6b",
   "metadata": {},
   "source": [
    "# Queues with Lists"
   ]
  },
  {
   "cell_type": "code",
   "execution_count": 11,
   "id": "879359c5",
   "metadata": {},
   "outputs": [],
   "source": [
    "queue = []"
   ]
  },
  {
   "cell_type": "code",
   "execution_count": 12,
   "id": "d9933f93",
   "metadata": {},
   "outputs": [],
   "source": [
    "queue.append(1)\n",
    "queue.append(2)\n",
    "queue.append(3)"
   ]
  },
  {
   "cell_type": "code",
   "execution_count": 13,
   "id": "26175df5",
   "metadata": {},
   "outputs": [
    {
     "name": "stdout",
     "output_type": "stream",
     "text": [
      "Initial Queue \n",
      "[1, 2, 3]\n"
     ]
    }
   ],
   "source": [
    "print(\"Initial Queue \")\n",
    "print(queue)"
   ]
  },
  {
   "cell_type": "code",
   "execution_count": 14,
   "id": "b9de12ea",
   "metadata": {},
   "outputs": [
    {
     "name": "stdout",
     "output_type": "stream",
     "text": [
      "1\n",
      "2\n",
      "3\n"
     ]
    }
   ],
   "source": [
    "print(queue.pop(0))\n",
    "print(queue.pop(0))\n",
    "print(queue.pop(0))"
   ]
  },
  {
   "cell_type": "code",
   "execution_count": 15,
   "id": "d5cf07e0",
   "metadata": {},
   "outputs": [
    {
     "name": "stdout",
     "output_type": "stream",
     "text": [
      "[]\n"
     ]
    }
   ],
   "source": [
    "print(queue)"
   ]
  },
  {
   "cell_type": "markdown",
   "id": "bf07c07d",
   "metadata": {},
   "source": [
    "# Using Queue Module"
   ]
  },
  {
   "cell_type": "code",
   "execution_count": 1,
   "id": "6eaed7e5",
   "metadata": {},
   "outputs": [
    {
     "name": "stdout",
     "output_type": "stream",
     "text": [
      "0\n"
     ]
    }
   ],
   "source": [
    "from queue import Queue\n",
    "q = Queue(maxsize = 3)\n",
    "print(q.qsize())"
   ]
  },
  {
   "cell_type": "code",
   "execution_count": 2,
   "id": "c6137c77",
   "metadata": {},
   "outputs": [],
   "source": [
    "q.put('a')\n",
    "q.put('b')\n",
    "q.put('c')"
   ]
  },
  {
   "cell_type": "code",
   "execution_count": 3,
   "id": "24b0a353",
   "metadata": {},
   "outputs": [
    {
     "name": "stdout",
     "output_type": "stream",
     "text": [
      "True\n"
     ]
    }
   ],
   "source": [
    "print(q.full())"
   ]
  },
  {
   "cell_type": "code",
   "execution_count": 4,
   "id": "005b14cf",
   "metadata": {},
   "outputs": [
    {
     "data": {
      "text/plain": [
       "'a'"
      ]
     },
     "execution_count": 4,
     "metadata": {},
     "output_type": "execute_result"
    }
   ],
   "source": [
    "q.get()"
   ]
  },
  {
   "cell_type": "code",
   "execution_count": 5,
   "id": "e66300be",
   "metadata": {},
   "outputs": [
    {
     "data": {
      "text/plain": [
       "'b'"
      ]
     },
     "execution_count": 5,
     "metadata": {},
     "output_type": "execute_result"
    }
   ],
   "source": [
    "q.get()"
   ]
  },
  {
   "cell_type": "code",
   "execution_count": 6,
   "id": "a2ca291e",
   "metadata": {},
   "outputs": [
    {
     "data": {
      "text/plain": [
       "'c'"
      ]
     },
     "execution_count": 6,
     "metadata": {},
     "output_type": "execute_result"
    }
   ],
   "source": [
    "q.get()"
   ]
  },
  {
   "cell_type": "code",
   "execution_count": 7,
   "id": "e8a95e5f",
   "metadata": {},
   "outputs": [
    {
     "data": {
      "text/plain": [
       "True"
      ]
     },
     "execution_count": 7,
     "metadata": {},
     "output_type": "execute_result"
    }
   ],
   "source": [
    "q.empty()"
   ]
  },
  {
   "cell_type": "code",
   "execution_count": 8,
   "id": "9e53684e",
   "metadata": {},
   "outputs": [],
   "source": [
    "q.put(1)"
   ]
  },
  {
   "cell_type": "code",
   "execution_count": 9,
   "id": "c32e8cbc",
   "metadata": {},
   "outputs": [
    {
     "data": {
      "text/plain": [
       "False"
      ]
     },
     "execution_count": 9,
     "metadata": {},
     "output_type": "execute_result"
    }
   ],
   "source": [
    "q.empty()"
   ]
  },
  {
   "cell_type": "code",
   "execution_count": 10,
   "id": "9de8e474",
   "metadata": {},
   "outputs": [
    {
     "name": "stdout",
     "output_type": "stream",
     "text": [
      "False\n"
     ]
    }
   ],
   "source": [
    "print(q.full())"
   ]
  },
  {
   "cell_type": "markdown",
   "id": "1401d705",
   "metadata": {},
   "source": [
    "# Collection.deque"
   ]
  },
  {
   "cell_type": "code",
   "execution_count": 11,
   "id": "a292429c",
   "metadata": {},
   "outputs": [],
   "source": [
    "from collections import deque"
   ]
  },
  {
   "cell_type": "code",
   "execution_count": 12,
   "id": "12e15581",
   "metadata": {},
   "outputs": [],
   "source": [
    "q = deque()"
   ]
  },
  {
   "cell_type": "code",
   "execution_count": 13,
   "id": "31c89584",
   "metadata": {},
   "outputs": [
    {
     "name": "stdout",
     "output_type": "stream",
     "text": [
      "deque([])\n"
     ]
    }
   ],
   "source": [
    "print(q)"
   ]
  },
  {
   "cell_type": "code",
   "execution_count": 14,
   "id": "1e9d23b4",
   "metadata": {},
   "outputs": [],
   "source": [
    "q.append(1)\n",
    "q.append(2)\n",
    "q.append(3)"
   ]
  },
  {
   "cell_type": "code",
   "execution_count": 15,
   "id": "5f8f31bb",
   "metadata": {},
   "outputs": [
    {
     "name": "stdout",
     "output_type": "stream",
     "text": [
      "deque([1, 2, 3])\n"
     ]
    }
   ],
   "source": [
    "print(q)"
   ]
  },
  {
   "cell_type": "code",
   "execution_count": 16,
   "id": "a54f9ba5",
   "metadata": {},
   "outputs": [
    {
     "data": {
      "text/plain": [
       "1"
      ]
     },
     "execution_count": 16,
     "metadata": {},
     "output_type": "execute_result"
    }
   ],
   "source": [
    "q.popleft()"
   ]
  },
  {
   "cell_type": "code",
   "execution_count": 17,
   "id": "6464f41a",
   "metadata": {},
   "outputs": [
    {
     "data": {
      "text/plain": [
       "2"
      ]
     },
     "execution_count": 17,
     "metadata": {},
     "output_type": "execute_result"
    }
   ],
   "source": [
    "q.popleft()"
   ]
  },
  {
   "cell_type": "code",
   "execution_count": 18,
   "id": "1480d91b",
   "metadata": {},
   "outputs": [
    {
     "data": {
      "text/plain": [
       "3"
      ]
     },
     "execution_count": 18,
     "metadata": {},
     "output_type": "execute_result"
    }
   ],
   "source": [
    "q.popleft()"
   ]
  },
  {
   "cell_type": "code",
   "execution_count": 19,
   "id": "4db4ee6e",
   "metadata": {},
   "outputs": [
    {
     "name": "stdout",
     "output_type": "stream",
     "text": [
      "deque([])\n"
     ]
    }
   ],
   "source": [
    "print(q)"
   ]
  },
  {
   "cell_type": "code",
   "execution_count": 20,
   "id": "bee1f9a3",
   "metadata": {},
   "outputs": [
    {
     "ename": "IndexError",
     "evalue": "pop from an empty deque",
     "output_type": "error",
     "traceback": [
      "\u001b[1;31m---------------------------------------------------------------------------\u001b[0m",
      "\u001b[1;31mIndexError\u001b[0m                                Traceback (most recent call last)",
      "\u001b[1;32m~\\AppData\\Local\\Temp/ipykernel_21364/3009220604.py\u001b[0m in \u001b[0;36m<module>\u001b[1;34m\u001b[0m\n\u001b[1;32m----> 1\u001b[1;33m \u001b[0mq\u001b[0m\u001b[1;33m.\u001b[0m\u001b[0mpopleft\u001b[0m\u001b[1;33m(\u001b[0m\u001b[1;33m)\u001b[0m\u001b[1;33m\u001b[0m\u001b[1;33m\u001b[0m\u001b[0m\n\u001b[0m",
      "\u001b[1;31mIndexError\u001b[0m: pop from an empty deque"
     ]
    }
   ],
   "source": [
    "q.popleft()"
   ]
  },
  {
   "cell_type": "code",
   "execution_count": 21,
   "id": "be271ae2",
   "metadata": {},
   "outputs": [],
   "source": [
    "de = deque([1, 2, 3, 3, 4, 2, 4])"
   ]
  },
  {
   "cell_type": "code",
   "execution_count": 22,
   "id": "9eee8fe1",
   "metadata": {},
   "outputs": [
    {
     "data": {
      "text/plain": [
       "4"
      ]
     },
     "execution_count": 22,
     "metadata": {},
     "output_type": "execute_result"
    }
   ],
   "source": [
    "de.index(4, 2, 5)"
   ]
  },
  {
   "cell_type": "code",
   "execution_count": 23,
   "id": "f5b36224",
   "metadata": {},
   "outputs": [],
   "source": [
    "de.insert(4, 3)"
   ]
  },
  {
   "cell_type": "code",
   "execution_count": 24,
   "id": "01e1b4d0",
   "metadata": {},
   "outputs": [
    {
     "data": {
      "text/plain": [
       "deque([1, 2, 3, 3, 3, 4, 2, 4])"
      ]
     },
     "execution_count": 24,
     "metadata": {},
     "output_type": "execute_result"
    }
   ],
   "source": [
    "de"
   ]
  },
  {
   "cell_type": "code",
   "execution_count": 25,
   "id": "15cb0718",
   "metadata": {},
   "outputs": [
    {
     "data": {
      "text/plain": [
       "3"
      ]
     },
     "execution_count": 25,
     "metadata": {},
     "output_type": "execute_result"
    }
   ],
   "source": [
    "de.count(3)"
   ]
  },
  {
   "cell_type": "code",
   "execution_count": 26,
   "id": "56ed9f1b",
   "metadata": {},
   "outputs": [],
   "source": [
    "de.remove(3)"
   ]
  },
  {
   "cell_type": "code",
   "execution_count": 27,
   "id": "5c2c31f0",
   "metadata": {},
   "outputs": [
    {
     "data": {
      "text/plain": [
       "deque([1, 2, 3, 3, 4, 2, 4])"
      ]
     },
     "execution_count": 27,
     "metadata": {},
     "output_type": "execute_result"
    }
   ],
   "source": [
    "de"
   ]
  },
  {
   "cell_type": "code",
   "execution_count": 28,
   "id": "18b2629a",
   "metadata": {},
   "outputs": [],
   "source": [
    "de.append(4)"
   ]
  },
  {
   "cell_type": "code",
   "execution_count": 29,
   "id": "20526d55",
   "metadata": {},
   "outputs": [
    {
     "data": {
      "text/plain": [
       "deque([1, 2, 3, 3, 4, 2, 4, 4])"
      ]
     },
     "execution_count": 29,
     "metadata": {},
     "output_type": "execute_result"
    }
   ],
   "source": [
    "de"
   ]
  },
  {
   "cell_type": "code",
   "execution_count": 31,
   "id": "94c80cec",
   "metadata": {},
   "outputs": [],
   "source": [
    "de.appendleft(6)"
   ]
  },
  {
   "cell_type": "code",
   "execution_count": 32,
   "id": "78305efb",
   "metadata": {},
   "outputs": [
    {
     "data": {
      "text/plain": [
       "deque([6, 1, 2, 3, 3, 4, 2, 4, 4])"
      ]
     },
     "execution_count": 32,
     "metadata": {},
     "output_type": "execute_result"
    }
   ],
   "source": [
    "de"
   ]
  },
  {
   "cell_type": "code",
   "execution_count": 33,
   "id": "4c8d9c15",
   "metadata": {},
   "outputs": [
    {
     "data": {
      "text/plain": [
       "4"
      ]
     },
     "execution_count": 33,
     "metadata": {},
     "output_type": "execute_result"
    }
   ],
   "source": [
    "de.pop()"
   ]
  },
  {
   "cell_type": "code",
   "execution_count": 34,
   "id": "0ab6e4af",
   "metadata": {},
   "outputs": [
    {
     "data": {
      "text/plain": [
       "deque([6, 1, 2, 3, 3, 4, 2, 4])"
      ]
     },
     "execution_count": 34,
     "metadata": {},
     "output_type": "execute_result"
    }
   ],
   "source": [
    "de"
   ]
  },
  {
   "cell_type": "code",
   "execution_count": 35,
   "id": "5aa77294",
   "metadata": {},
   "outputs": [
    {
     "data": {
      "text/plain": [
       "6"
      ]
     },
     "execution_count": 35,
     "metadata": {},
     "output_type": "execute_result"
    }
   ],
   "source": [
    "de.popleft()"
   ]
  },
  {
   "cell_type": "code",
   "execution_count": 36,
   "id": "f520cb4c",
   "metadata": {},
   "outputs": [
    {
     "data": {
      "text/plain": [
       "deque([1, 2, 3, 3, 4, 2, 4])"
      ]
     },
     "execution_count": 36,
     "metadata": {},
     "output_type": "execute_result"
    }
   ],
   "source": [
    "de"
   ]
  },
  {
   "cell_type": "code",
   "execution_count": 37,
   "id": "c4d7417e",
   "metadata": {},
   "outputs": [],
   "source": [
    "de.extend([4, 5, 6])"
   ]
  },
  {
   "cell_type": "code",
   "execution_count": 38,
   "id": "34484fb7",
   "metadata": {},
   "outputs": [
    {
     "data": {
      "text/plain": [
       "deque([1, 2, 3, 3, 4, 2, 4, 4, 5, 6])"
      ]
     },
     "execution_count": 38,
     "metadata": {},
     "output_type": "execute_result"
    }
   ],
   "source": [
    "de"
   ]
  },
  {
   "cell_type": "code",
   "execution_count": 39,
   "id": "9603915e",
   "metadata": {},
   "outputs": [],
   "source": [
    "de.extendleft([7, 8, 9])"
   ]
  },
  {
   "cell_type": "code",
   "execution_count": 40,
   "id": "a754640d",
   "metadata": {},
   "outputs": [
    {
     "data": {
      "text/plain": [
       "deque([9, 8, 7, 1, 2, 3, 3, 4, 2, 4, 4, 5, 6])"
      ]
     },
     "execution_count": 40,
     "metadata": {},
     "output_type": "execute_result"
    }
   ],
   "source": [
    "de"
   ]
  },
  {
   "cell_type": "code",
   "execution_count": 41,
   "id": "a9872226",
   "metadata": {},
   "outputs": [],
   "source": [
    "de.rotate(-3)"
   ]
  },
  {
   "cell_type": "code",
   "execution_count": 42,
   "id": "740f3c51",
   "metadata": {},
   "outputs": [
    {
     "data": {
      "text/plain": [
       "deque([1, 2, 3, 3, 4, 2, 4, 4, 5, 6, 9, 8, 7])"
      ]
     },
     "execution_count": 42,
     "metadata": {},
     "output_type": "execute_result"
    }
   ],
   "source": [
    "de"
   ]
  },
  {
   "cell_type": "code",
   "execution_count": 43,
   "id": "b8a2c436",
   "metadata": {},
   "outputs": [],
   "source": [
    "de.reverse()"
   ]
  },
  {
   "cell_type": "code",
   "execution_count": 44,
   "id": "a059d16f",
   "metadata": {},
   "outputs": [
    {
     "data": {
      "text/plain": [
       "deque([7, 8, 9, 6, 5, 4, 4, 2, 4, 3, 3, 2, 1])"
      ]
     },
     "execution_count": 44,
     "metadata": {},
     "output_type": "execute_result"
    }
   ],
   "source": [
    "de"
   ]
  },
  {
   "cell_type": "markdown",
   "id": "d9a7d89d",
   "metadata": {},
   "source": [
    "# implement a Queue with two stacks with costly deque"
   ]
  },
  {
   "cell_type": "code",
   "execution_count": 48,
   "id": "8c13655b",
   "metadata": {},
   "outputs": [],
   "source": [
    "class Queue:\n",
    "    def __init__(self):\n",
    "        self.s1 = []\n",
    "        self.s2 = []\n",
    "    def enQueue(self, x):\n",
    "        while len(self.s1):\n",
    "            self.s2.append(self.s1[-1])\n",
    "            self.s1.pop()\n",
    "        self.s1.append(x)\n",
    "        while len(self.s2):\n",
    "            self.s1.append(self.s2[-1])\n",
    "            self.s2.pop()\n",
    "    def deQueue(self):\n",
    "        if len(self.s1) == 0:\n",
    "            print(\"Q is Empty!\")\n",
    "        x = self.s1[-1]\n",
    "        self.s1.pop()\n",
    "        return x"
   ]
  },
  {
   "cell_type": "code",
   "execution_count": 49,
   "id": "e8efe4a8",
   "metadata": {},
   "outputs": [],
   "source": [
    "q = Queue()\n",
    "q.enQueue(1)\n",
    "q.enQueue(2)\n",
    "q.enQueue(3)\n"
   ]
  },
  {
   "cell_type": "code",
   "execution_count": 50,
   "id": "88c158c6",
   "metadata": {},
   "outputs": [
    {
     "data": {
      "text/plain": [
       "1"
      ]
     },
     "execution_count": 50,
     "metadata": {},
     "output_type": "execute_result"
    }
   ],
   "source": [
    "q.deQueue()"
   ]
  },
  {
   "cell_type": "code",
   "execution_count": 51,
   "id": "85844bb8",
   "metadata": {},
   "outputs": [
    {
     "data": {
      "text/plain": [
       "2"
      ]
     },
     "execution_count": 51,
     "metadata": {},
     "output_type": "execute_result"
    }
   ],
   "source": [
    "q.deQueue()"
   ]
  },
  {
   "cell_type": "code",
   "execution_count": 52,
   "id": "f1d8f176",
   "metadata": {},
   "outputs": [
    {
     "data": {
      "text/plain": [
       "3"
      ]
     },
     "execution_count": 52,
     "metadata": {},
     "output_type": "execute_result"
    }
   ],
   "source": [
    "q.deQueue()"
   ]
  },
  {
   "cell_type": "markdown",
   "id": "0d71607e",
   "metadata": {},
   "source": [
    "# implement a Queue with two stacks with costly enque"
   ]
  },
  {
   "cell_type": "code",
   "execution_count": null,
   "id": "a088f078",
   "metadata": {},
   "outputs": [],
   "source": [
    "class Queue:\n",
    "    def __init__(self):\n",
    "        self.s1 = []\n",
    "        self.s2 = []\n",
    "    def enQueue(self, x):\n",
    "        self.s1.append(x)\n",
    "    def deQueue(self):\n",
    "        if len(self.s1) == 0 and len(self.s2):\n",
    "            print(\"Q is Empty!\")\n",
    "        x = self.s1[-1]\n",
    "        self.s1.pop()\n",
    "        return x"
   ]
  }
 ],
 "metadata": {
  "kernelspec": {
   "display_name": "Python 3 (ipykernel)",
   "language": "python",
   "name": "python3"
  },
  "language_info": {
   "codemirror_mode": {
    "name": "ipython",
    "version": 3
   },
   "file_extension": ".py",
   "mimetype": "text/x-python",
   "name": "python",
   "nbconvert_exporter": "python",
   "pygments_lexer": "ipython3",
   "version": "3.9.9"
  }
 },
 "nbformat": 4,
 "nbformat_minor": 5
}
