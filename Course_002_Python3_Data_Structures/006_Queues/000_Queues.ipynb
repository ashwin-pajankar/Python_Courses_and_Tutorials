{
 "cells": [
  {
   "cell_type": "code",
   "execution_count": 3,
   "id": "0524d743",
   "metadata": {},
   "outputs": [],
   "source": [
    "class Queue:\n",
    "    def __init__ (self, capacity):\n",
    "        self.front = self.size = 0\n",
    "        self.rear = capacity - 1\n",
    "        self.Q = [None]*capacity\n",
    "        self.capacity = capacity\n",
    "    \n",
    "    def isFull(self):\n",
    "        return self.size == self.capacity\n",
    "    \n",
    "    def isEmpty(self):\n",
    "        return self.size == 0\n",
    "    \n",
    "    def Enque(self, item):\n",
    "        if self.isFull():\n",
    "            print(\"Full...\")\n",
    "            return\n",
    "        self.rear = (self.rear +1) % (self.capacity)\n",
    "        self.Q[self.rear] = item\n",
    "        self.size = self.size + 1\n",
    "        print(\"%s enqued to the queue \" % str(item))\n",
    "        \n",
    "    def Deque(self):\n",
    "        if self.isEmpty():\n",
    "            print(\"Empty...\")\n",
    "            return\n",
    "        print(\"%s dequed from queue...\" % str(self.Q[self.front]) )\n",
    "        self.front = (self.front + 1) % (self.capacity)\n",
    "        self.size = self.size - 1\n",
    "        \n",
    "    def que_front(self):\n",
    "        if self.isEmpty():\n",
    "            print(\"Queue is empty...\")\n",
    "        print (\"Front item is \" + str(self.Q[self.front]))\n",
    "        \n",
    "    def que_rear(self):\n",
    "        if self.isEmpty():\n",
    "            print(\"Queue is empty...\")\n",
    "        print (\"Rear item is \" + str(self.Q[self.rear]))    "
   ]
  },
  {
   "cell_type": "code",
   "execution_count": 5,
   "id": "094a8f86",
   "metadata": {},
   "outputs": [
    {
     "name": "stdout",
     "output_type": "stream",
     "text": [
      "10 enqued to the queue \n",
      "20 enqued to the queue \n",
      "30 enqued to the queue \n",
      "40 enqued to the queue \n",
      "Front item is 10\n",
      "Rear item is 40\n",
      "10 dequed from queue...\n",
      "Front item is 20\n",
      "Rear item is 40\n"
     ]
    }
   ],
   "source": [
    "q = Queue(30)\n",
    "\n",
    "q.Enque(10)\n",
    "q.Enque(20)\n",
    "q.Enque(30)\n",
    "q.Enque(40)\n",
    "\n",
    "q.que_front()\n",
    "q.que_rear()\n",
    "\n",
    "q.Deque()\n",
    "\n",
    "q.que_front()\n",
    "q.que_rear()"
   ]
  },
  {
   "cell_type": "code",
   "execution_count": null,
   "id": "2d7d617e",
   "metadata": {},
   "outputs": [],
   "source": []
  }
 ],
 "metadata": {
  "kernelspec": {
   "display_name": "Python 3 (ipykernel)",
   "language": "python",
   "name": "python3"
  },
  "language_info": {
   "codemirror_mode": {
    "name": "ipython",
    "version": 3
   },
   "file_extension": ".py",
   "mimetype": "text/x-python",
   "name": "python",
   "nbconvert_exporter": "python",
   "pygments_lexer": "ipython3",
   "version": "3.9.9"
  }
 },
 "nbformat": 4,
 "nbformat_minor": 5
}
