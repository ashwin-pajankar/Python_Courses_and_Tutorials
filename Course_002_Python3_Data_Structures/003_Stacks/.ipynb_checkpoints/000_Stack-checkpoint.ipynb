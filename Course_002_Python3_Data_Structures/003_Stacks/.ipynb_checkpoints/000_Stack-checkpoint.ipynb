{
 "cells": [
  {
   "cell_type": "code",
   "execution_count": null,
   "id": "48b1e881",
   "metadata": {},
   "outputs": [],
   "source": [
    "from IPython.display import Image\n",
    "Image(filename='stack.png')"
   ]
  },
  {
   "cell_type": "code",
   "execution_count": null,
   "id": "e73d28b8",
   "metadata": {},
   "outputs": [],
   "source": [
    "stack = []\n",
    "\n",
    "stack.append(1)\n",
    "stack.append(2)\n",
    "stack.append(3)\n",
    "stack.append(4)\n",
    "stack.append(5)\n",
    "stack.append(6)"
   ]
  },
  {
   "cell_type": "code",
   "execution_count": null,
   "id": "a45d3ad7",
   "metadata": {},
   "outputs": [],
   "source": [
    "print(stack)"
   ]
  },
  {
   "cell_type": "code",
   "execution_count": null,
   "id": "ef231c1a",
   "metadata": {},
   "outputs": [],
   "source": [
    "print(stack.pop())"
   ]
  },
  {
   "cell_type": "code",
   "execution_count": null,
   "id": "4f9b945e",
   "metadata": {},
   "outputs": [],
   "source": [
    "print(stack.pop())"
   ]
  },
  {
   "cell_type": "code",
   "execution_count": null,
   "id": "fb1cdf14",
   "metadata": {},
   "outputs": [],
   "source": [
    "print(stack.pop())"
   ]
  },
  {
   "cell_type": "code",
   "execution_count": null,
   "id": "90412220",
   "metadata": {},
   "outputs": [],
   "source": [
    "print(stack)"
   ]
  },
  {
   "cell_type": "code",
   "execution_count": null,
   "id": "3bdd9614",
   "metadata": {},
   "outputs": [],
   "source": [
    "# using collection.deque\n",
    "\n",
    "from collections import deque\n",
    "\n",
    "stack = deque()"
   ]
  },
  {
   "cell_type": "code",
   "execution_count": null,
   "id": "f491a76d",
   "metadata": {},
   "outputs": [],
   "source": [
    "stack.append(1)\n",
    "stack.append(2)\n",
    "stack.append(3)\n",
    "stack.append(4)\n",
    "stack.append(5)\n",
    "stack.append(6)"
   ]
  },
  {
   "cell_type": "code",
   "execution_count": null,
   "id": "272a0f40",
   "metadata": {},
   "outputs": [],
   "source": [
    "print(stack)"
   ]
  },
  {
   "cell_type": "code",
   "execution_count": null,
   "id": "4b5bf3b1",
   "metadata": {},
   "outputs": [],
   "source": [
    "print(stack.pop())"
   ]
  },
  {
   "cell_type": "code",
   "execution_count": null,
   "id": "1c8cf103",
   "metadata": {},
   "outputs": [],
   "source": [
    "print(stack.pop())"
   ]
  },
  {
   "cell_type": "code",
   "execution_count": null,
   "id": "dfe3c8c1",
   "metadata": {},
   "outputs": [],
   "source": [
    "print(stack.pop())"
   ]
  },
  {
   "cell_type": "code",
   "execution_count": null,
   "id": "e500f5c6",
   "metadata": {},
   "outputs": [],
   "source": [
    "print(stack)"
   ]
  },
  {
   "cell_type": "code",
   "execution_count": null,
   "id": "52a6bfe8",
   "metadata": {},
   "outputs": [],
   "source": [
    "# Using built-in queue to create stack\n",
    "\n",
    "from queue import LifoQueue\n",
    "stack = LifoQueue(maxsize=3)"
   ]
  },
  {
   "cell_type": "code",
   "execution_count": null,
   "id": "84b4848c",
   "metadata": {},
   "outputs": [],
   "source": [
    "stack.qsize()"
   ]
  },
  {
   "cell_type": "code",
   "execution_count": null,
   "id": "6dcc0e26",
   "metadata": {},
   "outputs": [],
   "source": [
    "stack.put(1)\n",
    "stack.put(2)\n",
    "stack.put(3)"
   ]
  },
  {
   "cell_type": "code",
   "execution_count": null,
   "id": "06c7fe9f",
   "metadata": {},
   "outputs": [],
   "source": [
    "stack.qsize()"
   ]
  },
  {
   "cell_type": "code",
   "execution_count": null,
   "id": "c53d9a39",
   "metadata": {},
   "outputs": [],
   "source": [
    "stack.full()"
   ]
  },
  {
   "cell_type": "code",
   "execution_count": null,
   "id": "9fa3204f",
   "metadata": {},
   "outputs": [],
   "source": [
    "stack.get()"
   ]
  },
  {
   "cell_type": "code",
   "execution_count": null,
   "id": "766f9a46",
   "metadata": {},
   "outputs": [],
   "source": [
    "stack.get()"
   ]
  },
  {
   "cell_type": "code",
   "execution_count": null,
   "id": "03a31c50",
   "metadata": {},
   "outputs": [],
   "source": [
    "stack.get()"
   ]
  },
  {
   "cell_type": "code",
   "execution_count": null,
   "id": "31cce94b",
   "metadata": {},
   "outputs": [],
   "source": [
    "stack.full()"
   ]
  },
  {
   "cell_type": "code",
   "execution_count": null,
   "id": "8a65ff83",
   "metadata": {},
   "outputs": [],
   "source": [
    "stack.qsize()"
   ]
  },
  {
   "cell_type": "code",
   "execution_count": null,
   "id": "bdba916a",
   "metadata": {},
   "outputs": [],
   "source": [
    "stack.empty()"
   ]
  },
  {
   "cell_type": "code",
   "execution_count": null,
   "id": "300438ba",
   "metadata": {},
   "outputs": [],
   "source": [
    "# Custom defined stack\n",
    "from sys import maxsize"
   ]
  },
  {
   "cell_type": "code",
   "execution_count": null,
   "id": "b9aed053",
   "metadata": {},
   "outputs": [],
   "source": [
    "def createStack():\n",
    "    stack=[]\n",
    "    return stack\n",
    "\n",
    "def isEmpty(stack):\n",
    "    return len(stack) == 0\n",
    "\n",
    "def push(stack, item):\n",
    "    stack.append(item)\n",
    "    print(item + \" has been pushed to stack...\")\n",
    "\n",
    "def pop(stack):\n",
    "    if(isEmpty(stack)):\n",
    "        return str(-maxsize - 1)\n",
    "    return stack.pop()\n",
    "\n",
    "def peek(stack):\n",
    "    if ( isEmpty(stack)):\n",
    "        return str(-maxsize - 1)\n",
    "    return stack[len(stack) - 1]"
   ]
  },
  {
   "cell_type": "code",
   "execution_count": null,
   "id": "787d104a",
   "metadata": {},
   "outputs": [],
   "source": [
    "stack = createStack()\n",
    "push(stack, str(10))\n",
    "push(stack, str(20))\n",
    "push(stack, str(30))\n"
   ]
  },
  {
   "cell_type": "code",
   "execution_count": null,
   "id": "38984230",
   "metadata": {},
   "outputs": [],
   "source": [
    "pop(stack)"
   ]
  },
  {
   "cell_type": "code",
   "execution_count": null,
   "id": "b82a9b12",
   "metadata": {},
   "outputs": [],
   "source": [
    "pop(stack)"
   ]
  },
  {
   "cell_type": "code",
   "execution_count": null,
   "id": "2b41dbc5",
   "metadata": {},
   "outputs": [],
   "source": [
    "pop(stack)"
   ]
  },
  {
   "cell_type": "code",
   "execution_count": null,
   "id": "eb758b67",
   "metadata": {},
   "outputs": [],
   "source": [
    "pop(stack)"
   ]
  },
  {
   "cell_type": "code",
   "execution_count": null,
   "id": "c479364c",
   "metadata": {},
   "outputs": [],
   "source": [
    "peek(stack)"
   ]
  },
  {
   "cell_type": "markdown",
   "id": "d3650edd",
   "metadata": {},
   "source": [
    "# Singly Linked Lists as stacks"
   ]
  },
  {
   "cell_type": "code",
   "execution_count": null,
   "id": "c07a21d4",
   "metadata": {},
   "outputs": [],
   "source": [
    "class Node:\n",
    "    def __init__(self, value):\n",
    "        self.value = value\n",
    "        self.next = None"
   ]
  },
  {
   "cell_type": "code",
   "execution_count": null,
   "id": "0d5c7aef",
   "metadata": {},
   "outputs": [],
   "source": [
    "class Stack:\n",
    "    def __init__(self):\n",
    "        self.head = Node(\"Head\")\n",
    "        self.size = 0\n",
    "\n",
    "    def __str__(self):\n",
    "        cur=self.head.next\n",
    "        out=\"\"\n",
    "        while cur:\n",
    "            out = out + str(cur.value) + \"->\"\n",
    "            cur = cur.next\n",
    "        return out[:-3]\n",
    "    \n",
    "    def getSize(self):\n",
    "        return self.size\n",
    "    \n",
    "    def isEmpty(self):\n",
    "        return self.size == 0\n",
    "    \n",
    "    def peek(self):\n",
    "        if self.isEmpty():\n",
    "            raise Exception(\"Peeking from empty Stack...\")\n",
    "        return self.head.next.value\n",
    "    \n",
    "    def push(self, value):\n",
    "        node = Node(value)\n",
    "        node.next = self.head.next\n",
    "        self.head.next = node\n",
    "        self.size = self.size + 1\n",
    "\n",
    "    def pop(self):\n",
    "        if(self.isEmpty()):\n",
    "            raise Exception(\"Popping from empty Stack...\")\n",
    "        remove = self.head.next\n",
    "        self.head.next = self.head.next.next\n",
    "        self.size = self.size - 1\n",
    "        return remove.value"
   ]
  },
  {
   "cell_type": "code",
   "execution_count": null,
   "id": "e343156d",
   "metadata": {},
   "outputs": [],
   "source": [
    "if __name__ == \"__main__\":\n",
    "    stack=Stack()\n",
    "    for i in range(1, 11):\n",
    "        stack.push(i)\n",
    "        \n",
    "    print(stack)\n",
    "    \n",
    "    for i in range (1, 6):\n",
    "        print(stack.pop())\n",
    "    \n",
    "    print(stack)"
   ]
  },
  {
   "cell_type": "markdown",
   "id": "00791855",
   "metadata": {},
   "source": [
    "# Balanced Brackets"
   ]
  },
  {
   "cell_type": "code",
   "execution_count": null,
   "id": "6927ebcd",
   "metadata": {},
   "outputs": [],
   "source": [
    "def isBalanced(expr):\n",
    "    stack = []\n",
    "    \n",
    "    for char in expr:\n",
    "        if char in [\"(\", \"{\", \"[\"]:\n",
    "            stack.append(char)\n",
    "        else:\n",
    "            if not stack:\n",
    "                return False\n",
    "            current_char=stack.pop()\n",
    "            if current_char == '(':\n",
    "                if char != ')':\n",
    "                    return False\n",
    "            if current_char == '{':\n",
    "                if char != '}':\n",
    "                    return False\n",
    "            if current_char == '[':\n",
    "                if char != ']':\n",
    "                    return False\n",
    "    if stack:\n",
    "        return False\n",
    "    else:\n",
    "        return True"
   ]
  },
  {
   "cell_type": "code",
   "execution_count": null,
   "id": "36406df0",
   "metadata": {},
   "outputs": [],
   "source": [
    "expr = \"][\""
   ]
  },
  {
   "cell_type": "code",
   "execution_count": null,
   "id": "4cb14175",
   "metadata": {},
   "outputs": [],
   "source": [
    "isBalanced(expr)"
   ]
  },
  {
   "cell_type": "markdown",
   "id": "0cbacb56",
   "metadata": {},
   "source": [
    "# reverse the order of digits in a decimal number"
   ]
  },
  {
   "cell_type": "code",
   "execution_count": null,
   "id": "be396c83",
   "metadata": {},
   "outputs": [],
   "source": [
    "stack = []\n",
    "\n",
    "def push_digits(number):\n",
    "    \n",
    "    while(number!=0):\n",
    "        stack.append(number % 10)\n",
    "        number = int(number/10)\n",
    "        \n",
    "def reverse_number(number):\n",
    "    \n",
    "    push_digits(number)\n",
    "    \n",
    "    reverse = 0\n",
    "    i = 1\n",
    "    \n",
    "    while( len(stack) > 0):\n",
    "        reverse = reverse + (stack[len(stack)-1] * i)\n",
    "        stack.pop()\n",
    "        i = i * 10\n",
    "        \n",
    "    return reverse"
   ]
  },
  {
   "cell_type": "code",
   "execution_count": null,
   "id": "91331d97",
   "metadata": {},
   "outputs": [],
   "source": [
    "reverse_number(12345)"
   ]
  },
  {
   "cell_type": "code",
   "execution_count": null,
   "id": "20aff420",
   "metadata": {},
   "outputs": [],
   "source": [
    "number = 111999111\n",
    "if (number == reverse_number(number)):\n",
    "    print(\"Palindrome...\")\n",
    "else:\n",
    "    print(\"Not Palindrome...\")"
   ]
  },
  {
   "cell_type": "code",
   "execution_count": null,
   "id": "be69e4f6",
   "metadata": {},
   "outputs": [],
   "source": [
    "number = 12345\n",
    "if (number == reverse_number(number)):\n",
    "    print(\"Palindrome...\")\n",
    "else:\n",
    "    print(\"Not Palindrome...\")"
   ]
  },
  {
   "cell_type": "markdown",
   "id": "145009eb",
   "metadata": {},
   "source": [
    "# Reverse the indivisual words of a string"
   ]
  },
  {
   "cell_type": "code",
   "execution_count": 1,
   "id": "50b021d8",
   "metadata": {},
   "outputs": [],
   "source": [
    "def reverseWords(string):\n",
    "    stack = list()\n",
    "    \n",
    "    for i in range(len(string)):\n",
    "        if(string[i]!=' '):\n",
    "            stack.append(string[i])\n",
    "        else:\n",
    "            while len(stack) > 0:\n",
    "                print(stack[-1], end=\"\")\n",
    "                stack.pop()\n",
    "            print(end=\"\")\n",
    "    while len(stack) > 0:\n",
    "        print(stack[-1], end=\"\")\n",
    "        stack.pop()"
   ]
  },
  {
   "cell_type": "code",
   "execution_count": 2,
   "id": "ca17dd39",
   "metadata": {},
   "outputs": [
    {
     "name": "stdout",
     "output_type": "stream",
     "text": [
      "niwhsAraknajaP"
     ]
    }
   ],
   "source": [
    "reverseWords(\"Ashwin Pajankar\")"
   ]
  },
  {
   "cell_type": "code",
   "execution_count": 6,
   "id": "3bfd780e",
   "metadata": {},
   "outputs": [
    {
     "name": "stdout",
     "output_type": "stream",
     "text": [
      "nohtyPsiehttseb..."
     ]
    }
   ],
   "source": [
    "reverseWords(\"Python is the best ...\")"
   ]
  },
  {
   "cell_type": "code",
   "execution_count": 7,
   "id": "b69cef64",
   "metadata": {},
   "outputs": [],
   "source": [
    "reverseWords(\"\")"
   ]
  },
  {
   "cell_type": "code",
   "execution_count": 8,
   "id": "bfcdde2f",
   "metadata": {},
   "outputs": [],
   "source": [
    "reverseWords(\" \")"
   ]
  },
  {
   "cell_type": "code",
   "execution_count": 9,
   "id": "6bbe2fa3",
   "metadata": {},
   "outputs": [],
   "source": [
    "reverseWords(\"     \")"
   ]
  },
  {
   "cell_type": "markdown",
   "id": "ea9e593d",
   "metadata": {},
   "source": [
    "# Postfix Evaluation"
   ]
  },
  {
   "cell_type": "code",
   "execution_count": 23,
   "id": "d7429600",
   "metadata": {},
   "outputs": [
    {
     "name": "stdout",
     "output_type": "stream",
     "text": [
      "Defaulting to user installation because normal site-packages is not writeable\n",
      "Requirement already satisfied: pythonds in c:\\users\\ashwin\\appdata\\roaming\\python\\python39\\site-packages (1.2.1)\n"
     ]
    }
   ],
   "source": [
    "!pip3 install pythonds"
   ]
  },
  {
   "cell_type": "code",
   "execution_count": 29,
   "id": "9a81ed79",
   "metadata": {},
   "outputs": [],
   "source": [
    "def doMath(operator, operand1, operand2):\n",
    "    print(\"computing \" + str(operand1) \n",
    "          + str(operator) + str(operand2))\n",
    "    if operator ==\"*\":\n",
    "        return operand1 * operand2\n",
    "    elif operator ==\"/\":\n",
    "        return operand1 / operand2\n",
    "    elif operator ==\"+\":\n",
    "        return operand1 + operand2\n",
    "    else:\n",
    "        return operand1 - operand2"
   ]
  },
  {
   "cell_type": "code",
   "execution_count": 30,
   "id": "5494a1c9",
   "metadata": {},
   "outputs": [],
   "source": [
    "from pythonds.basic.stack import Stack"
   ]
  },
  {
   "cell_type": "code",
   "execution_count": 38,
   "id": "335a2523",
   "metadata": {},
   "outputs": [],
   "source": [
    "def postfixEval(postfixExpr):\n",
    "    operandStack = Stack()\n",
    "    print(postfixExpr)\n",
    "    tokenList = list(postfixExpr)\n",
    "    print(tokenList)\n",
    "    \n",
    "    for token in tokenList:\n",
    "        if token in \"0123456789\":\n",
    "            operandStack.push(int(token))\n",
    "            print(\"Push() \" + str(token))\n",
    "        else:\n",
    "            operand2 = operandStack.pop()\n",
    "            operand1 = operandStack.pop()\n",
    "            operator = token\n",
    "            result = doMath(operator, operand1, operand2)\n",
    "            operandStack.push(result)\n",
    "    return(operandStack.pop())"
   ]
  },
  {
   "cell_type": "code",
   "execution_count": 43,
   "id": "5c125914",
   "metadata": {},
   "outputs": [
    {
     "name": "stdout",
     "output_type": "stream",
     "text": [
      "12+12-/\n",
      "['1', '2', '+', '1', '2', '-', '/']\n",
      "Push() 1\n",
      "Push() 2\n",
      "computing 1+2\n",
      "Push() 1\n",
      "Push() 2\n",
      "computing 1-2\n",
      "computing 3/-1\n"
     ]
    },
    {
     "data": {
      "text/plain": [
       "-3.0"
      ]
     },
     "execution_count": 43,
     "metadata": {},
     "output_type": "execute_result"
    }
   ],
   "source": [
    "postfixEval(\"12+12-/\")"
   ]
  },
  {
   "cell_type": "markdown",
   "id": "7dc06786",
   "metadata": {},
   "source": [
    "# Prefix to Postfix"
   ]
  },
  {
   "cell_type": "code",
   "execution_count": 52,
   "id": "739d99d3",
   "metadata": {},
   "outputs": [],
   "source": [
    "def isOperator(c):\n",
    "    if c in ['*', '+', '-', '/', '^']:\n",
    "        return True\n",
    "    else:\n",
    "        return False"
   ]
  },
  {
   "cell_type": "code",
   "execution_count": 50,
   "id": "8c0f7cad",
   "metadata": {},
   "outputs": [],
   "source": [
    "s = \"*-A/BC-/AKL\""
   ]
  },
  {
   "cell_type": "code",
   "execution_count": 51,
   "id": "b90f9b4c",
   "metadata": {},
   "outputs": [],
   "source": [
    "stack = []"
   ]
  },
  {
   "cell_type": "code",
   "execution_count": 53,
   "id": "a9950e71",
   "metadata": {},
   "outputs": [
    {
     "name": "stdout",
     "output_type": "stream",
     "text": [
      "LKA/-CB/A-*\n"
     ]
    }
   ],
   "source": [
    "s = s[::-1]\n",
    "print(s)"
   ]
  },
  {
   "cell_type": "code",
   "execution_count": 54,
   "id": "19f91c1b",
   "metadata": {},
   "outputs": [],
   "source": [
    "for i in s:\n",
    "    if isOperator(i):\n",
    "        a = stack.pop()\n",
    "        b = stack.pop()\n",
    "        stack.append(a+b+i)\n",
    "    else:\n",
    "        stack.append(i)"
   ]
  },
  {
   "cell_type": "code",
   "execution_count": 56,
   "id": "83374aaf",
   "metadata": {},
   "outputs": [
    {
     "name": "stdout",
     "output_type": "stream",
     "text": [
      "ABC/-AK/L-*\n"
     ]
    }
   ],
   "source": [
    "print(stack.pop())"
   ]
  },
  {
   "cell_type": "code",
   "execution_count": null,
   "id": "419c1bc0",
   "metadata": {},
   "outputs": [],
   "source": []
  }
 ],
 "metadata": {
  "kernelspec": {
   "display_name": "Python 3 (ipykernel)",
   "language": "python",
   "name": "python3"
  },
  "language_info": {
   "codemirror_mode": {
    "name": "ipython",
    "version": 3
   },
   "file_extension": ".py",
   "mimetype": "text/x-python",
   "name": "python",
   "nbconvert_exporter": "python",
   "pygments_lexer": "ipython3",
   "version": "3.9.9"
  }
 },
 "nbformat": 4,
 "nbformat_minor": 5
}
