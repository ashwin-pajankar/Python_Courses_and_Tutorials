{
 "cells": [
  {
   "cell_type": "code",
   "execution_count": 31,
   "id": "e656b756",
   "metadata": {},
   "outputs": [],
   "source": [
    "# Binary Tree\n",
    "class Node:\n",
    "    def __init__(self, key):\n",
    "        self.left = None\n",
    "        self.right = None\n",
    "        self.val = key     # self.data = key"
   ]
  },
  {
   "cell_type": "code",
   "execution_count": 2,
   "id": "d782de80",
   "metadata": {},
   "outputs": [],
   "source": [
    "root = Node(1)\n",
    "root.left = Node(2)\n",
    "root.right = Node(3)\n",
    "root.left.left = Node(4)"
   ]
  },
  {
   "cell_type": "code",
   "execution_count": 32,
   "id": "77efa426",
   "metadata": {},
   "outputs": [],
   "source": [
    "def Inorder(root):\n",
    "    if root:\n",
    "        Inorder(root.left)\n",
    "        print(root.val, end=\" \")\n",
    "        Inorder(root.right)"
   ]
  },
  {
   "cell_type": "code",
   "execution_count": 21,
   "id": "a2fa99eb",
   "metadata": {},
   "outputs": [],
   "source": [
    "def Preorder(root):\n",
    "    if root:\n",
    "        print(root.val, end=\" \")\n",
    "        Preorder(root.left)\n",
    "        Preorder(root.right)"
   ]
  },
  {
   "cell_type": "code",
   "execution_count": 22,
   "id": "3028cee0",
   "metadata": {},
   "outputs": [],
   "source": [
    "def Postorder(root):\n",
    "    if root:\n",
    "        Postorder(root.left)\n",
    "        Postorder(root.right)\n",
    "        print(root.val, end=\" \")"
   ]
  },
  {
   "cell_type": "code",
   "execution_count": 8,
   "id": "35c0aaef",
   "metadata": {},
   "outputs": [
    {
     "name": "stdout",
     "output_type": "stream",
     "text": [
      "4 2 1 3 "
     ]
    }
   ],
   "source": [
    "Inorder(root)"
   ]
  },
  {
   "cell_type": "code",
   "execution_count": 9,
   "id": "1238177c",
   "metadata": {},
   "outputs": [
    {
     "name": "stdout",
     "output_type": "stream",
     "text": [
      "1 2 4 3 "
     ]
    }
   ],
   "source": [
    "Preorder(root)"
   ]
  },
  {
   "cell_type": "code",
   "execution_count": 10,
   "id": "6863a089",
   "metadata": {},
   "outputs": [
    {
     "name": "stdout",
     "output_type": "stream",
     "text": [
      "4 2 3 1 "
     ]
    }
   ],
   "source": [
    "Postorder(root)"
   ]
  },
  {
   "cell_type": "markdown",
   "id": "d0a20632",
   "metadata": {},
   "source": [
    "# List/array implementation of Binary Tree"
   ]
  },
  {
   "cell_type": "code",
   "execution_count": 27,
   "id": "8c6e5f32",
   "metadata": {},
   "outputs": [],
   "source": [
    "tree = [None] * 10"
   ]
  },
  {
   "cell_type": "code",
   "execution_count": 28,
   "id": "6210d482",
   "metadata": {},
   "outputs": [],
   "source": [
    "def root(key):\n",
    "    tree[0] = key"
   ]
  },
  {
   "cell_type": "code",
   "execution_count": 30,
   "id": "1ed66c2e",
   "metadata": {},
   "outputs": [],
   "source": [
    "def set_left(key, parent):\n",
    "    if tree[parent] == None:\n",
    "        print(\"Parent is not found!\")\n",
    "    else:\n",
    "        tree[(parent * 2) + 1] = key"
   ]
  },
  {
   "cell_type": "code",
   "execution_count": 31,
   "id": "d9b1b700",
   "metadata": {},
   "outputs": [],
   "source": [
    "def set_right(key, parent):\n",
    "    if tree[parent] == None:\n",
    "        print(\"Parent is not found!\")\n",
    "    else:\n",
    "        tree[(parent * 2) + 2] = key"
   ]
  },
  {
   "cell_type": "code",
   "execution_count": 32,
   "id": "ea556a3c",
   "metadata": {},
   "outputs": [],
   "source": [
    "def print_tree():\n",
    "    for i in range(10):\n",
    "        if tree[i]:\n",
    "            print(tree[i], end = \" \")\n",
    "        else:\n",
    "            print(\"-\", end = \" \")\n",
    "    print()"
   ]
  },
  {
   "cell_type": "code",
   "execution_count": 33,
   "id": "3f8e1477",
   "metadata": {},
   "outputs": [],
   "source": [
    "root('A')\n",
    "set_left('B', 0)\n",
    "set_right('C', 0)\n",
    "set_left('D', 1)\n",
    "set_right('E', 1)\n",
    "set_left('F', 2)\n",
    "set_right('G', 2)"
   ]
  },
  {
   "cell_type": "code",
   "execution_count": 34,
   "id": "5a08e5d7",
   "metadata": {},
   "outputs": [
    {
     "name": "stdout",
     "output_type": "stream",
     "text": [
      "A B C D E F G - - - \n"
     ]
    }
   ],
   "source": [
    "print_tree()"
   ]
  },
  {
   "cell_type": "markdown",
   "id": "3af1a204",
   "metadata": {},
   "source": [
    "# Build Expression Tree from postfix expression"
   ]
  },
  {
   "cell_type": "code",
   "execution_count": 6,
   "id": "3f07f8a7",
   "metadata": {},
   "outputs": [],
   "source": [
    "def isOperator(c):\n",
    "    if ( c=='+' or\n",
    "       c == '-' or\n",
    "       c == '*' or\n",
    "       c == '/' or\n",
    "       c == '^'):\n",
    "        return True\n",
    "    else:\n",
    "        return False"
   ]
  },
  {
   "cell_type": "code",
   "execution_count": 26,
   "id": "f3c92139",
   "metadata": {},
   "outputs": [],
   "source": [
    "def constructTree(postfix):\n",
    "    stack = []\n",
    "    print(\"Postfix Expression is :  \" + postfix)\n",
    "    for char in postfix:\n",
    "        print(\"Read \" + char + \" and created a node...\")\n",
    "        t = Node(char)\n",
    "        if isOperator(char):  \n",
    "            print(char + \" is an operator...\")\n",
    "            t1 = stack.pop()\n",
    "            print(\"Popped() \" + t1.val )\n",
    "            t2 = stack.pop()\n",
    "            print(\"Popped() \" + t2.val )\n",
    "            t.right = t1\n",
    "            t.left = t2    \n",
    "        else:\n",
    "            print(char + \" is an operand...\")\n",
    "        stack.append(t)\n",
    "        print(\"Push() \" +  t.val + \" into the stack...\")\n",
    "    t = stack.pop()\n",
    "    print(\"Popped() \" + t.val )\n",
    "    return t"
   ]
  },
  {
   "cell_type": "code",
   "execution_count": 27,
   "id": "087cfd23",
   "metadata": {},
   "outputs": [
    {
     "name": "stdout",
     "output_type": "stream",
     "text": [
      "Postfix Expression is :  ab+ef*g*-\n",
      "Read a and created a node...\n",
      "a is an operand...\n",
      "Push() a into the stack...\n",
      "Read b and created a node...\n",
      "b is an operand...\n",
      "Push() b into the stack...\n",
      "Read + and created a node...\n",
      "+ is an operator...\n",
      "Popped() b\n",
      "Popped() a\n",
      "Push() + into the stack...\n",
      "Read e and created a node...\n",
      "e is an operand...\n",
      "Push() e into the stack...\n",
      "Read f and created a node...\n",
      "f is an operand...\n",
      "Push() f into the stack...\n",
      "Read * and created a node...\n",
      "* is an operator...\n",
      "Popped() f\n",
      "Popped() e\n",
      "Push() * into the stack...\n",
      "Read g and created a node...\n",
      "g is an operand...\n",
      "Push() g into the stack...\n",
      "Read * and created a node...\n",
      "* is an operator...\n",
      "Popped() g\n",
      "Popped() *\n",
      "Push() * into the stack...\n",
      "Read - and created a node...\n",
      "- is an operator...\n",
      "Popped() *\n",
      "Popped() +\n",
      "Push() - into the stack...\n",
      "Popped() -\n",
      "a + b - e * f * g "
     ]
    }
   ],
   "source": [
    "postfix = \"ab+ef*g*-\"\n",
    "r = constructTree(postfix)\n",
    "Inorder(r)"
   ]
  },
  {
   "cell_type": "code",
   "execution_count": 28,
   "id": "ce0d42e9",
   "metadata": {},
   "outputs": [
    {
     "name": "stdout",
     "output_type": "stream",
     "text": [
      "- + a b * * e f g "
     ]
    }
   ],
   "source": [
    "Preorder(r)"
   ]
  },
  {
   "cell_type": "markdown",
   "id": "5963299d",
   "metadata": {},
   "source": [
    "# Evaluate expression tree"
   ]
  },
  {
   "cell_type": "code",
   "execution_count": 36,
   "id": "92b0eda3",
   "metadata": {},
   "outputs": [],
   "source": [
    "def evaluate(root):\n",
    "    \n",
    "    if root is None:\n",
    "        print(\"Empty Node...\")\n",
    "        return 0\n",
    "    \n",
    "    if root.left is None and root.right is None:\n",
    "        print(\"Leaf Node / Operand : \" + str (root.val))\n",
    "        return int(root.val)\n",
    "    \n",
    "    \n",
    "    print(\"Computing the left subtree ...\")\n",
    "    left_sum = evaluate(root.left)\n",
    "    print(\"Computing the right subtree ...\")\n",
    "    right_sum = evaluate(root.right)\n",
    "    \n",
    "    if root.val == '+':\n",
    "        print (str(left_sum) + ' + ' + str(right_sum) + \n",
    "              \" : \"+str(left_sum + right_sum))\n",
    "        return left_sum + right_sum\n",
    "    if root.val == '-':\n",
    "        print (str(left_sum) + ' - ' + str(right_sum) + \n",
    "              \" : \"+str(left_sum - right_sum))\n",
    "        return left_sum - right_sum\n",
    "    if root.val == '*':\n",
    "        print (str(left_sum) + ' * ' + str(right_sum) + \n",
    "              \" : \"+str(left_sum * right_sum))\n",
    "        return left_sum * right_sum\n",
    "    if root.val == '/':\n",
    "        print (str(left_sum) + ' / ' + str(right_sum) + \n",
    "              \" : \"+str(left_sum / right_sum))\n",
    "        return left_sum / right_sum"
   ]
  },
  {
   "cell_type": "code",
   "execution_count": 30,
   "id": "7ec98b76",
   "metadata": {},
   "outputs": [],
   "source": [
    "root = Node('+')\n",
    "root.left = Node('*')\n",
    "root.left.left = Node('5')\n",
    "root.left.right = Node('4')\n",
    "root.right = Node('-')\n",
    "root.right.left = Node('100')\n",
    "root.right.right = Node('20')"
   ]
  },
  {
   "cell_type": "code",
   "execution_count": 33,
   "id": "afa77774",
   "metadata": {},
   "outputs": [
    {
     "name": "stdout",
     "output_type": "stream",
     "text": [
      "Computing the left subtree ...\n",
      "Computing the left subtree ...\n",
      "Leaf Node / Operand\n",
      "Computing the right subtree ...\n",
      "Leaf Node / Operand\n",
      "5 * 4\n",
      "Computing the right subtree ...\n",
      "Computing the left subtree ...\n",
      "Leaf Node / Operand\n",
      "Computing the right subtree ...\n",
      "Leaf Node / Operand\n",
      "100 - 20\n",
      "20 + 80\n"
     ]
    },
    {
     "data": {
      "text/plain": [
       "100"
      ]
     },
     "execution_count": 33,
     "metadata": {},
     "output_type": "execute_result"
    }
   ],
   "source": [
    "evaluate(root)"
   ]
  },
  {
   "cell_type": "code",
   "execution_count": 42,
   "id": "0dffb8c6",
   "metadata": {},
   "outputs": [],
   "source": [
    "root = Node('+')\n",
    "root.left = Node('*')\n",
    "root.left.left = Node('5')\n",
    "root.left.right = Node('4')\n",
    "root.right = Node('-')\n",
    "root.right.left = Node('100')\n",
    "root.right.right = Node('/')\n",
    "root.right.right.left = Node('20')\n",
    "root.right.right.right = Node('2')"
   ]
  },
  {
   "cell_type": "code",
   "execution_count": 38,
   "id": "3e96c416",
   "metadata": {},
   "outputs": [
    {
     "name": "stdout",
     "output_type": "stream",
     "text": [
      "Computing the left subtree ...\n",
      "Computing the left subtree ...\n",
      "Leaf Node / Operand : 5\n",
      "Computing the right subtree ...\n",
      "Leaf Node / Operand : 4\n",
      "5 * 4 : 20\n",
      "Computing the right subtree ...\n",
      "Computing the left subtree ...\n",
      "Leaf Node / Operand : 100\n",
      "Computing the right subtree ...\n",
      "Computing the left subtree ...\n",
      "Leaf Node / Operand : 20\n",
      "Computing the right subtree ...\n",
      "Leaf Node / Operand : 2\n",
      "20 / 2 : 10.0\n",
      "100 - 10.0 : 90.0\n",
      "20 + 90.0 : 110.0\n"
     ]
    },
    {
     "data": {
      "text/plain": [
       "110.0"
      ]
     },
     "execution_count": 38,
     "metadata": {},
     "output_type": "execute_result"
    }
   ],
   "source": [
    "evaluate(root)"
   ]
  },
  {
   "cell_type": "markdown",
   "id": "0be7faed",
   "metadata": {},
   "source": [
    "# Level Order Traversal"
   ]
  },
  {
   "cell_type": "code",
   "execution_count": 6,
   "id": "27a36666",
   "metadata": {},
   "outputs": [],
   "source": [
    "def height(node):\n",
    "    if node is None:\n",
    "        print(\"Empty Node...\")\n",
    "        return 0\n",
    "    else:\n",
    "        print(\"Traversing left...\")\n",
    "        lheight = height(node.left)\n",
    "        print(\"Traversing right...\")\n",
    "        rheight = height(node.right)\n",
    "        \n",
    "        if lheight > rheight:\n",
    "            print(\"Returning Left Height...\")\n",
    "            return lheight + 1\n",
    "        else:\n",
    "            print(\"Returning Right Height...\")\n",
    "            return rheight + 1"
   ]
  },
  {
   "cell_type": "code",
   "execution_count": 7,
   "id": "f5f8e8a1",
   "metadata": {},
   "outputs": [],
   "source": [
    "def printCurrentLevel(root, level):\n",
    "    if root is None:\n",
    "        print(\"Empty Tree...\")\n",
    "        return\n",
    "    if level == 1:\n",
    "        print(\"Leaf Node...\")\n",
    "        print(root.val, end = \" <---> \")\n",
    "    elif level > 1:\n",
    "        print(\"Printing Left Subtree...\")\n",
    "        printCurrentLevel(root.left, level-1)\n",
    "        print(\"Printing Right Subtree...\")\n",
    "        printCurrentLevel(root.right, level-1)"
   ]
  },
  {
   "cell_type": "code",
   "execution_count": 8,
   "id": "23fc279c",
   "metadata": {},
   "outputs": [],
   "source": [
    "def printLevelOrder(root):\n",
    "    print(\"Computing Height...\")\n",
    "    h = height(root)\n",
    "    for i in range ( 1, h+1):\n",
    "        print(\"Printing Level Number : \" + str(i))\n",
    "        printCurrentLevel(root, i)"
   ]
  },
  {
   "cell_type": "code",
   "execution_count": 9,
   "id": "eb886dff",
   "metadata": {},
   "outputs": [],
   "source": [
    "root = Node(1)\n",
    "root.left = Node(2)\n",
    "root.left.left = Node(4)\n",
    "root.left.right = Node(5)\n",
    "root.right = Node(3)"
   ]
  },
  {
   "cell_type": "code",
   "execution_count": 10,
   "id": "2bd15261",
   "metadata": {
    "scrolled": true
   },
   "outputs": [
    {
     "name": "stdout",
     "output_type": "stream",
     "text": [
      "Computing Height...\n",
      "Traversing left...\n",
      "Traversing left...\n",
      "Traversing left...\n",
      "Empty Node...\n",
      "Traversing right...\n",
      "Empty Node...\n",
      "Returning Right Height...\n",
      "Traversing right...\n",
      "Traversing left...\n",
      "Empty Node...\n",
      "Traversing right...\n",
      "Empty Node...\n",
      "Returning Right Height...\n",
      "Returning Right Height...\n",
      "Traversing right...\n",
      "Traversing left...\n",
      "Empty Node...\n",
      "Traversing right...\n",
      "Empty Node...\n",
      "Returning Right Height...\n",
      "Returning Left Height...\n",
      "Printing Level Number : 1\n",
      "Leaf Node...\n",
      "1 <---> Printing Level Number : 2\n",
      "Printing Left Subtree...\n",
      "Leaf Node...\n",
      "2 <---> Printing Right Subtree...\n",
      "Leaf Node...\n",
      "3 <---> Printing Level Number : 3\n",
      "Printing Left Subtree...\n",
      "Printing Left Subtree...\n",
      "Leaf Node...\n",
      "4 <---> Printing Right Subtree...\n",
      "Leaf Node...\n",
      "5 <---> Printing Right Subtree...\n",
      "Printing Left Subtree...\n",
      "Empty Tree...\n",
      "Printing Right Subtree...\n",
      "Empty Tree...\n"
     ]
    }
   ],
   "source": [
    "printLevelOrder(root)"
   ]
  },
  {
   "cell_type": "markdown",
   "id": "242a38f6",
   "metadata": {},
   "source": [
    "# possible number of binary trees with given number of nodes"
   ]
  },
  {
   "cell_type": "code",
   "execution_count": 13,
   "id": "ff3b077b",
   "metadata": {},
   "outputs": [],
   "source": [
    "def countTrees(n):\n",
    "    BT = [0] * (n+1)\n",
    "    \n",
    "    BT[0] = BT[1] = 1\n",
    "    \n",
    "    for i in range (2, n+1):\n",
    "        for j in range(i):\n",
    "            BT[i] += BT[j] * BT[i - j - 1]\n",
    "    return BT[n]"
   ]
  },
  {
   "cell_type": "code",
   "execution_count": 14,
   "id": "fbdcaab0",
   "metadata": {},
   "outputs": [
    {
     "data": {
      "text/plain": [
       "1"
      ]
     },
     "execution_count": 14,
     "metadata": {},
     "output_type": "execute_result"
    }
   ],
   "source": [
    "countTrees(1)"
   ]
  },
  {
   "cell_type": "code",
   "execution_count": 15,
   "id": "1504e6ab",
   "metadata": {},
   "outputs": [
    {
     "data": {
      "text/plain": [
       "2"
      ]
     },
     "execution_count": 15,
     "metadata": {},
     "output_type": "execute_result"
    }
   ],
   "source": [
    "countTrees(2)"
   ]
  },
  {
   "cell_type": "code",
   "execution_count": 16,
   "id": "8b02c568",
   "metadata": {},
   "outputs": [
    {
     "data": {
      "text/plain": [
       "5"
      ]
     },
     "execution_count": 16,
     "metadata": {},
     "output_type": "execute_result"
    }
   ],
   "source": [
    "countTrees(3)"
   ]
  },
  {
   "cell_type": "code",
   "execution_count": 17,
   "id": "c23f4ff4",
   "metadata": {},
   "outputs": [
    {
     "data": {
      "text/plain": [
       "14"
      ]
     },
     "execution_count": 17,
     "metadata": {},
     "output_type": "execute_result"
    }
   ],
   "source": [
    "countTrees(4)"
   ]
  },
  {
   "cell_type": "code",
   "execution_count": 18,
   "id": "bbe9e598",
   "metadata": {},
   "outputs": [
    {
     "data": {
      "text/plain": [
       "42"
      ]
     },
     "execution_count": 18,
     "metadata": {},
     "output_type": "execute_result"
    }
   ],
   "source": [
    "countTrees(5)"
   ]
  },
  {
   "cell_type": "markdown",
   "id": "0617ca05",
   "metadata": {},
   "source": [
    "# Construct Binary Tree from a list of level order traversal"
   ]
  },
  {
   "cell_type": "code",
   "execution_count": 23,
   "id": "8f86a1dc",
   "metadata": {},
   "outputs": [],
   "source": [
    "def insertLevelOrder(arr, root, i, n):\n",
    "    if i < n:\n",
    "        temp = Node(arr[i])\n",
    "        root = temp        \n",
    "        root.left = insertLevelOrder(arr, root.left, 2*i+1, n)\n",
    "        root.right = insertLevelOrder(arr, root.right, 2*i+2, n)\n",
    "    return root"
   ]
  },
  {
   "cell_type": "code",
   "execution_count": 24,
   "id": "a5e07346",
   "metadata": {},
   "outputs": [],
   "source": [
    "arr = [1, 2, 3, 4, 5, 6, 6 ,6 ,6]\n",
    "n = len(arr)\n",
    "root = None\n",
    "root = insertLevelOrder(arr, root, 0 , n)"
   ]
  },
  {
   "cell_type": "code",
   "execution_count": 25,
   "id": "93519656",
   "metadata": {},
   "outputs": [
    {
     "name": "stdout",
     "output_type": "stream",
     "text": [
      "6 4 6 2 5 1 6 3 6 "
     ]
    }
   ],
   "source": [
    "Inorder(root)"
   ]
  },
  {
   "cell_type": "code",
   "execution_count": 26,
   "id": "1e55419d",
   "metadata": {},
   "outputs": [
    {
     "name": "stdout",
     "output_type": "stream",
     "text": [
      "1 2 4 6 6 5 3 6 6 "
     ]
    }
   ],
   "source": [
    "Preorder(root)"
   ]
  },
  {
   "cell_type": "code",
   "execution_count": 27,
   "id": "7a1a640c",
   "metadata": {},
   "outputs": [
    {
     "name": "stdout",
     "output_type": "stream",
     "text": [
      "6 6 4 5 2 6 6 3 1 "
     ]
    }
   ],
   "source": [
    "Postorder(root)"
   ]
  },
  {
   "cell_type": "markdown",
   "id": "ffc3d1d6",
   "metadata": {},
   "source": [
    "# Compute the sum of all nodes"
   ]
  },
  {
   "cell_type": "code",
   "execution_count": 28,
   "id": "c9947297",
   "metadata": {},
   "outputs": [],
   "source": [
    "def addBT(root):\n",
    "    if root == None:\n",
    "        return 0\n",
    "    return (root.val + addBT(root.left) + addBT(root.right))"
   ]
  },
  {
   "cell_type": "code",
   "execution_count": 29,
   "id": "fd9055b2",
   "metadata": {},
   "outputs": [],
   "source": [
    "root = Node(1)\n",
    "root.left = Node(2)\n",
    "root.right = Node(3)\n",
    "root.left.left = Node(4)"
   ]
  },
  {
   "cell_type": "code",
   "execution_count": 30,
   "id": "6103cabc",
   "metadata": {},
   "outputs": [
    {
     "data": {
      "text/plain": [
       "10"
      ]
     },
     "execution_count": 30,
     "metadata": {},
     "output_type": "execute_result"
    }
   ],
   "source": [
    "addBT(root)"
   ]
  },
  {
   "cell_type": "markdown",
   "id": "f919a9e9",
   "metadata": {},
   "source": [
    "# Insert operation in a Binary Search Tree"
   ]
  },
  {
   "cell_type": "code",
   "execution_count": 36,
   "id": "e79178bb",
   "metadata": {},
   "outputs": [],
   "source": [
    "def insertBST(root, key):\n",
    "    if root is None:\n",
    "        return Node(key)\n",
    "    else:\n",
    "        if root.val == key:\n",
    "            return root\n",
    "        elif root.val < key:\n",
    "            root.right = insert(root.right, key)\n",
    "        else:\n",
    "            root.left = insert(root.left, key)\n",
    "    return root"
   ]
  },
  {
   "cell_type": "code",
   "execution_count": 37,
   "id": "f2a70337",
   "metadata": {},
   "outputs": [
    {
     "data": {
      "text/plain": [
       "<__main__.Node at 0x20b73055ca0>"
      ]
     },
     "execution_count": 37,
     "metadata": {},
     "output_type": "execute_result"
    }
   ],
   "source": [
    "root = Node(50)\n",
    "insertBST(root, 30)\n",
    "insertBST(root, 20)\n",
    "insertBST(root, 40)\n",
    "insertBST(root, 70)\n",
    "insertBST(root, 60)\n",
    "insertBST(root, 80)"
   ]
  },
  {
   "cell_type": "code",
   "execution_count": 38,
   "id": "401d58f5",
   "metadata": {},
   "outputs": [
    {
     "name": "stdout",
     "output_type": "stream",
     "text": [
      "20 30 40 50 60 70 80 "
     ]
    }
   ],
   "source": [
    "Inorder(root)"
   ]
  },
  {
   "cell_type": "code",
   "execution_count": null,
   "id": "a30677c6",
   "metadata": {},
   "outputs": [],
   "source": []
  }
 ],
 "metadata": {
  "kernelspec": {
   "display_name": "Python 3 (ipykernel)",
   "language": "python",
   "name": "python3"
  },
  "language_info": {
   "codemirror_mode": {
    "name": "ipython",
    "version": 3
   },
   "file_extension": ".py",
   "mimetype": "text/x-python",
   "name": "python",
   "nbconvert_exporter": "python",
   "pygments_lexer": "ipython3",
   "version": "3.9.9"
  }
 },
 "nbformat": 4,
 "nbformat_minor": 5
}
