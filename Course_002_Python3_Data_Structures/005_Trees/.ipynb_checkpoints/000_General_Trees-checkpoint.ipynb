{
 "cells": [
  {
   "cell_type": "markdown",
   "id": "e1af28a2",
   "metadata": {},
   "source": [
    "# Defining our own Tree"
   ]
  },
  {
   "cell_type": "code",
   "execution_count": 4,
   "id": "8a915380",
   "metadata": {},
   "outputs": [],
   "source": [
    "class Tree:\n",
    "    def __init__(self, name='root',\n",
    "                children=None):\n",
    "        self.name = name\n",
    "        self.children = []\n",
    "        if (children):\n",
    "            for child in children:\n",
    "                self.add_child(child)\n",
    "    \n",
    "    def add_child(self, node):\n",
    "        assert(isinstance(node, Tree))\n",
    "        self.children.append(node)\n",
    "    \n",
    "    def __repr__(self):\n",
    "        return self.name"
   ]
  },
  {
   "cell_type": "code",
   "execution_count": 5,
   "id": "2d5486e6",
   "metadata": {},
   "outputs": [],
   "source": [
    "t = Tree('*', [Tree('1'),\n",
    "              Tree('2'),\n",
    "              Tree('+', [Tree('3'),\n",
    "                         Tree('4')] )])"
   ]
  },
  {
   "cell_type": "code",
   "execution_count": 6,
   "id": "6a4f3cfb",
   "metadata": {},
   "outputs": [
    {
     "data": {
      "text/plain": [
       "__main__.Tree"
      ]
     },
     "execution_count": 6,
     "metadata": {},
     "output_type": "execute_result"
    }
   ],
   "source": [
    "type(t)"
   ]
  },
  {
   "cell_type": "markdown",
   "id": "c9fd3d9a",
   "metadata": {},
   "source": [
    "# Anytree"
   ]
  },
  {
   "cell_type": "code",
   "execution_count": 7,
   "id": "2ed70e07",
   "metadata": {},
   "outputs": [
    {
     "name": "stdout",
     "output_type": "stream",
     "text": [
      "Defaulting to user installation because normal site-packages is not writeable\n",
      "Requirement already satisfied: anytree in c:\\users\\ashwin\\appdata\\roaming\\python\\python39\\site-packages (2.8.0)\n",
      "Requirement already satisfied: six>=1.9.0 in c:\\users\\ashwin\\appdata\\roaming\\python\\python39\\site-packages (from anytree) (1.16.0)\n"
     ]
    }
   ],
   "source": [
    "!pip3 install anytree"
   ]
  },
  {
   "cell_type": "code",
   "execution_count": 8,
   "id": "c91cb6c7",
   "metadata": {},
   "outputs": [],
   "source": [
    "from anytree import Node, RenderTree"
   ]
  },
  {
   "cell_type": "code",
   "execution_count": 9,
   "id": "9e61c5c7",
   "metadata": {},
   "outputs": [],
   "source": [
    "A = Node(\"A\")\n",
    "B = Node(\"B\", parent=A)\n",
    "C = Node(\"C\", parent=A)\n",
    "D = Node(\"D\", parent=A)\n",
    "E = Node(\"E\", parent=B)\n",
    "F = Node(\"F\", parent=B)\n",
    "G = Node(\"G\", parent=B)\n",
    "H = Node(\"H\", parent=C)\n",
    "I = Node(\"I\", parent=C)"
   ]
  },
  {
   "cell_type": "code",
   "execution_count": 11,
   "id": "b4e375d2",
   "metadata": {},
   "outputs": [
    {
     "name": "stdout",
     "output_type": "stream",
     "text": [
      "Node('/A')\n",
      "├── Node('/A/B')\n",
      "│   ├── Node('/A/B/E')\n",
      "│   ├── Node('/A/B/F')\n",
      "│   └── Node('/A/B/G')\n",
      "├── Node('/A/C')\n",
      "│   ├── Node('/A/C/H')\n",
      "│   └── Node('/A/C/I')\n",
      "└── Node('/A/D')\n"
     ]
    }
   ],
   "source": [
    "print(RenderTree(A))"
   ]
  },
  {
   "cell_type": "code",
   "execution_count": 13,
   "id": "494389ee",
   "metadata": {},
   "outputs": [
    {
     "name": "stdout",
     "output_type": "stream",
     "text": [
      "A\n",
      "├── B\n",
      "│   ├── E\n",
      "│   ├── F\n",
      "│   └── G\n",
      "├── C\n",
      "│   ├── H\n",
      "│   └── I\n",
      "└── D\n"
     ]
    }
   ],
   "source": [
    "print(RenderTree(A).by_attr())"
   ]
  },
  {
   "cell_type": "code",
   "execution_count": 17,
   "id": "9f938d96",
   "metadata": {},
   "outputs": [
    {
     "name": "stdout",
     "output_type": "stream",
     "text": [
      "A\n",
      "|-- B\n",
      "|   |-- E\n",
      "|   |-- F\n",
      "|   +-- G\n",
      "|-- C\n",
      "|   |-- H\n",
      "|   +-- I\n",
      "+-- D\n"
     ]
    }
   ],
   "source": [
    "from anytree import AsciiStyle\n",
    "print(RenderTree(A, style=AsciiStyle()).by_attr())"
   ]
  },
  {
   "cell_type": "code",
   "execution_count": 18,
   "id": "3128e87c",
   "metadata": {},
   "outputs": [
    {
     "name": "stdout",
     "output_type": "stream",
     "text": [
      "Node('/A')\n",
      "|-- Node('/A/B')\n",
      "|   |-- Node('/A/B/E')\n",
      "|   |-- Node('/A/B/F')\n",
      "|   +-- Node('/A/B/G')\n",
      "|-- Node('/A/C')\n",
      "|   |-- Node('/A/C/H')\n",
      "|   +-- Node('/A/C/I')\n",
      "+-- Node('/A/D')\n"
     ]
    }
   ],
   "source": [
    "from anytree import AsciiStyle\n",
    "print(RenderTree(A, style=AsciiStyle()))"
   ]
  },
  {
   "cell_type": "code",
   "execution_count": 19,
   "id": "4b2d4602",
   "metadata": {},
   "outputs": [
    {
     "name": "stdout",
     "output_type": "stream",
     "text": [
      "Node('/A')\n",
      "├── Node('/A/B')\n",
      "│   ├── Node('/A/B/E')\n",
      "│   ├── Node('/A/B/F')\n",
      "│   └── Node('/A/B/G')\n",
      "├── Node('/A/C')\n",
      "│   ├── Node('/A/C/H')\n",
      "│   └── Node('/A/C/I')\n",
      "└── Node('/A/D')\n"
     ]
    }
   ],
   "source": [
    "from anytree import ContStyle\n",
    "print(RenderTree(A, style=ContStyle()))"
   ]
  },
  {
   "cell_type": "code",
   "execution_count": 20,
   "id": "7b2eba83",
   "metadata": {},
   "outputs": [
    {
     "name": "stdout",
     "output_type": "stream",
     "text": [
      "Node('/A')\n",
      "├── Node('/A/B')\n",
      "│   ├── Node('/A/B/E')\n",
      "│   ├── Node('/A/B/F')\n",
      "│   ╰── Node('/A/B/G')\n",
      "├── Node('/A/C')\n",
      "│   ├── Node('/A/C/H')\n",
      "│   ╰── Node('/A/C/I')\n",
      "╰── Node('/A/D')\n"
     ]
    }
   ],
   "source": [
    "from anytree import ContRoundStyle\n",
    "print(RenderTree(A, style=ContRoundStyle()))"
   ]
  },
  {
   "cell_type": "code",
   "execution_count": 21,
   "id": "8c3335b8",
   "metadata": {},
   "outputs": [
    {
     "name": "stdout",
     "output_type": "stream",
     "text": [
      "Node('/A')\n",
      "╠══ Node('/A/B')\n",
      "║   ╠══ Node('/A/B/E')\n",
      "║   ╠══ Node('/A/B/F')\n",
      "║   ╚══ Node('/A/B/G')\n",
      "╠══ Node('/A/C')\n",
      "║   ╠══ Node('/A/C/H')\n",
      "║   ╚══ Node('/A/C/I')\n",
      "╚══ Node('/A/D')\n"
     ]
    }
   ],
   "source": [
    "from anytree import DoubleStyle\n",
    "print(RenderTree(A, style=DoubleStyle()))"
   ]
  },
  {
   "cell_type": "markdown",
   "id": "4a55c787",
   "metadata": {},
   "source": [
    "# Traversal of the tree"
   ]
  },
  {
   "cell_type": "code",
   "execution_count": 22,
   "id": "f4be08f6",
   "metadata": {},
   "outputs": [
    {
     "name": "stdout",
     "output_type": "stream",
     "text": [
      "A\n",
      "├── B\n",
      "│   ├── E\n",
      "│   ├── F\n",
      "│   └── G\n",
      "├── C\n",
      "│   ├── H\n",
      "│   └── I\n",
      "└── D\n"
     ]
    }
   ],
   "source": [
    "print(RenderTree(A).by_attr())"
   ]
  },
  {
   "cell_type": "code",
   "execution_count": 23,
   "id": "101d35aa",
   "metadata": {},
   "outputs": [],
   "source": [
    "from anytree import PreOrderIter, PostOrderIter, LevelOrderIter, ZigZagGroupIter"
   ]
  },
  {
   "cell_type": "code",
   "execution_count": 24,
   "id": "b433a630",
   "metadata": {},
   "outputs": [
    {
     "data": {
      "text/plain": [
       "['A', 'B', 'E', 'F', 'G', 'C', 'H', 'I', 'D']"
      ]
     },
     "execution_count": 24,
     "metadata": {},
     "output_type": "execute_result"
    }
   ],
   "source": [
    "[node.name for node in PreOrderIter(A)]"
   ]
  },
  {
   "cell_type": "code",
   "execution_count": 25,
   "id": "440cfb58",
   "metadata": {},
   "outputs": [
    {
     "data": {
      "text/plain": [
       "['A', 'B', 'C', 'D']"
      ]
     },
     "execution_count": 25,
     "metadata": {},
     "output_type": "execute_result"
    }
   ],
   "source": [
    "[node.name for node in PreOrderIter(A, maxlevel = 2)]"
   ]
  },
  {
   "cell_type": "code",
   "execution_count": 26,
   "id": "ce9fe309",
   "metadata": {},
   "outputs": [
    {
     "data": {
      "text/plain": [
       "['E', 'F', 'G', 'B', 'H', 'I', 'C', 'D', 'A']"
      ]
     },
     "execution_count": 26,
     "metadata": {},
     "output_type": "execute_result"
    }
   ],
   "source": [
    "[node.name for node in PostOrderIter(A)]"
   ]
  },
  {
   "cell_type": "code",
   "execution_count": 27,
   "id": "1c7ff2a2",
   "metadata": {},
   "outputs": [
    {
     "data": {
      "text/plain": [
       "['B', 'C', 'D', 'A']"
      ]
     },
     "execution_count": 27,
     "metadata": {},
     "output_type": "execute_result"
    }
   ],
   "source": [
    "[node.name for node in PostOrderIter(A, maxlevel = 2)]"
   ]
  },
  {
   "cell_type": "code",
   "execution_count": 28,
   "id": "210cd4f9",
   "metadata": {},
   "outputs": [
    {
     "data": {
      "text/plain": [
       "['A', 'B', 'C', 'D']"
      ]
     },
     "execution_count": 28,
     "metadata": {},
     "output_type": "execute_result"
    }
   ],
   "source": [
    "[node.name for node in LevelOrderIter(A, maxlevel = 2)]"
   ]
  },
  {
   "cell_type": "code",
   "execution_count": 29,
   "id": "ca382263",
   "metadata": {},
   "outputs": [
    {
     "data": {
      "text/plain": [
       "['A', 'B', 'C', 'D', 'E', 'F', 'G', 'H', 'I']"
      ]
     },
     "execution_count": 29,
     "metadata": {},
     "output_type": "execute_result"
    }
   ],
   "source": [
    "[node.name for node in LevelOrderIter(A)]"
   ]
  },
  {
   "cell_type": "code",
   "execution_count": 30,
   "id": "a3003652",
   "metadata": {},
   "outputs": [
    {
     "data": {
      "text/plain": [
       "[['A'], ['D', 'C', 'B'], ['E', 'F', 'G', 'H', 'I']]"
      ]
     },
     "execution_count": 30,
     "metadata": {},
     "output_type": "execute_result"
    }
   ],
   "source": [
    "[[node.name for node in children] for children in ZigZagGroupIter(A)]"
   ]
  },
  {
   "cell_type": "markdown",
   "id": "ba284245",
   "metadata": {},
   "source": [
    "# Walking the tree"
   ]
  },
  {
   "cell_type": "code",
   "execution_count": 31,
   "id": "4cb15cbf",
   "metadata": {},
   "outputs": [],
   "source": [
    "from anytree import Walker\n",
    "w = Walker()"
   ]
  },
  {
   "cell_type": "code",
   "execution_count": 32,
   "id": "9227b118",
   "metadata": {},
   "outputs": [
    {
     "data": {
      "text/plain": [
       "<anytree.walker.Walker at 0x1e27ee0c4c0>"
      ]
     },
     "execution_count": 32,
     "metadata": {},
     "output_type": "execute_result"
    }
   ],
   "source": [
    "w"
   ]
  },
  {
   "cell_type": "code",
   "execution_count": 33,
   "id": "3d88ece5",
   "metadata": {},
   "outputs": [
    {
     "data": {
      "text/plain": [
       "((), Node('/A'), (Node('/A/B'), Node('/A/B/F')))"
      ]
     },
     "execution_count": 33,
     "metadata": {},
     "output_type": "execute_result"
    }
   ],
   "source": [
    "w.walk(A, F)"
   ]
  },
  {
   "cell_type": "code",
   "execution_count": 34,
   "id": "9b84c531",
   "metadata": {},
   "outputs": [
    {
     "data": {
      "text/plain": [
       "((), Node('/A/B'), (Node('/A/B/F'),))"
      ]
     },
     "execution_count": 34,
     "metadata": {},
     "output_type": "execute_result"
    }
   ],
   "source": [
    "w.walk(B, F)"
   ]
  },
  {
   "cell_type": "code",
   "execution_count": 35,
   "id": "f991174b",
   "metadata": {},
   "outputs": [
    {
     "data": {
      "text/plain": [
       "((Node('/A/B/F'), Node('/A/B')), Node('/A'), (Node('/A/C'),))"
      ]
     },
     "execution_count": 35,
     "metadata": {},
     "output_type": "execute_result"
    }
   ],
   "source": [
    "w.walk(F, C)"
   ]
  },
  {
   "cell_type": "code",
   "execution_count": null,
   "id": "5a7c92ab",
   "metadata": {},
   "outputs": [],
   "source": []
  }
 ],
 "metadata": {
  "kernelspec": {
   "display_name": "Python 3 (ipykernel)",
   "language": "python",
   "name": "python3"
  },
  "language_info": {
   "codemirror_mode": {
    "name": "ipython",
    "version": 3
   },
   "file_extension": ".py",
   "mimetype": "text/x-python",
   "name": "python",
   "nbconvert_exporter": "python",
   "pygments_lexer": "ipython3",
   "version": "3.9.9"
  }
 },
 "nbformat": 4,
 "nbformat_minor": 5
}
