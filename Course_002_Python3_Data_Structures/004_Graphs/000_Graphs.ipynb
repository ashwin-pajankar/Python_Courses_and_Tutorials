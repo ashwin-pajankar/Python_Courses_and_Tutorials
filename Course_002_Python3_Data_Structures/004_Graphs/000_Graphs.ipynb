{
 "cells": [
  {
   "cell_type": "markdown",
   "id": "0aa48e15",
   "metadata": {},
   "source": [
    "# Adjcency List representation of graph"
   ]
  },
  {
   "cell_type": "code",
   "execution_count": 1,
   "id": "ba1a7ff8",
   "metadata": {},
   "outputs": [],
   "source": [
    "class AdjNode:\n",
    "    def __init__(self, data):\n",
    "        self.vertex = data\n",
    "        self.next = data"
   ]
  },
  {
   "cell_type": "code",
   "execution_count": 16,
   "id": "7784f7c8",
   "metadata": {},
   "outputs": [],
   "source": [
    "class Graph: # Graph Data Structure\n",
    "    def __init__(self, vertices):\n",
    "        self.V=vertices\n",
    "        self.graph = [None] * self.V\n",
    "    def add_edge(self, src, dest):\n",
    "        node = AdjNode(dest)\n",
    "        node.next = self.graph[src]\n",
    "        self.graph[src] = node\n",
    "        node = AdjNode(src)\n",
    "        node.next = self.graph[dest]\n",
    "        self.graph[dest] = node\n",
    "    def print_graph(self):\n",
    "        for i in range(self.V):\n",
    "            print(\"Adjacency list of vertex {}\\n head\".format(i), end=\" \")\n",
    "            temp = self.graph[i]\n",
    "            while temp:\n",
    "                print(\" -> {}\".format(temp.vertex), end= \" \")\n",
    "                temp = temp.next\n",
    "            print(\"\\n\")"
   ]
  },
  {
   "cell_type": "code",
   "execution_count": 17,
   "id": "e7a07d49",
   "metadata": {},
   "outputs": [],
   "source": [
    "V = 5\n",
    "graph = Graph(V)"
   ]
  },
  {
   "cell_type": "code",
   "execution_count": 18,
   "id": "7ccf9160",
   "metadata": {},
   "outputs": [],
   "source": [
    "graph.add_edge(0, 1)\n",
    "graph.add_edge(0, 4)"
   ]
  },
  {
   "cell_type": "code",
   "execution_count": 19,
   "id": "d1bf5869",
   "metadata": {},
   "outputs": [],
   "source": [
    "graph.add_edge(1, 2)\n",
    "graph.add_edge(1, 3)\n",
    "graph.add_edge(1, 4)"
   ]
  },
  {
   "cell_type": "code",
   "execution_count": 20,
   "id": "39aef7ac",
   "metadata": {},
   "outputs": [],
   "source": [
    "graph.add_edge(2, 3)"
   ]
  },
  {
   "cell_type": "code",
   "execution_count": 21,
   "id": "c96907a2",
   "metadata": {},
   "outputs": [],
   "source": [
    "graph.add_edge(3, 4)"
   ]
  },
  {
   "cell_type": "code",
   "execution_count": 22,
   "id": "68007744",
   "metadata": {},
   "outputs": [
    {
     "name": "stdout",
     "output_type": "stream",
     "text": [
      "Adjacency list of vertex 0\n",
      " head  -> 4  -> 1 \n",
      "\n",
      "Adjacency list of vertex 1\n",
      " head  -> 4  -> 3  -> 2  -> 0 \n",
      "\n",
      "Adjacency list of vertex 2\n",
      " head  -> 3  -> 1 \n",
      "\n",
      "Adjacency list of vertex 3\n",
      " head  -> 4  -> 2  -> 1 \n",
      "\n",
      "Adjacency list of vertex 4\n",
      " head  -> 3  -> 1  -> 0 \n",
      "\n"
     ]
    }
   ],
   "source": [
    "graph.print_graph()"
   ]
  },
  {
   "cell_type": "markdown",
   "id": "5c27892b",
   "metadata": {},
   "source": [
    "# Transpose of a Graph"
   ]
  },
  {
   "cell_type": "code",
   "execution_count": 5,
   "id": "1257f26b",
   "metadata": {},
   "outputs": [],
   "source": [
    "def addEdge(adj, src, dest):\n",
    "    adj[src].append(dest)\n",
    "def displayGraph(adj, v):\n",
    "    for i in range(v):\n",
    "        print(i, '-->', end = \" \")\n",
    "        for j in range(len(adj[i])):\n",
    "            print(adj[i][j], end = \" \")\n",
    "        print()\n",
    "def transposeGraph(adj, transpose, v):\n",
    "    for i in range(v):\n",
    "        for j in range(len(adj[i])):\n",
    "            addEdge(transpose, adj[i][j], i)"
   ]
  },
  {
   "cell_type": "code",
   "execution_count": 6,
   "id": "bbd0607e",
   "metadata": {},
   "outputs": [],
   "source": [
    "v = 5\n",
    "adj = [[] for i in range(v)]"
   ]
  },
  {
   "cell_type": "code",
   "execution_count": 7,
   "id": "33a3a5fd",
   "metadata": {},
   "outputs": [],
   "source": [
    "addEdge(adj, 0, 1)\n",
    "addEdge(adj, 0, 3)\n",
    "addEdge(adj, 0, 4)"
   ]
  },
  {
   "cell_type": "code",
   "execution_count": 8,
   "id": "cd0ebd8b",
   "metadata": {},
   "outputs": [],
   "source": [
    "addEdge(adj, 2, 0)\n",
    "addEdge(adj, 3, 2)"
   ]
  },
  {
   "cell_type": "code",
   "execution_count": 9,
   "id": "90b844ec",
   "metadata": {},
   "outputs": [],
   "source": [
    "addEdge(adj, 4, 1)\n",
    "addEdge(adj, 4, 3)"
   ]
  },
  {
   "cell_type": "code",
   "execution_count": 10,
   "id": "9eb4b1a2",
   "metadata": {},
   "outputs": [],
   "source": [
    "transpose = [[] for i in range(v)]"
   ]
  },
  {
   "cell_type": "code",
   "execution_count": 11,
   "id": "e3f7a647",
   "metadata": {},
   "outputs": [],
   "source": [
    "transposeGraph(adj, transpose, v)"
   ]
  },
  {
   "cell_type": "code",
   "execution_count": 12,
   "id": "570f01f2",
   "metadata": {},
   "outputs": [
    {
     "name": "stdout",
     "output_type": "stream",
     "text": [
      "0 --> 1 3 4 \n",
      "1 --> \n",
      "2 --> 0 \n",
      "3 --> 2 \n",
      "4 --> 1 3 \n"
     ]
    }
   ],
   "source": [
    "displayGraph(adj, v)"
   ]
  },
  {
   "cell_type": "code",
   "execution_count": 13,
   "id": "dba82671",
   "metadata": {},
   "outputs": [
    {
     "name": "stdout",
     "output_type": "stream",
     "text": [
      "0 --> 2 \n",
      "1 --> 0 4 \n",
      "2 --> 3 \n",
      "3 --> 0 4 \n",
      "4 --> 0 \n"
     ]
    }
   ],
   "source": [
    "displayGraph(transpose, v)"
   ]
  },
  {
   "cell_type": "code",
   "execution_count": null,
   "id": "34b1a81c",
   "metadata": {},
   "outputs": [],
   "source": []
  }
 ],
 "metadata": {
  "kernelspec": {
   "display_name": "Python 3 (ipykernel)",
   "language": "python",
   "name": "python3"
  },
  "language_info": {
   "codemirror_mode": {
    "name": "ipython",
    "version": 3
   },
   "file_extension": ".py",
   "mimetype": "text/x-python",
   "name": "python",
   "nbconvert_exporter": "python",
   "pygments_lexer": "ipython3",
   "version": "3.9.9"
  }
 },
 "nbformat": 4,
 "nbformat_minor": 5
}
