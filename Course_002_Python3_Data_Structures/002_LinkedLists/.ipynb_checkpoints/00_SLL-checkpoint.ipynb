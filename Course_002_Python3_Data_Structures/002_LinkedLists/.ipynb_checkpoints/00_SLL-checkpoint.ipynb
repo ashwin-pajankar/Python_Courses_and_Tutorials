{
 "cells": [
  {
   "cell_type": "code",
   "execution_count": null,
   "id": "a2d790e7",
   "metadata": {},
   "outputs": [],
   "source": [
    "from IPython.display import Image\n",
    "Image(filename='sll.png')"
   ]
  },
  {
   "cell_type": "code",
   "execution_count": 47,
   "id": "bbe3d1bb",
   "metadata": {},
   "outputs": [],
   "source": [
    "class Node:\n",
    "    def __init__(self, data):\n",
    "        self.data=data\n",
    "        self.next=None\n",
    "\n",
    "class LinkedList:\n",
    "    \n",
    "    def __init__(self):\n",
    "        self.head=None\n",
    "        \n",
    "    def printList(self):\n",
    "        temp=self.head\n",
    "        while(temp):\n",
    "            print(temp.data)\n",
    "            temp=temp.next\n",
    "            \n",
    "    def push(self, new_data):\n",
    "        new_node=Node(new_data)\n",
    "        new_node.next=self.head\n",
    "        self.head=new_node\n",
    "        \n",
    "    def append(self, new_data):\n",
    "        new_node=Node(new_data)\n",
    "        if self.head is None:\n",
    "            self.head=new_node\n",
    "            return\n",
    "        \n",
    "        last=self.head\n",
    "        while(last.next):\n",
    "            last=last.next\n",
    "        last.next=new_node\n",
    "    \n",
    "    def deleteList(self):\n",
    "        current=self.head\n",
    "        while(current):\n",
    "            prev=current.next\n",
    "            del current.data\n",
    "            current=prev\n",
    "\n",
    "    def getCountIter(self):\n",
    "        temp=self.head\n",
    "        count=0\n",
    "        while(temp):\n",
    "            count=count+1\n",
    "            temp=temp.next\n",
    "        return count\n",
    "    \n",
    "    def getCountRec(self, node):\n",
    "        if (not node):\n",
    "            return 0\n",
    "        else:\n",
    "            return 1 + self.getCountRec(node.next)\n",
    "    \n",
    "    def getCount(self):\n",
    "        return self.getCountRec(self.head)\n",
    "    \n",
    "    def searchIter(self, x):\n",
    "        current=self.head\n",
    "        while(current):\n",
    "            if current.data==x:\n",
    "                return True\n",
    "            current=current.next\n",
    "        return False\n",
    "    \n",
    "    def reverse(self):\n",
    "        prev=None\n",
    "        current=self.head\n",
    "        while(current):\n",
    "            next=current.next\n",
    "            current.next=prev\n",
    "            prev=current\n",
    "            current=next\n",
    "        self.head=prev\n",
    "        \n",
    "    def deleteNode(self, position):\n",
    "        if self.head==None:\n",
    "            return\n",
    "        \n",
    "        temp=self.head\n",
    "        if(position==0):\n",
    "            self.head=temp.next\n",
    "            temp=None\n",
    "            return\n",
    "        \n",
    "        for i in range(position - 1):\n",
    "            temp=temp.next\n",
    "            if temp is None:\n",
    "                break\n",
    "        \n",
    "        if temp is None or temp.next is None:\n",
    "            return\n",
    "        \n",
    "        next = temp.next.next\n",
    "        \n",
    "        temp.next = None\n",
    "        \n",
    "        temp.next=next\n",
    "\n",
    "    def deleteValue(self, key):\n",
    "        temp=self.head\n",
    "        if(temp and temp.data == key):\n",
    "            self.head=temp.next\n",
    "            temp=None\n",
    "            return\n",
    "        \n",
    "        while(temp):\n",
    "            if(temp.data==key):\n",
    "                break\n",
    "            prev=temp\n",
    "            temp=temp.next\n",
    "        \n",
    "        if(temp==None):\n",
    "            return\n",
    "        \n",
    "        prev.next=temp.next\n",
    "        temp=None\n",
    "    \n",
    "    def getNthIter(self, index):\n",
    "        current = self.head\n",
    "        count=0\n",
    "        \n",
    "        while(current):\n",
    "            if(count==index):\n",
    "                return current.data\n",
    "            count = count+1\n",
    "            current=current.next\n",
    "        \n",
    "        assert(False)\n",
    "        return(0)\n",
    "    \n",
    "    def count(self, search_term):\n",
    "        current=self.head\n",
    "        count=0\n",
    "        while(current):\n",
    "            if current.data == search_term:\n",
    "                count=count+1\n",
    "            current=current.next\n",
    "        return count\n",
    "    \n",
    "    def printrev(self, temp):\n",
    "        if(temp):\n",
    "            print(temp.data, end = \" \")\n",
    "            self.printrev(temp.next)\n",
    "            print(temp.data, end = \" \")\n",
    "        else:\n",
    "            return\n",
    "        "
   ]
  },
  {
   "cell_type": "code",
   "execution_count": null,
   "id": "250d83fe",
   "metadata": {},
   "outputs": [],
   "source": [
    "llist = LinkedList()\n",
    "llist.head=Node(1)\n",
    "second=Node(2)\n",
    "third=Node(3)\n",
    "\n",
    "llist.head.next=second\n",
    "second.next=third"
   ]
  },
  {
   "cell_type": "code",
   "execution_count": null,
   "id": "cefcbd67",
   "metadata": {},
   "outputs": [],
   "source": [
    "llist = LinkedList()\n",
    "llist.append(6)\n",
    "llist.push(4)\n",
    "llist.push(7)\n",
    "llist.append(2)"
   ]
  },
  {
   "cell_type": "code",
   "execution_count": null,
   "id": "80fd6d7d",
   "metadata": {},
   "outputs": [],
   "source": [
    "llist.printList()"
   ]
  },
  {
   "cell_type": "code",
   "execution_count": null,
   "id": "ae14fdee",
   "metadata": {},
   "outputs": [],
   "source": [
    "llist.deleteList()"
   ]
  },
  {
   "cell_type": "code",
   "execution_count": null,
   "id": "5e4c34be",
   "metadata": {},
   "outputs": [],
   "source": [
    "print(\"Count of the nodes in the list is :\", llist.getCountIter())"
   ]
  },
  {
   "cell_type": "code",
   "execution_count": null,
   "id": "f9d91cd3",
   "metadata": {},
   "outputs": [],
   "source": [
    "llist.getCount()"
   ]
  },
  {
   "cell_type": "code",
   "execution_count": null,
   "id": "46f0215f",
   "metadata": {},
   "outputs": [],
   "source": [
    "llist.searchIter(4)"
   ]
  },
  {
   "cell_type": "code",
   "execution_count": null,
   "id": "03b5313a",
   "metadata": {},
   "outputs": [],
   "source": [
    "llist.searchIter(10)"
   ]
  },
  {
   "cell_type": "code",
   "execution_count": null,
   "id": "907836ef",
   "metadata": {},
   "outputs": [],
   "source": [
    "def searchRec(li, key):\n",
    "    if(not li):\n",
    "        return False\n",
    "    if(li.data==key):\n",
    "        return True\n",
    "    return searchRec(li.next, key)"
   ]
  },
  {
   "cell_type": "code",
   "execution_count": null,
   "id": "d67951a7",
   "metadata": {},
   "outputs": [],
   "source": [
    "searchRec(llist.head, 4)"
   ]
  },
  {
   "cell_type": "code",
   "execution_count": null,
   "id": "099e8318",
   "metadata": {},
   "outputs": [],
   "source": [
    "searchRec(llist.head, 14)"
   ]
  },
  {
   "cell_type": "code",
   "execution_count": null,
   "id": "1fe5869c",
   "metadata": {},
   "outputs": [],
   "source": [
    "def decimanValue(head):\n",
    "    res=0\n",
    "    while(head):\n",
    "        res=(res<<1)+head.data\n",
    "        head=head.next\n",
    "    return res"
   ]
  },
  {
   "cell_type": "code",
   "execution_count": null,
   "id": "0bf92d09",
   "metadata": {},
   "outputs": [],
   "source": [
    "llist = LinkedList()\n",
    "llist.append(1)\n",
    "llist.append(1)\n",
    "llist.append(1)\n",
    "llist.append(1)\n",
    "llist.append(1)\n",
    "decimanValue(llist.head)"
   ]
  },
  {
   "cell_type": "code",
   "execution_count": null,
   "id": "4e997711",
   "metadata": {},
   "outputs": [],
   "source": [
    "llist.reverse()\n",
    "llist.printList()"
   ]
  },
  {
   "cell_type": "code",
   "execution_count": null,
   "id": "21d6f1ab",
   "metadata": {},
   "outputs": [],
   "source": [
    "llist=LinkedList()\n",
    "llist.push(7)\n",
    "llist.push(1)\n",
    "llist.push(4)\n",
    "llist.push(2)\n",
    "llist.push(9)\n",
    "\n",
    "llist.printList()"
   ]
  },
  {
   "cell_type": "code",
   "execution_count": null,
   "id": "eeea1678",
   "metadata": {},
   "outputs": [],
   "source": [
    "llist.deleteNode(2)"
   ]
  },
  {
   "cell_type": "code",
   "execution_count": null,
   "id": "c9cde1e2",
   "metadata": {},
   "outputs": [],
   "source": [
    "llist.printList()"
   ]
  },
  {
   "cell_type": "code",
   "execution_count": null,
   "id": "6747c7d0",
   "metadata": {},
   "outputs": [],
   "source": [
    "llist.deleteNode(0)"
   ]
  },
  {
   "cell_type": "code",
   "execution_count": null,
   "id": "e02318e2",
   "metadata": {},
   "outputs": [],
   "source": [
    "llist.printList()"
   ]
  },
  {
   "cell_type": "code",
   "execution_count": null,
   "id": "52d57967",
   "metadata": {},
   "outputs": [],
   "source": [
    "def ispalindrome(head):\n",
    "    slow=head\n",
    "    stack=[]\n",
    "    ispalin=True\n",
    "    while(slow):\n",
    "        stack.append(slow.data)\n",
    "        slow=slow.next\n",
    "    \n",
    "    while(head):\n",
    "        i=stack.pop()\n",
    "        if(head.data==i):\n",
    "            ispalin=True\n",
    "        else:\n",
    "            ispalin=False\n",
    "            break\n",
    "        head=head.next\n",
    "    return ispalin"
   ]
  },
  {
   "cell_type": "code",
   "execution_count": null,
   "id": "b02d4f51",
   "metadata": {},
   "outputs": [],
   "source": [
    "llist=LinkedList()\n",
    "llist.push(1)\n",
    "llist.push(2)\n",
    "llist.push(1)\n",
    "llist.push(2)\n",
    "llist.push(1)\n",
    "llist.printList()"
   ]
  },
  {
   "cell_type": "code",
   "execution_count": null,
   "id": "b46e918a",
   "metadata": {},
   "outputs": [],
   "source": [
    "ispalindrome(llist.head)"
   ]
  },
  {
   "cell_type": "code",
   "execution_count": null,
   "id": "7b74435b",
   "metadata": {},
   "outputs": [],
   "source": [
    "llist=LinkedList()\n",
    "llist.push(1)\n",
    "llist.push(1)\n",
    "llist.push(1)\n",
    "llist.push(2)\n",
    "llist.push(1)\n",
    "llist.printList()"
   ]
  },
  {
   "cell_type": "code",
   "execution_count": null,
   "id": "fbc1ea5b",
   "metadata": {},
   "outputs": [],
   "source": [
    "ispalindrome(llist.head)"
   ]
  },
  {
   "cell_type": "code",
   "execution_count": 48,
   "id": "d6c7fec2",
   "metadata": {},
   "outputs": [],
   "source": [
    "llist = LinkedList()\n",
    "llist.push(1)\n",
    "llist.push(2)\n",
    "llist.push(1)\n",
    "llist.push(3)\n",
    "llist.push(3)\n",
    "llist.push(7)\n",
    "llist.push(8)"
   ]
  },
  {
   "cell_type": "code",
   "execution_count": 11,
   "id": "a3c0041a",
   "metadata": {},
   "outputs": [
    {
     "name": "stdout",
     "output_type": "stream",
     "text": [
      "8\n",
      "7\n",
      "3\n",
      "3\n",
      "1\n",
      "2\n",
      "1\n"
     ]
    }
   ],
   "source": [
    "llist.printList()"
   ]
  },
  {
   "cell_type": "code",
   "execution_count": 8,
   "id": "4ad21a66",
   "metadata": {},
   "outputs": [
    {
     "ename": "AssertionError",
     "evalue": "",
     "output_type": "error",
     "traceback": [
      "\u001b[1;31m---------------------------------------------------------------------------\u001b[0m",
      "\u001b[1;31mAssertionError\u001b[0m                            Traceback (most recent call last)",
      "\u001b[1;32m~\\AppData\\Local\\Temp/ipykernel_3040/42681308.py\u001b[0m in \u001b[0;36m<module>\u001b[1;34m\u001b[0m\n\u001b[1;32m----> 1\u001b[1;33m \u001b[0mllist\u001b[0m\u001b[1;33m.\u001b[0m\u001b[0mgetNthIter\u001b[0m\u001b[1;33m(\u001b[0m\u001b[1;36m10\u001b[0m\u001b[1;33m)\u001b[0m\u001b[1;33m\u001b[0m\u001b[1;33m\u001b[0m\u001b[0m\n\u001b[0m",
      "\u001b[1;32m~\\AppData\\Local\\Temp/ipykernel_3040/2764469250.py\u001b[0m in \u001b[0;36mgetNthIter\u001b[1;34m(self, index)\u001b[0m\n\u001b[0;32m    126\u001b[0m             \u001b[0mcurrent\u001b[0m\u001b[1;33m=\u001b[0m\u001b[0mcurrent\u001b[0m\u001b[1;33m.\u001b[0m\u001b[0mnext\u001b[0m\u001b[1;33m\u001b[0m\u001b[1;33m\u001b[0m\u001b[0m\n\u001b[0;32m    127\u001b[0m \u001b[1;33m\u001b[0m\u001b[0m\n\u001b[1;32m--> 128\u001b[1;33m         \u001b[1;32massert\u001b[0m\u001b[1;33m(\u001b[0m\u001b[1;32mFalse\u001b[0m\u001b[1;33m)\u001b[0m\u001b[1;33m\u001b[0m\u001b[1;33m\u001b[0m\u001b[0m\n\u001b[0m\u001b[0;32m    129\u001b[0m         \u001b[1;32mreturn\u001b[0m\u001b[1;33m(\u001b[0m\u001b[1;36m0\u001b[0m\u001b[1;33m)\u001b[0m\u001b[1;33m\u001b[0m\u001b[1;33m\u001b[0m\u001b[0m\n\u001b[0;32m    130\u001b[0m \u001b[1;33m\u001b[0m\u001b[0m\n",
      "\u001b[1;31mAssertionError\u001b[0m: "
     ]
    }
   ],
   "source": [
    "llist.getNthIter(10)"
   ]
  },
  {
   "cell_type": "code",
   "execution_count": 24,
   "id": "e57df4dd",
   "metadata": {},
   "outputs": [],
   "source": [
    "def getNthRec(llist, position):\n",
    "    getNthNode(llist.head, position, llist)\n",
    "    \n",
    "def getNthNode(head, position, llist):\n",
    "    count = 0\n",
    "    if(head):\n",
    "        if(count==position):\n",
    "            print(head.data)\n",
    "        else:\n",
    "            getNthNode(head.next, position-1, llist)\n",
    "    else:\n",
    "        print(\"Non-existant Index...\")"
   ]
  },
  {
   "cell_type": "code",
   "execution_count": 17,
   "id": "d256ffa6",
   "metadata": {},
   "outputs": [
    {
     "name": "stdout",
     "output_type": "stream",
     "text": [
      "Non-existant Index...\n"
     ]
    }
   ],
   "source": [
    "getNthRec(llist, 10)"
   ]
  },
  {
   "cell_type": "code",
   "execution_count": 18,
   "id": "fc9b6221",
   "metadata": {},
   "outputs": [
    {
     "name": "stdout",
     "output_type": "stream",
     "text": [
      "8\n"
     ]
    }
   ],
   "source": [
    "getNthRec(llist, 0)"
   ]
  },
  {
   "cell_type": "code",
   "execution_count": 19,
   "id": "62e27313",
   "metadata": {},
   "outputs": [
    {
     "name": "stdout",
     "output_type": "stream",
     "text": [
      "Non-existant Index...\n"
     ]
    }
   ],
   "source": [
    "getNthRec(llist, -1)"
   ]
  },
  {
   "cell_type": "code",
   "execution_count": 20,
   "id": "5e26858f",
   "metadata": {},
   "outputs": [
    {
     "name": "stdout",
     "output_type": "stream",
     "text": [
      "7\n"
     ]
    }
   ],
   "source": [
    "getNthRec(llist, 1)"
   ]
  },
  {
   "cell_type": "code",
   "execution_count": 21,
   "id": "1e016627",
   "metadata": {},
   "outputs": [
    {
     "name": "stdout",
     "output_type": "stream",
     "text": [
      "1\n"
     ]
    }
   ],
   "source": [
    "getNthRec(llist, 6)"
   ]
  },
  {
   "cell_type": "code",
   "execution_count": 22,
   "id": "aa54dace",
   "metadata": {},
   "outputs": [
    {
     "name": "stdout",
     "output_type": "stream",
     "text": [
      "Non-existant Index...\n"
     ]
    }
   ],
   "source": [
    "getNthRec(llist, 7)"
   ]
  },
  {
   "cell_type": "code",
   "execution_count": 23,
   "id": "a06ffb65",
   "metadata": {},
   "outputs": [
    {
     "name": "stdout",
     "output_type": "stream",
     "text": [
      "Non-existant Index...\n"
     ]
    }
   ],
   "source": [
    "getNthRec(llist, 8)"
   ]
  },
  {
   "cell_type": "code",
   "execution_count": 40,
   "id": "eb266750",
   "metadata": {},
   "outputs": [
    {
     "name": "stdout",
     "output_type": "stream",
     "text": [
      "8\n",
      "7\n",
      "3\n",
      "3\n",
      "1\n",
      "2\n",
      "1\n"
     ]
    }
   ],
   "source": [
    "llist.printList()"
   ]
  },
  {
   "cell_type": "code",
   "execution_count": 33,
   "id": "df46f5bb",
   "metadata": {},
   "outputs": [
    {
     "data": {
      "text/plain": [
       "1"
      ]
     },
     "execution_count": 33,
     "metadata": {},
     "output_type": "execute_result"
    }
   ],
   "source": [
    "llist.count(8)"
   ]
  },
  {
   "cell_type": "code",
   "execution_count": 37,
   "id": "44bb838b",
   "metadata": {},
   "outputs": [
    {
     "data": {
      "text/plain": [
       "0"
      ]
     },
     "execution_count": 37,
     "metadata": {},
     "output_type": "execute_result"
    }
   ],
   "source": [
    "llist.count(0)"
   ]
  },
  {
   "cell_type": "code",
   "execution_count": 49,
   "id": "49439435",
   "metadata": {},
   "outputs": [
    {
     "name": "stdout",
     "output_type": "stream",
     "text": [
      "8 7 3 3 1 2 1 1 2 1 3 3 7 8 "
     ]
    }
   ],
   "source": [
    "llist.printrev(llist.head)"
   ]
  },
  {
   "cell_type": "code",
   "execution_count": null,
   "id": "46e1d227",
   "metadata": {},
   "outputs": [],
   "source": []
  }
 ],
 "metadata": {
  "kernelspec": {
   "display_name": "Python 3 (ipykernel)",
   "language": "python",
   "name": "python3"
  },
  "language_info": {
   "codemirror_mode": {
    "name": "ipython",
    "version": 3
   },
   "file_extension": ".py",
   "mimetype": "text/x-python",
   "name": "python",
   "nbconvert_exporter": "python",
   "pygments_lexer": "ipython3",
   "version": "3.9.9"
  }
 },
 "nbformat": 4,
 "nbformat_minor": 5
}
