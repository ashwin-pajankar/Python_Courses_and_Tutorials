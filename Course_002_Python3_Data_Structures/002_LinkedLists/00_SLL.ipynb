{
 "cells": [
  {
   "cell_type": "code",
   "execution_count": 1,
   "id": "a2d790e7",
   "metadata": {},
   "outputs": [
    {
     "data": {
      "image/png": "[encoded data removed]",
      "text/plain": [
       "<IPython.core.display.Image object>"
      ]
     },
     "execution_count": 1,
     "metadata": {},
     "output_type": "execute_result"
    }
   ],
   "source": [
    "from IPython.display import Image\n",
    "Image(filename='sll.png')"
   ]
  },
  {
   "cell_type": "code",
   "execution_count": 75,
   "id": "bbe3d1bb",
   "metadata": {},
   "outputs": [],
   "source": [
    "class Node:\n",
    "    def __init__(self, data):\n",
    "        self.data=data\n",
    "        self.next=None\n",
    "\n",
    "class LinkedList:\n",
    "    \n",
    "    def __init__(self):\n",
    "        self.head=None\n",
    "        \n",
    "    def printList(self):\n",
    "        temp=self.head\n",
    "        while(temp):\n",
    "            print(temp.data)\n",
    "            temp=temp.next\n",
    "            \n",
    "    def push(self, new_data):\n",
    "        new_node=Node(new_data)\n",
    "        new_node.next=self.head\n",
    "        self.head=new_node\n",
    "        \n",
    "    def append(self, new_data):\n",
    "        new_node=Node(new_data)\n",
    "        if self.head is None:\n",
    "            self.head=new_node\n",
    "            return\n",
    "        \n",
    "        last=self.head\n",
    "        while(last.next):\n",
    "            last=last.next\n",
    "        last.next=new_node\n",
    "    \n",
    "    def deleteList(self):\n",
    "        current=self.head\n",
    "        while(current):\n",
    "            prev=current.next\n",
    "            del current.data\n",
    "            current=prev\n",
    "\n",
    "    def getCountIter(self):\n",
    "        temp=self.head\n",
    "        count=0\n",
    "        while(temp):\n",
    "            count=count+1\n",
    "            temp=temp.next\n",
    "        return count\n",
    "    \n",
    "    def getCountRec(self, node):\n",
    "        if (not node):\n",
    "            return 0\n",
    "        else:\n",
    "            return 1 + self.getCountRec(node.next)\n",
    "    \n",
    "    def getCount(self):\n",
    "        return self.getCountRec(self.head)\n",
    "    \n",
    "    def searchIter(self, x):\n",
    "        current=self.head\n",
    "        while(current):\n",
    "            if current.data==x:\n",
    "                return True\n",
    "            current=current.next\n",
    "        return False\n",
    "    \n",
    "    def reverse(self):\n",
    "        prev=None\n",
    "        current=self.head\n",
    "        while(current):\n",
    "            next=current.next\n",
    "            current.next=prev\n",
    "            prev=current\n",
    "            current=next\n",
    "        self.head=prev\n",
    "        \n",
    "    def deleteNode(self, position):\n",
    "        if self.head==None:\n",
    "            return\n",
    "        \n",
    "        temp=self.head\n",
    "        if(position==0):\n",
    "            self.head=temp.next\n",
    "            temp=None\n",
    "            return\n",
    "        \n",
    "        for i in range(position - 1):\n",
    "            temp=temp.next\n",
    "            if temp is None:\n",
    "                break\n",
    "        \n",
    "        if temp is None or temp.next is None:\n",
    "            return\n",
    "        \n",
    "        next = temp.next.next\n",
    "        \n",
    "        temp.next = None\n",
    "        \n",
    "        temp.next=next\n"
   ]
  },
  {
   "cell_type": "code",
   "execution_count": 5,
   "id": "250d83fe",
   "metadata": {},
   "outputs": [],
   "source": [
    "llist = LinkedList()\n",
    "llist.head=Node(1)\n",
    "second=Node(2)\n",
    "third=Node(3)\n",
    "\n",
    "llist.head.next=second\n",
    "second.next=third"
   ]
  },
  {
   "cell_type": "code",
   "execution_count": 71,
   "id": "cefcbd67",
   "metadata": {},
   "outputs": [],
   "source": [
    "llist = LinkedList()\n",
    "llist.append(6)\n",
    "llist.push(4)\n",
    "llist.push(7)\n",
    "llist.append(2)"
   ]
  },
  {
   "cell_type": "code",
   "execution_count": 72,
   "id": "80fd6d7d",
   "metadata": {},
   "outputs": [
    {
     "name": "stdout",
     "output_type": "stream",
     "text": [
      "7\n",
      "4\n",
      "6\n",
      "2\n"
     ]
    }
   ],
   "source": [
    "llist.printList()"
   ]
  },
  {
   "cell_type": "code",
   "execution_count": 14,
   "id": "ae14fdee",
   "metadata": {},
   "outputs": [],
   "source": [
    "llist.deleteList()"
   ]
  },
  {
   "cell_type": "code",
   "execution_count": 37,
   "id": "5e4c34be",
   "metadata": {},
   "outputs": [
    {
     "name": "stdout",
     "output_type": "stream",
     "text": [
      "Count of the nodes in the list is : 4\n"
     ]
    }
   ],
   "source": [
    "print(\"Count of the nodes in the list is :\", llist.getCountIter())"
   ]
  },
  {
   "cell_type": "code",
   "execution_count": 41,
   "id": "f9d91cd3",
   "metadata": {},
   "outputs": [
    {
     "data": {
      "text/plain": [
       "4"
      ]
     },
     "execution_count": 41,
     "metadata": {},
     "output_type": "execute_result"
    }
   ],
   "source": [
    "llist.getCount()"
   ]
  },
  {
   "cell_type": "code",
   "execution_count": 49,
   "id": "46f0215f",
   "metadata": {},
   "outputs": [
    {
     "data": {
      "text/plain": [
       "True"
      ]
     },
     "execution_count": 49,
     "metadata": {},
     "output_type": "execute_result"
    }
   ],
   "source": [
    "llist.searchIter(4)"
   ]
  },
  {
   "cell_type": "code",
   "execution_count": 50,
   "id": "03b5313a",
   "metadata": {},
   "outputs": [
    {
     "data": {
      "text/plain": [
       "False"
      ]
     },
     "execution_count": 50,
     "metadata": {},
     "output_type": "execute_result"
    }
   ],
   "source": [
    "llist.searchIter(10)"
   ]
  },
  {
   "cell_type": "code",
   "execution_count": 58,
   "id": "907836ef",
   "metadata": {},
   "outputs": [],
   "source": [
    "def searchRec(li, key):\n",
    "    if(not li):\n",
    "        return False\n",
    "    if(li.data==key):\n",
    "        return True\n",
    "    return searchRec(li.next, key)"
   ]
  },
  {
   "cell_type": "code",
   "execution_count": 59,
   "id": "d67951a7",
   "metadata": {},
   "outputs": [
    {
     "data": {
      "text/plain": [
       "True"
      ]
     },
     "execution_count": 59,
     "metadata": {},
     "output_type": "execute_result"
    }
   ],
   "source": [
    "searchRec(llist.head, 4)"
   ]
  },
  {
   "cell_type": "code",
   "execution_count": 60,
   "id": "099e8318",
   "metadata": {},
   "outputs": [
    {
     "data": {
      "text/plain": [
       "False"
      ]
     },
     "execution_count": 60,
     "metadata": {},
     "output_type": "execute_result"
    }
   ],
   "source": [
    "searchRec(llist.head, 14)"
   ]
  },
  {
   "cell_type": "code",
   "execution_count": 63,
   "id": "1fe5869c",
   "metadata": {},
   "outputs": [],
   "source": [
    "def decimanValue(head):\n",
    "    res=0\n",
    "    while(head):\n",
    "        res=(res<<1)+head.data\n",
    "        head=head.next\n",
    "    return res"
   ]
  },
  {
   "cell_type": "code",
   "execution_count": 66,
   "id": "0bf92d09",
   "metadata": {},
   "outputs": [
    {
     "data": {
      "text/plain": [
       "31"
      ]
     },
     "execution_count": 66,
     "metadata": {},
     "output_type": "execute_result"
    }
   ],
   "source": [
    "llist = LinkedList()\n",
    "llist.append(1)\n",
    "llist.append(1)\n",
    "llist.append(1)\n",
    "llist.append(1)\n",
    "llist.append(1)\n",
    "decimanValue(llist.head)"
   ]
  },
  {
   "cell_type": "code",
   "execution_count": 73,
   "id": "4e997711",
   "metadata": {},
   "outputs": [
    {
     "name": "stdout",
     "output_type": "stream",
     "text": [
      "2\n",
      "6\n",
      "4\n",
      "7\n"
     ]
    }
   ],
   "source": [
    "llist.reverse()\n",
    "llist.printList()"
   ]
  },
  {
   "cell_type": "code",
   "execution_count": 76,
   "id": "21d6f1ab",
   "metadata": {},
   "outputs": [
    {
     "name": "stdout",
     "output_type": "stream",
     "text": [
      "9\n",
      "2\n",
      "4\n",
      "1\n",
      "7\n"
     ]
    }
   ],
   "source": [
    "llist=LinkedList()\n",
    "llist.push(7)\n",
    "llist.push(1)\n",
    "llist.push(4)\n",
    "llist.push(2)\n",
    "llist.push(9)\n",
    "\n",
    "llist.printList()"
   ]
  },
  {
   "cell_type": "code",
   "execution_count": 77,
   "id": "eeea1678",
   "metadata": {},
   "outputs": [],
   "source": [
    "llist.deleteNode(2)"
   ]
  },
  {
   "cell_type": "code",
   "execution_count": 78,
   "id": "c9cde1e2",
   "metadata": {},
   "outputs": [
    {
     "name": "stdout",
     "output_type": "stream",
     "text": [
      "9\n",
      "2\n",
      "1\n",
      "7\n"
     ]
    }
   ],
   "source": [
    "llist.printList()"
   ]
  },
  {
   "cell_type": "code",
   "execution_count": 79,
   "id": "6747c7d0",
   "metadata": {},
   "outputs": [],
   "source": [
    "llist.deleteNode(0)"
   ]
  },
  {
   "cell_type": "code",
   "execution_count": 80,
   "id": "e02318e2",
   "metadata": {},
   "outputs": [
    {
     "name": "stdout",
     "output_type": "stream",
     "text": [
      "2\n",
      "1\n",
      "7\n"
     ]
    }
   ],
   "source": [
    "llist.printList()"
   ]
  },
  {
   "cell_type": "code",
   "execution_count": 81,
   "id": "52d57967",
   "metadata": {},
   "outputs": [],
   "source": [
    "def ispalindrome(head):\n",
    "    slow=head\n",
    "    stack=[]\n",
    "    ispalin=True\n",
    "    while(slow):\n",
    "        stack.append(slow.data)\n",
    "        slow=slow.next\n",
    "    \n",
    "    while(head):\n",
    "        i=stack.pop()\n",
    "        if(head.data==i):\n",
    "            ispalin=True\n",
    "        else:\n",
    "            ispalin=False\n",
    "            break\n",
    "        head=head.next\n",
    "    return ispalin"
   ]
  },
  {
   "cell_type": "code",
   "execution_count": 82,
   "id": "b02d4f51",
   "metadata": {},
   "outputs": [
    {
     "name": "stdout",
     "output_type": "stream",
     "text": [
      "1\n",
      "2\n",
      "1\n",
      "2\n",
      "1\n"
     ]
    }
   ],
   "source": [
    "llist=LinkedList()\n",
    "llist.push(1)\n",
    "llist.push(2)\n",
    "llist.push(1)\n",
    "llist.push(2)\n",
    "llist.push(1)\n",
    "llist.printList()"
   ]
  },
  {
   "cell_type": "code",
   "execution_count": 83,
   "id": "b46e918a",
   "metadata": {},
   "outputs": [
    {
     "data": {
      "text/plain": [
       "True"
      ]
     },
     "execution_count": 83,
     "metadata": {},
     "output_type": "execute_result"
    }
   ],
   "source": [
    "ispalindrome(llist.head)"
   ]
  },
  {
   "cell_type": "code",
   "execution_count": 84,
   "id": "7b74435b",
   "metadata": {},
   "outputs": [
    {
     "name": "stdout",
     "output_type": "stream",
     "text": [
      "1\n",
      "2\n",
      "1\n",
      "1\n",
      "1\n"
     ]
    }
   ],
   "source": [
    "llist=LinkedList()\n",
    "llist.push(1)\n",
    "llist.push(1)\n",
    "llist.push(1)\n",
    "llist.push(2)\n",
    "llist.push(1)\n",
    "llist.printList()"
   ]
  },
  {
   "cell_type": "code",
   "execution_count": 85,
   "id": "fbc1ea5b",
   "metadata": {},
   "outputs": [
    {
     "data": {
      "text/plain": [
       "False"
      ]
     },
     "execution_count": 85,
     "metadata": {},
     "output_type": "execute_result"
    }
   ],
   "source": [
    "ispalindrome(llist.head)"
   ]
  },
  {
   "cell_type": "code",
   "execution_count": null,
   "id": "d6c7fec2",
   "metadata": {},
   "outputs": [],
   "source": []
  }
 ],
 "metadata": {
  "kernelspec": {
   "display_name": "Python 3 (ipykernel)",
   "language": "python",
   "name": "python3"
  },
  "language_info": {
   "codemirror_mode": {
    "name": "ipython",
    "version": 3
   },
   "file_extension": ".py",
   "mimetype": "text/x-python",
   "name": "python",
   "nbconvert_exporter": "python",
   "pygments_lexer": "ipython3",
   "version": "3.9.9"
  }
 },
 "nbformat": 4,
 "nbformat_minor": 5
}
